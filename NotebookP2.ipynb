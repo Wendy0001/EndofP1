{
 "cells": [
  {
   "attachments": {},
   "cell_type": "markdown",
   "metadata": {},
   "source": [
    "USING DATA ANALYSIS TO GENERATE INSIGHTS FOR MICROSOFT\n",
    "\n",
    "1. Business Understanding \n",
    "\n",
    "Business Problem\n",
    "The company Microsoft is in a pivotal season of their business where they would want to venture into creating original video content and they want exploratory data analysis done regarding content creation using the data sets provided. The company Microsoft has decided to create a movie studio for the same and want to develop a deeper understanding on creating movies through the guidance of the EDA. My task is to investigate which types of films are doing best at the box office and then translate those findings into actionable insights that the head of Microsoft's new movie studio can use to help decide what type of films to create. You are provided data about movie history ie the ratings, writers, directors, movie basics and what the movies are known for. \n",
    "\n",
    "Problem Statement \n",
    "You are tasked with exploring what type of films are currently doing the best at the box office and translating those findings into actionable insights that Microsoft can use to decide what type of films to create. \n",
    "\n",
    "Defining the Metric for Success\n",
    "a) Data manipulation: It allows data scientists to preprocess, organize, and transform raw data into a more useful and structured format for analysis. It helps in extracting meaningful insights, identifying patterns, and preparing the data for further modeling, visualization, or statistical analysis.\n",
    "b) Evolving business needs: As a data science project progresses, stakeholders may gain new insights or change their priorities, leading to alterations in the project's scope. For example, they might request additional analyses or require different metrics to be measured.\n",
    "c)Analyze financial feasibility: Evaluate the financial viability of entering the movie space. Assess the potential return on investment (ROI) based on factors such as production costs, revenue streams and potential risks.\n",
    "\n",
    "Understanding the Context \n",
    "This step is the process of understanding how data science affects the business of making original video content to gain as much information as possible for better business.\n",
    "\n",
    "Data Relevance \n",
    "The relevance of data depends on the credibility and trustworthiness of the data source. Data from reputable and reliable sources are generally considered more relevant and trustworthy. By ensuring data relevance, data scientists can improve the accuracy and applicability of their analysis, leading to more reliable insights and informed decision-making.\n"
   ]
  },
  {
   "attachments": {},
   "cell_type": "markdown",
   "metadata": {},
   "source": [
    "2. Data Understanding \n",
    "is a critical step in the data science workflow that enables researchers and analysts to gain insights into the data, identify potential issues, and make informed decisions on data preprocessing.\n"
   ]
  },
  {
   "cell_type": "code",
   "execution_count": 4,
   "metadata": {},
   "outputs": [],
   "source": [
    "import pandas as pd\n",
    "import numpy as np\n",
    "import seaborn as sns\n",
    "import matplotlib.pyplot as plt\n",
    "%matplotlib inline"
   ]
  },
  {
   "cell_type": "code",
   "execution_count": 5,
   "metadata": {},
   "outputs": [],
   "source": [
    "df_gross = pd.read_csv('Data\\movies_gross.csv')\n",
    "df_budgets = pd.read_csv('Data\\movie_budgets.csv')"
   ]
  },
  {
   "cell_type": "code",
   "execution_count": 7,
   "metadata": {},
   "outputs": [
    {
     "data": {
      "text/plain": [
       "(3387, 5)"
      ]
     },
     "execution_count": 7,
     "metadata": {},
     "output_type": "execute_result"
    }
   ],
   "source": [
    "#investigate the data shape\n",
    "\n",
    "df_gross.shape"
   ]
  },
  {
   "cell_type": "code",
   "execution_count": 8,
   "metadata": {},
   "outputs": [
    {
     "data": {
      "text/plain": [
       "(5782, 6)"
      ]
     },
     "execution_count": 8,
     "metadata": {},
     "output_type": "execute_result"
    }
   ],
   "source": [
    "#investigate the data shape\n",
    "df_budgets.shape"
   ]
  },
  {
   "cell_type": "code",
   "execution_count": 9,
   "metadata": {},
   "outputs": [
    {
     "data": {
      "text/plain": [
       "id                    int64\n",
       "release_date         object\n",
       "movie                object\n",
       "production_budget    object\n",
       "domestic_gross       object\n",
       "worldwide_gross      object\n",
       "dtype: object"
      ]
     },
     "execution_count": 9,
     "metadata": {},
     "output_type": "execute_result"
    }
   ],
   "source": [
    "#investigate the data types \n",
    "df_budgets.dtypes"
   ]
  },
  {
   "cell_type": "code",
   "execution_count": 10,
   "metadata": {},
   "outputs": [
    {
     "data": {
      "text/plain": [
       "title              object\n",
       "studio             object\n",
       "domestic_gross    float64\n",
       "foreign_gross      object\n",
       "year                int64\n",
       "dtype: object"
      ]
     },
     "execution_count": 10,
     "metadata": {},
     "output_type": "execute_result"
    }
   ],
   "source": [
    "df_gross.dtypes"
   ]
  },
  {
   "cell_type": "code",
   "execution_count": 11,
   "metadata": {},
   "outputs": [
    {
     "data": {
      "text/plain": [
       "<bound method DataFrame.info of                                             title      studio  domestic_gross   \n",
       "0                                     Toy Story 3          BV     415000000.0  \\\n",
       "1                      Alice in Wonderland (2010)          BV     334200000.0   \n",
       "2     Harry Potter and the Deathly Hallows Part 1          WB     296000000.0   \n",
       "3                                       Inception          WB     292600000.0   \n",
       "4                             Shrek Forever After        P/DW     238700000.0   \n",
       "...                                           ...         ...             ...   \n",
       "3382                                    The Quake       Magn.          6200.0   \n",
       "3383                  Edward II (2018 re-release)          FM          4800.0   \n",
       "3384                                     El Pacto        Sony          2500.0   \n",
       "3385                                     The Swan  Synergetic          2400.0   \n",
       "3386                            An Actor Prepares       Grav.          1700.0   \n",
       "\n",
       "     foreign_gross  year  \n",
       "0        652000000  2010  \n",
       "1        691300000  2010  \n",
       "2        664300000  2010  \n",
       "3        535700000  2010  \n",
       "4        513900000  2010  \n",
       "...            ...   ...  \n",
       "3382           NaN  2018  \n",
       "3383           NaN  2018  \n",
       "3384           NaN  2018  \n",
       "3385           NaN  2018  \n",
       "3386           NaN  2018  \n",
       "\n",
       "[3387 rows x 5 columns]>"
      ]
     },
     "execution_count": 11,
     "metadata": {},
     "output_type": "execute_result"
    }
   ],
   "source": [
    "df_gross.info"
   ]
  },
  {
   "cell_type": "code",
   "execution_count": 12,
   "metadata": {},
   "outputs": [
    {
     "data": {
      "text/plain": [
       "<bound method NDFrame.describe of                                             title      studio  domestic_gross   \n",
       "0                                     Toy Story 3          BV     415000000.0  \\\n",
       "1                      Alice in Wonderland (2010)          BV     334200000.0   \n",
       "2     Harry Potter and the Deathly Hallows Part 1          WB     296000000.0   \n",
       "3                                       Inception          WB     292600000.0   \n",
       "4                             Shrek Forever After        P/DW     238700000.0   \n",
       "...                                           ...         ...             ...   \n",
       "3382                                    The Quake       Magn.          6200.0   \n",
       "3383                  Edward II (2018 re-release)          FM          4800.0   \n",
       "3384                                     El Pacto        Sony          2500.0   \n",
       "3385                                     The Swan  Synergetic          2400.0   \n",
       "3386                            An Actor Prepares       Grav.          1700.0   \n",
       "\n",
       "     foreign_gross  year  \n",
       "0        652000000  2010  \n",
       "1        691300000  2010  \n",
       "2        664300000  2010  \n",
       "3        535700000  2010  \n",
       "4        513900000  2010  \n",
       "...            ...   ...  \n",
       "3382           NaN  2018  \n",
       "3383           NaN  2018  \n",
       "3384           NaN  2018  \n",
       "3385           NaN  2018  \n",
       "3386           NaN  2018  \n",
       "\n",
       "[3387 rows x 5 columns]>"
      ]
     },
     "execution_count": 12,
     "metadata": {},
     "output_type": "execute_result"
    }
   ],
   "source": [
    "df_gross.describe"
   ]
  },
  {
   "attachments": {},
   "cell_type": "markdown",
   "metadata": {},
   "source": [
    "Data Preparation \n",
    "also known as data preprocessing, is a crucial step in data science and involves transforming raw data into a clean, organized, and structured format suitable for analysis. It encompasses a series of operations and techniques applied to the data to address issues such as missing values, outliers, inconsistencies and formatting discrepancies. "
   ]
  },
  {
   "cell_type": "code",
   "execution_count": 6,
   "metadata": {},
   "outputs": [],
   "source": [
    "#Data integration, my list of df\n",
    "list_of_dataframes = [df_budgets, df_gross ]\n",
    "df = pd.concat(list_of_dataframes)"
   ]
  },
  {
   "cell_type": "code",
   "execution_count": 12,
   "metadata": {},
   "outputs": [
    {
     "data": {
      "text/html": [
       "<div>\n",
       "<style scoped>\n",
       "    .dataframe tbody tr th:only-of-type {\n",
       "        vertical-align: middle;\n",
       "    }\n",
       "\n",
       "    .dataframe tbody tr th {\n",
       "        vertical-align: top;\n",
       "    }\n",
       "\n",
       "    .dataframe thead th {\n",
       "        text-align: right;\n",
       "    }\n",
       "</style>\n",
       "<table border=\"1\" class=\"dataframe\">\n",
       "  <thead>\n",
       "    <tr style=\"text-align: right;\">\n",
       "      <th></th>\n",
       "      <th>id</th>\n",
       "      <th>release_date</th>\n",
       "      <th>movie</th>\n",
       "      <th>production_budget</th>\n",
       "      <th>domestic_gross</th>\n",
       "      <th>worldwide_gross</th>\n",
       "      <th>title</th>\n",
       "      <th>studio</th>\n",
       "      <th>foreign_gross</th>\n",
       "      <th>year</th>\n",
       "    </tr>\n",
       "  </thead>\n",
       "  <tbody>\n",
       "    <tr>\n",
       "      <th>0</th>\n",
       "      <td>1.0</td>\n",
       "      <td>18-Dec-09</td>\n",
       "      <td>Avatar</td>\n",
       "      <td>$425,000,000</td>\n",
       "      <td>$760,507,625</td>\n",
       "      <td>$2,776,345,279</td>\n",
       "      <td>NaN</td>\n",
       "      <td>NaN</td>\n",
       "      <td>NaN</td>\n",
       "      <td>NaN</td>\n",
       "    </tr>\n",
       "    <tr>\n",
       "      <th>1</th>\n",
       "      <td>2.0</td>\n",
       "      <td>20-May-11</td>\n",
       "      <td>Pirates of the Caribbean: On Stranger Tides</td>\n",
       "      <td>$410,600,000</td>\n",
       "      <td>$241,063,875</td>\n",
       "      <td>$1,045,663,875</td>\n",
       "      <td>NaN</td>\n",
       "      <td>NaN</td>\n",
       "      <td>NaN</td>\n",
       "      <td>NaN</td>\n",
       "    </tr>\n",
       "    <tr>\n",
       "      <th>2</th>\n",
       "      <td>3.0</td>\n",
       "      <td>7-Jun-19</td>\n",
       "      <td>Dark Phoenix</td>\n",
       "      <td>$350,000,000</td>\n",
       "      <td>$42,762,350</td>\n",
       "      <td>$149,762,350</td>\n",
       "      <td>NaN</td>\n",
       "      <td>NaN</td>\n",
       "      <td>NaN</td>\n",
       "      <td>NaN</td>\n",
       "    </tr>\n",
       "    <tr>\n",
       "      <th>3</th>\n",
       "      <td>4.0</td>\n",
       "      <td>1-May-15</td>\n",
       "      <td>Avengers: Age of Ultron</td>\n",
       "      <td>$330,600,000</td>\n",
       "      <td>$459,005,868</td>\n",
       "      <td>$1,403,013,963</td>\n",
       "      <td>NaN</td>\n",
       "      <td>NaN</td>\n",
       "      <td>NaN</td>\n",
       "      <td>NaN</td>\n",
       "    </tr>\n",
       "    <tr>\n",
       "      <th>4</th>\n",
       "      <td>5.0</td>\n",
       "      <td>15-Dec-17</td>\n",
       "      <td>Star Wars Ep. VIII: The Last Jedi</td>\n",
       "      <td>$317,000,000</td>\n",
       "      <td>$620,181,382</td>\n",
       "      <td>$1,316,721,747</td>\n",
       "      <td>NaN</td>\n",
       "      <td>NaN</td>\n",
       "      <td>NaN</td>\n",
       "      <td>NaN</td>\n",
       "    </tr>\n",
       "  </tbody>\n",
       "</table>\n",
       "</div>"
      ],
      "text/plain": [
       "    id release_date                                        movie   \n",
       "0  1.0    18-Dec-09                                       Avatar  \\\n",
       "1  2.0    20-May-11  Pirates of the Caribbean: On Stranger Tides   \n",
       "2  3.0     7-Jun-19                                 Dark Phoenix   \n",
       "3  4.0     1-May-15                      Avengers: Age of Ultron   \n",
       "4  5.0    15-Dec-17            Star Wars Ep. VIII: The Last Jedi   \n",
       "\n",
       "  production_budget domestic_gross  worldwide_gross title studio   \n",
       "0     $425,000,000   $760,507,625   $2,776,345,279    NaN    NaN  \\\n",
       "1     $410,600,000   $241,063,875   $1,045,663,875    NaN    NaN   \n",
       "2     $350,000,000    $42,762,350     $149,762,350    NaN    NaN   \n",
       "3     $330,600,000   $459,005,868   $1,403,013,963    NaN    NaN   \n",
       "4     $317,000,000   $620,181,382   $1,316,721,747    NaN    NaN   \n",
       "\n",
       "  foreign_gross  year  \n",
       "0           NaN   NaN  \n",
       "1           NaN   NaN  \n",
       "2           NaN   NaN  \n",
       "3           NaN   NaN  \n",
       "4           NaN   NaN  "
      ]
     },
     "execution_count": 12,
     "metadata": {},
     "output_type": "execute_result"
    }
   ],
   "source": [
    "df.head()"
   ]
  },
  {
   "cell_type": "code",
   "execution_count": 14,
   "metadata": {},
   "outputs": [
    {
     "data": {
      "text/plain": [
       "id                   float64\n",
       "release_date          object\n",
       "movie                 object\n",
       "production_budget     object\n",
       "domestic_gross        object\n",
       "worldwide_gross       object\n",
       "title                 object\n",
       "studio                object\n",
       "foreign_gross         object\n",
       "year                 float64\n",
       "dtype: object"
      ]
     },
     "execution_count": 14,
     "metadata": {},
     "output_type": "execute_result"
    }
   ],
   "source": [
    "df.dtypes"
   ]
  },
  {
   "cell_type": "code",
   "execution_count": 9,
   "metadata": {},
   "outputs": [
    {
     "data": {
      "text/plain": [
       "3387"
      ]
     },
     "execution_count": 9,
     "metadata": {},
     "output_type": "execute_result"
    }
   ],
   "source": [
    "#find missing values for the column production budget \n",
    "df['production_budget'].isna().sum()"
   ]
  },
  {
   "cell_type": "code",
   "execution_count": 11,
   "metadata": {},
   "outputs": [
    {
     "data": {
      "text/plain": [
       "0       $425,000,000 \n",
       "1       $410,600,000 \n",
       "2       $350,000,000 \n",
       "3       $330,600,000 \n",
       "4       $317,000,000 \n",
       "            ...      \n",
       "5777          $7,000 \n",
       "5778          $6,000 \n",
       "5779          $5,000 \n",
       "5780          $1,400 \n",
       "5781          $1,100 \n",
       "Name: production_budget, Length: 5782, dtype: object"
      ]
     },
     "execution_count": 11,
     "metadata": {},
     "output_type": "execute_result"
    }
   ],
   "source": [
    "#drop missing values \n",
    "df['production_budget'].dropna()"
   ]
  },
  {
   "cell_type": "code",
   "execution_count": 13,
   "metadata": {},
   "outputs": [
    {
     "data": {
      "text/html": [
       "<div>\n",
       "<style scoped>\n",
       "    .dataframe tbody tr th:only-of-type {\n",
       "        vertical-align: middle;\n",
       "    }\n",
       "\n",
       "    .dataframe tbody tr th {\n",
       "        vertical-align: top;\n",
       "    }\n",
       "\n",
       "    .dataframe thead th {\n",
       "        text-align: right;\n",
       "    }\n",
       "</style>\n",
       "<table border=\"1\" class=\"dataframe\">\n",
       "  <thead>\n",
       "    <tr style=\"text-align: right;\">\n",
       "      <th></th>\n",
       "      <th>id</th>\n",
       "      <th>release_date</th>\n",
       "      <th>movie</th>\n",
       "      <th>production_budget</th>\n",
       "      <th>domestic_gross</th>\n",
       "      <th>worldwide_gross</th>\n",
       "      <th>title</th>\n",
       "      <th>studio</th>\n",
       "      <th>foreign_gross</th>\n",
       "      <th>year</th>\n",
       "    </tr>\n",
       "  </thead>\n",
       "  <tbody>\n",
       "    <tr>\n",
       "      <th>0</th>\n",
       "      <td>1.0</td>\n",
       "      <td>18-Dec-09</td>\n",
       "      <td>Avatar</td>\n",
       "      <td>$425,000,000</td>\n",
       "      <td>$760,507,625</td>\n",
       "      <td>$2,776,345,279</td>\n",
       "      <td>NaN</td>\n",
       "      <td>NaN</td>\n",
       "      <td>NaN</td>\n",
       "      <td>NaN</td>\n",
       "    </tr>\n",
       "    <tr>\n",
       "      <th>1</th>\n",
       "      <td>2.0</td>\n",
       "      <td>20-May-11</td>\n",
       "      <td>Pirates of the Caribbean: On Stranger Tides</td>\n",
       "      <td>$410,600,000</td>\n",
       "      <td>$241,063,875</td>\n",
       "      <td>$1,045,663,875</td>\n",
       "      <td>NaN</td>\n",
       "      <td>NaN</td>\n",
       "      <td>NaN</td>\n",
       "      <td>NaN</td>\n",
       "    </tr>\n",
       "    <tr>\n",
       "      <th>2</th>\n",
       "      <td>3.0</td>\n",
       "      <td>7-Jun-19</td>\n",
       "      <td>Dark Phoenix</td>\n",
       "      <td>$350,000,000</td>\n",
       "      <td>$42,762,350</td>\n",
       "      <td>$149,762,350</td>\n",
       "      <td>NaN</td>\n",
       "      <td>NaN</td>\n",
       "      <td>NaN</td>\n",
       "      <td>NaN</td>\n",
       "    </tr>\n",
       "    <tr>\n",
       "      <th>3</th>\n",
       "      <td>4.0</td>\n",
       "      <td>1-May-15</td>\n",
       "      <td>Avengers: Age of Ultron</td>\n",
       "      <td>$330,600,000</td>\n",
       "      <td>$459,005,868</td>\n",
       "      <td>$1,403,013,963</td>\n",
       "      <td>NaN</td>\n",
       "      <td>NaN</td>\n",
       "      <td>NaN</td>\n",
       "      <td>NaN</td>\n",
       "    </tr>\n",
       "    <tr>\n",
       "      <th>4</th>\n",
       "      <td>5.0</td>\n",
       "      <td>15-Dec-17</td>\n",
       "      <td>Star Wars Ep. VIII: The Last Jedi</td>\n",
       "      <td>$317,000,000</td>\n",
       "      <td>$620,181,382</td>\n",
       "      <td>$1,316,721,747</td>\n",
       "      <td>NaN</td>\n",
       "      <td>NaN</td>\n",
       "      <td>NaN</td>\n",
       "      <td>NaN</td>\n",
       "    </tr>\n",
       "    <tr>\n",
       "      <th>...</th>\n",
       "      <td>...</td>\n",
       "      <td>...</td>\n",
       "      <td>...</td>\n",
       "      <td>...</td>\n",
       "      <td>...</td>\n",
       "      <td>...</td>\n",
       "      <td>...</td>\n",
       "      <td>...</td>\n",
       "      <td>...</td>\n",
       "      <td>...</td>\n",
       "    </tr>\n",
       "    <tr>\n",
       "      <th>5777</th>\n",
       "      <td>78.0</td>\n",
       "      <td>31-Dec-18</td>\n",
       "      <td>Red 11</td>\n",
       "      <td>$7,000</td>\n",
       "      <td>$0</td>\n",
       "      <td>$0</td>\n",
       "      <td>NaN</td>\n",
       "      <td>NaN</td>\n",
       "      <td>NaN</td>\n",
       "      <td>NaN</td>\n",
       "    </tr>\n",
       "    <tr>\n",
       "      <th>5778</th>\n",
       "      <td>79.0</td>\n",
       "      <td>2-Apr-99</td>\n",
       "      <td>Following</td>\n",
       "      <td>$6,000</td>\n",
       "      <td>$48,482</td>\n",
       "      <td>$240,495</td>\n",
       "      <td>NaN</td>\n",
       "      <td>NaN</td>\n",
       "      <td>NaN</td>\n",
       "      <td>NaN</td>\n",
       "    </tr>\n",
       "    <tr>\n",
       "      <th>5779</th>\n",
       "      <td>80.0</td>\n",
       "      <td>13-Jul-05</td>\n",
       "      <td>Return to the Land of Wonders</td>\n",
       "      <td>$5,000</td>\n",
       "      <td>$1,338</td>\n",
       "      <td>$1,338</td>\n",
       "      <td>NaN</td>\n",
       "      <td>NaN</td>\n",
       "      <td>NaN</td>\n",
       "      <td>NaN</td>\n",
       "    </tr>\n",
       "    <tr>\n",
       "      <th>5780</th>\n",
       "      <td>81.0</td>\n",
       "      <td>29-Sep-15</td>\n",
       "      <td>A Plague So Pleasant</td>\n",
       "      <td>$1,400</td>\n",
       "      <td>$0</td>\n",
       "      <td>$0</td>\n",
       "      <td>NaN</td>\n",
       "      <td>NaN</td>\n",
       "      <td>NaN</td>\n",
       "      <td>NaN</td>\n",
       "    </tr>\n",
       "    <tr>\n",
       "      <th>5781</th>\n",
       "      <td>82.0</td>\n",
       "      <td>5-Aug-05</td>\n",
       "      <td>My Date With Drew</td>\n",
       "      <td>$1,100</td>\n",
       "      <td>$181,041</td>\n",
       "      <td>$181,041</td>\n",
       "      <td>NaN</td>\n",
       "      <td>NaN</td>\n",
       "      <td>NaN</td>\n",
       "      <td>NaN</td>\n",
       "    </tr>\n",
       "  </tbody>\n",
       "</table>\n",
       "<p>5782 rows × 10 columns</p>\n",
       "</div>"
      ],
      "text/plain": [
       "        id release_date                                        movie   \n",
       "0      1.0    18-Dec-09                                       Avatar  \\\n",
       "1      2.0    20-May-11  Pirates of the Caribbean: On Stranger Tides   \n",
       "2      3.0     7-Jun-19                                 Dark Phoenix   \n",
       "3      4.0     1-May-15                      Avengers: Age of Ultron   \n",
       "4      5.0    15-Dec-17            Star Wars Ep. VIII: The Last Jedi   \n",
       "...    ...          ...                                          ...   \n",
       "5777  78.0    31-Dec-18                                       Red 11   \n",
       "5778  79.0     2-Apr-99                                    Following   \n",
       "5779  80.0    13-Jul-05                Return to the Land of Wonders   \n",
       "5780  81.0    29-Sep-15                         A Plague So Pleasant   \n",
       "5781  82.0     5-Aug-05                            My Date With Drew   \n",
       "\n",
       "     production_budget domestic_gross  worldwide_gross title studio   \n",
       "0        $425,000,000   $760,507,625   $2,776,345,279    NaN    NaN  \\\n",
       "1        $410,600,000   $241,063,875   $1,045,663,875    NaN    NaN   \n",
       "2        $350,000,000    $42,762,350     $149,762,350    NaN    NaN   \n",
       "3        $330,600,000   $459,005,868   $1,403,013,963    NaN    NaN   \n",
       "4        $317,000,000   $620,181,382   $1,316,721,747    NaN    NaN   \n",
       "...                ...            ...              ...   ...    ...   \n",
       "5777           $7,000             $0               $0    NaN    NaN   \n",
       "5778           $6,000        $48,482         $240,495    NaN    NaN   \n",
       "5779           $5,000         $1,338           $1,338    NaN    NaN   \n",
       "5780           $1,400             $0               $0    NaN    NaN   \n",
       "5781           $1,100       $181,041         $181,041    NaN    NaN   \n",
       "\n",
       "     foreign_gross  year  \n",
       "0              NaN   NaN  \n",
       "1              NaN   NaN  \n",
       "2              NaN   NaN  \n",
       "3              NaN   NaN  \n",
       "4              NaN   NaN  \n",
       "...            ...   ...  \n",
       "5777           NaN   NaN  \n",
       "5778           NaN   NaN  \n",
       "5779           NaN   NaN  \n",
       "5780           NaN   NaN  \n",
       "5781           NaN   NaN  \n",
       "\n",
       "[5782 rows x 10 columns]"
      ]
     },
     "execution_count": 13,
     "metadata": {},
     "output_type": "execute_result"
    }
   ],
   "source": [
    "df.dropna(subset=['domestic_gross', 'worldwide_gross'])"
   ]
  },
  {
   "cell_type": "code",
   "execution_count": 17,
   "metadata": {},
   "outputs": [
    {
     "data": {
      "text/plain": [
       "(9169, 4)"
      ]
     },
     "execution_count": 17,
     "metadata": {},
     "output_type": "execute_result"
    }
   ],
   "source": [
    "#filter data on relevant columns \n",
    "relevant_columns = [\n",
    "    \"movie\",\n",
    "    \"production_budget\",\n",
    "    \"worldwide_gross\",\n",
    "    \"domestic_gross\"\n",
    "]\n",
    "df= df[relevant_columns]\n",
    "df.shape"
   ]
  },
  {
   "cell_type": "code",
   "execution_count": 25,
   "metadata": {},
   "outputs": [
    {
     "name": "stdout",
     "output_type": "stream",
     "text": [
      "0       425000000 \n",
      "1       410600000 \n",
      "2       350000000 \n",
      "3       330600000 \n",
      "4       317000000 \n",
      "           ...    \n",
      "3382           NaN\n",
      "3383           NaN\n",
      "3384           NaN\n",
      "3385           NaN\n",
      "3386           NaN\n",
      "Name: production_budget, Length: 9169, dtype: object\n"
     ]
    }
   ],
   "source": [
    "#remove commas from object column \n",
    "df['production_budget'] = df['production_budget'].str.replace(',', '')\n",
    "df['production_budget'] = df['production_budget'].str.replace('$', '')\n",
    "print(df['production_budget'])"
   ]
  },
  {
   "cell_type": "code",
   "execution_count": 44,
   "metadata": {},
   "outputs": [
    {
     "name": "stdout",
     "output_type": "stream",
     "text": [
      "0       2776345279.0\n",
      "1       1045663875.0\n",
      "2        149762350.0\n",
      "3       1403013963.0\n",
      "4       1316721747.0\n",
      "            ...     \n",
      "5777             0.0\n",
      "5778        240495.0\n",
      "5779          1338.0\n",
      "5780             0.0\n",
      "5781        181041.0\n",
      "Name: worldwide_gross, Length: 5782, dtype: object\n"
     ]
    }
   ],
   "source": [
    "df['worldwide_gross'] = df['worldwide_gross'].str.replace(',', '')\n",
    "df['worldwide_gross'] = df['worldwide_gross'].str.replace('$', '')\n",
    "print(df['worldwide_gross'])"
   ]
  },
  {
   "cell_type": "code",
   "execution_count": 23,
   "metadata": {},
   "outputs": [
    {
     "name": "stdout",
     "output_type": "stream",
     "text": [
      "0       760507625 \n",
      "1       241063875 \n",
      "2        42762350 \n",
      "3       459005868 \n",
      "4       620181382 \n",
      "           ...    \n",
      "3382           NaN\n",
      "3383           NaN\n",
      "3384           NaN\n",
      "3385           NaN\n",
      "3386           NaN\n",
      "Name: domestic_gross, Length: 9169, dtype: object\n"
     ]
    }
   ],
   "source": [
    "df['domestic_gross'] = df['domestic_gross'].str.replace(',', '')\n",
    "df['domestic_gross'] = df['domestic_gross'].str.replace('$', '')\n",
    "print(df['domestic_gross'])"
   ]
  },
  {
   "cell_type": "code",
   "execution_count": 40,
   "metadata": {},
   "outputs": [
    {
     "name": "stdout",
     "output_type": "stream",
     "text": [
      "movie                 object\n",
      "production_budget    float64\n",
      "worldwide_gross      float64\n",
      "domestic_gross       float64\n",
      "dtype: object\n"
     ]
    }
   ],
   "source": [
    "#convert these columns to float\n",
    "columns_to_convert = [\"production_budget\", \"worldwide_gross\", \"domestic_gross\"]\n",
    "df[columns_to_convert] = df[columns_to_convert].astype(float)\n",
    "\n",
    "print(df.dtypes)"
   ]
  },
  {
   "cell_type": "code",
   "execution_count": 28,
   "metadata": {},
   "outputs": [
    {
     "data": {
      "text/plain": [
       "(5782,)"
      ]
     },
     "execution_count": 28,
     "metadata": {},
     "output_type": "execute_result"
    }
   ],
   "source": [
    "#drop rows with missing values\n",
    "df = df.dropna(subset= ['production_budget'])\n",
    "df['production_budget'].shape"
   ]
  },
  {
   "cell_type": "code",
   "execution_count": 31,
   "metadata": {},
   "outputs": [
    {
     "data": {
      "text/plain": [
       "(5782,)"
      ]
     },
     "execution_count": 31,
     "metadata": {},
     "output_type": "execute_result"
    }
   ],
   "source": [
    "df = df.dropna(subset= ['worldwide_gross'])\n",
    "df['worldwide_gross'].shape"
   ]
  },
  {
   "cell_type": "code",
   "execution_count": 68,
   "metadata": {},
   "outputs": [
    {
     "data": {
      "text/plain": [
       "0    425000000.0\n",
       "1    410600000.0\n",
       "2    350000000.0\n",
       "3    330600000.0\n",
       "4    317000000.0\n",
       "5    306000000.0\n",
       "6    300000000.0\n",
       "7    300000000.0\n",
       "8    300000000.0\n",
       "9    300000000.0\n",
       "Name: production_budget, dtype: float64"
      ]
     },
     "execution_count": 68,
     "metadata": {},
     "output_type": "execute_result"
    }
   ],
   "source": [
    "# Get the top 10 values from column production budget \n",
    "top_10_pro_budget = df['production_budget'].nlargest(10)\n",
    "top_10_pro_budget"
   ]
  },
  {
   "cell_type": "code",
   "execution_count": 60,
   "metadata": {},
   "outputs": [
    {
     "name": "stdout",
     "output_type": "stream",
     "text": [
      "object\n"
     ]
    }
   ],
   "source": [
    "df['worldwide_gross'] = df['worldwide_gross'].astype(str)\n",
    "print(df['worldwide_gross'].dtypes)\n"
   ]
  },
  {
   "cell_type": "code",
   "execution_count": 61,
   "metadata": {},
   "outputs": [
    {
     "data": {
      "text/plain": [
       "0       2776345279000\n",
       "1       1045663875000\n",
       "2        149762350000\n",
       "3       1403013963000\n",
       "4       1316721747000\n",
       "            ...      \n",
       "5777               00\n",
       "5778        240495000\n",
       "5779          1338000\n",
       "5780               00\n",
       "5781        181041000\n",
       "Name: worldwide_gross, Length: 5782, dtype: object"
      ]
     },
     "execution_count": 61,
     "metadata": {},
     "output_type": "execute_result"
    }
   ],
   "source": [
    "df['worldwide_gross'] = df['worldwide_gross'].str.replace('.', '')\n",
    "df['worldwide_gross'] = df['worldwide_gross'].str.replace('+', '')\n",
    "df['worldwide_gross']"
   ]
  },
  {
   "cell_type": "code",
   "execution_count": 63,
   "metadata": {},
   "outputs": [
    {
     "name": "stdout",
     "output_type": "stream",
     "text": [
      "0       2.776345e+12\n",
      "1       1.045664e+12\n",
      "2       1.497624e+11\n",
      "3       1.403014e+12\n",
      "4       1.316722e+12\n",
      "            ...     \n",
      "5777    0.000000e+00\n",
      "5778    2.404950e+08\n",
      "5779    1.338000e+06\n",
      "5780    0.000000e+00\n",
      "5781    1.810410e+08\n",
      "Name: worldwide_gross, Length: 5782, dtype: float64\n"
     ]
    }
   ],
   "source": [
    "# Convert column worldwide gross to float data type\n",
    "df['worldwide_gross'] = df['worldwide_gross'].astype(float)\n",
    "\n",
    "print(df['worldwide_gross'])"
   ]
  },
  {
   "cell_type": "code",
   "execution_count": 69,
   "metadata": {},
   "outputs": [
    {
     "data": {
      "text/plain": [
       "0      2.776345e+12\n",
       "42     2.208208e+12\n",
       "5      2.053311e+12\n",
       "6      2.048134e+12\n",
       "33     1.648855e+12\n",
       "66     1.518723e+12\n",
       "26     1.517936e+12\n",
       "3      1.403014e+12\n",
       "41     1.348258e+12\n",
       "260    1.341693e+12\n",
       "Name: worldwide_gross, dtype: float64"
      ]
     },
     "execution_count": 69,
     "metadata": {},
     "output_type": "execute_result"
    }
   ],
   "source": [
    "top_10_world_gross = df['worldwide_gross'].nlargest(10)\n",
    "top_10_world_gross"
   ]
  },
  {
   "cell_type": "code",
   "execution_count": 70,
   "metadata": {},
   "outputs": [
    {
     "data": {
      "text/plain": [
       "5     936662225.0\n",
       "0     760507625.0\n",
       "41    700059566.0\n",
       "6     678815482.0\n",
       "42    659363944.0\n",
       "33    652270625.0\n",
       "26    623279547.0\n",
       "4     620181382.0\n",
       "43    608581744.0\n",
       "74    533720947.0\n",
       "Name: domestic_gross, dtype: float64"
      ]
     },
     "execution_count": 70,
     "metadata": {},
     "output_type": "execute_result"
    }
   ],
   "source": [
    "top_10_dom_gross = df['domestic_gross'].nlargest(10)\n",
    "top_10_dom_gross"
   ]
  },
  {
   "cell_type": "code",
   "execution_count": 77,
   "metadata": {},
   "outputs": [
    {
     "data": {
      "text/plain": [
       "Index(['movie', 'production_budget', 'worldwide_gross', 'domestic_gross'], dtype='object')"
      ]
     },
     "execution_count": 77,
     "metadata": {},
     "output_type": "execute_result"
    }
   ],
   "source": [
    "df.columns"
   ]
  },
  {
   "cell_type": "code",
   "execution_count": 85,
   "metadata": {},
   "outputs": [
    {
     "name": "stdout",
     "output_type": "stream",
     "text": [
      "['Avatar', 'Pirates of the Caribbean: On Stranger Tides', 'Dark Phoenix', 'Avengers: Age of Ultron', 'Star Wars Ep. VIII: The Last Jedi', 'Star Wars Ep. VII: The Force Awakens', 'Avengers: Infinity War', 'Pirates of the Caribbean: At Worldâ\\x80\\x99s End', 'Justice League', 'Spectre', 'The Dark Knight Rises', 'Solo: A Star Wars Story', 'The Lone Ranger', 'John Carter', 'Tangled', 'Spider-Man 3', 'Captain America: Civil War', 'Batman v Superman: Dawn of Justice', 'The Hobbit: An Unexpected Journey', 'Harry Potter and the Half-Blood Prince', 'The Hobbit: The Desolation of Smaug', 'The Hobbit: The Battle of the Five Armies', 'The Fate of the Furious', 'Superman Returns', 'Pirates of the Caribbean: Dead Men Tell No Tales', 'Quantum of Solace', 'The Avengers', 'Pirates of the Caribbean: Dead Manâ\\x80\\x99s Chest', 'Man of Steel', 'The Chronicles of Narnia: Prince Caspian', 'The Amazing Spider-Man', 'Battleship', 'Transformers: The Last Knight', 'Jurassic World', 'Men in Black 3', 'Transformers: Revenge of the Fallen', 'Transformers: Age of Extinction', 'X-Men: The Last Stand', 'Robin Hood', 'King Kong', 'The Golden Compass', 'Black Panther', 'Titanic', 'Incredibles 2', 'Rogue One: A Star Wars Story', 'Finding Dory', 'Toy Story 3', 'Iron Man 3', 'Guardians of the Galaxy Vol 2', 'Spider-Man 2', 'Alice in Wonderland', 'Skyfall', 'Monsters University', 'Oz the Great and Powerful', 'X-Men: Days of Future Past', 'The Amazing Spider-Man 2', 'Cars 2', 'Tron: Legacy', '2012', 'Fantastic Beasts: The Crimes of Grindelwald', 'Terminator Salvation', 'Green Lantern', 'Prince of Persia: Sands of Time', 'Transformers: Dark of the Moon', 'The Mummy', 'Jack the Giant Slayer', 'Furious 7', 'Star Trek Into Darkness', 'World War Z', 'The Great Gatsby', 'Disneyâ\\x80\\x99s A Christmas Carol', 'Pacific Rim', 'The Good Dinosaur', 'Iron Man', 'The Dark Knight', 'Indiana Jones and the Kingdom of the Crystal Skull', 'Brave', 'Kong: Skull Island', 'Star Trek Beyond', 'Blade Runner 2049', 'Aladdin', 'Thor: Ragnarok', 'The Chronicles of Narnia: The Lion, the Witch and the Wardrobe', 'Maleficent', 'Fantastic Beasts and Where to Find Them', 'WALL-E', 'Rush Hour 3', 'The Legend of Tarzan', 'Hugo', 'Valerian and the City of a Thousand Planets', 'Jupiter Ascending', 'Mission: Impossibleâ\\x80\\x94Fallout', 'X-Men: Apocalypse', 'The Meg', 'Edge of Tomorrow', 'Captain Marvel', 'The Jungle Book', 'Inside Out', 'Spider-Man: Homecoming', 'Suicide Squad', 'Up', 'Coco', 'Ralph Breaks The Internet', 'Monsters vs. Aliens', 'Cars 3', 'G.I. Joe: The Rise of Cobra', 'Wild Wild West', 'The Mummy: Tomb of the Dragon Emperor', 'Evan Almighty', 'Waterworld', 'King Arthur: Legend of the Sword', '47 Ronin', 'Jurassic World: Fallen Kingdom', 'Guardians of the Galaxy', 'Iron Man 2', 'Captain America: The Winter Soldier', 'Dawn of the Planet of the Apes', 'The Polar Express', 'Snow White and the Huntsman', 'Terminator 3: Rise of the Machines', 'Van Helsing', 'Dumbo', 'Tomorrowland', 'Alita: Battle Angel', 'Godzilla: King of the Monsters', 'Alice Through the Looking Glass', 'Shrek Forever After', 'Doctor Strange', 'Big Hero 6', 'How to Train Your Dragon', 'Wreck-It Ralph', 'Interstellar', 'Independence Day: Resurgence', 'Cowboys and Aliens', 'Beauty and the Beast', 'Aquaman', 'Shrek the Third', 'Inception', 'The Hunger Games: Mockingjay - Part 2', 'Fast and Furious 6', 'Godzilla', 'X-Men: First Class', 'The Curious Case of Benjamin Button', \"The Sorcerer's Apprentice\", 'Poseidon', 'Warcraft', 'Deepwater Horizon', 'The Chronicles of Narnia: The Voyage of the Dawn Treader', 'Terminator: Genisys', 'Pacific Rim: Uprising', 'Alexander', 'War for the Planet of the Apes', 'Pearl Harbor', 'Transformers', 'Wonder Woman', 'Frozen', 'Zootopia', 'Harry Potter and the Order of the Phoenix', 'Harry Potter and the Goblet of Fire', 'The Matrix Reloaded', 'I am Legend', 'Moana', 'Hancock', 'Charlie and the Chocolate Factory', 'Ratatouille', 'Thor: The Dark World', 'Batman Begins', 'Mission: Impossibleâ\\x80\\x94Rogue Nation', 'Dunkirk', 'Thor', 'Madagascar: Escape 2 Africa', 'X-Men Origins: Wolverine', 'Night at the Museum: Battle of the Smithsonian', 'Kung Fu Panda 2', 'Mad Max: Fury Road', 'PokÃ©mon: Detective Pikachu', 'The Matrix Revolutions', 'Ready Player One', 'Chicken Little', 'Mission: Impossible III', 'Angels & Demons', 'Troy', 'The Last Airbender', 'Bee Movie', 'G-Force', 'Bolt', 'Wrath of the Titans', 'Beowulf', 'Dark Shadows', 'White House Down', 'The Wolfman', 'The Great Wall', 'Pan', 'Mars Needs Moms', 'Moonfall', 'Flushed Away', \"Madagascar 3: Europe's Most Wanted\", 'Mission: Impossibleâ\\x80\\x94Ghost Protocol', 'How to Train Your Dragon 2', 'Tarzan', 'Mr. Peabody & Sherman', 'Rise of the Guardians', 'Sahara', 'Ghostbusters', 'Die Another Day', 'Pirates of the Caribbean: The Curse of the Black Pearl', 'Star Trek', 'Armageddon', 'Men in Black 2', 'Captain America: The First Avenger', 'Kung Fu Panda 3', 'Lethal Weapon 4', 'G.I. Joe: Retaliation', 'The Last Samurai', 'Fun With Dick And Jane', 'Exodus: Gods and Kings', 'The BFG', 'Gods of Egypt', 'Spider-Man', 'Watchmen', 'Stealth', 'The Incredible Hulk', 'Hulk', 'Final Fantasy: The Spirits Within', 'The Twilight Saga: Breaking Dawn, Part 2', 'The Croods', 'The Revenant', 'The World is Not Enough', 'Rango', 'Master and Commander: The Far Side of the World', 'Turbo', 'Teenage Mutant Ninja Turtles: Out of the Shadows', 'Happy Feet Two', 'Miami Vice', 'The Nutcracker and the Four Realms', 'War of the Worlds', 'Penguins of Madagascar', 'The Hunger Games: Catching Fire', 'Harry Potter and the Prisoner of Azkaban', 'The Bourne Ultimatum', 'Ant-Man and the Wasp', 'Kung Fu Panda', 'Ant-Man', 'Home', 'Mary Poppins Returns', 'Puss in Boots', 'Megamind', 'Bad Boys II', 'Rio 2', 'Salt', 'Noah', 'The Adventures of Tintin', 'After Earth', 'Australia', 'R.I.P.D.', 'How to Train Your Dragon: The Hidden World', 'The Twilight Saga: Breaking Dawn, Part 1', 'Dinosaur', 'Logan', 'Night at the Museum: Secret of the Tomb', 'Harry Potter and the Deathly Hallows: Part II', 'The Hunger Games: Mockingjay - Part 1', 'Harry Potter and the Sorcererâ\\x80\\x99s Stone', 'Harry Potter and the Deathly Hallows: Part I', 'The Da Vinci Code', 'X-Men 2', 'Fast Five', 'Teenage Mutant Ninja Turtles', 'Sherlock Holmes: A Game of Shadows', 'The Day After Tomorrow', 'The Boss Baby', 'Clash of the Titans', 'Trolls', 'Godzilla', 'Prometheus', 'The Bourne Legacy', 'Batman & Robin', 'Skyscraper', 'Total Recall', 'Assassinâ\\x80\\x99s Creed', 'Monster Trucks', 'The 13th Warrior', 'How the Grinch Stole Christmas', 'Mission: Impossible 2', 'The Perfect Storm', 'Jason Bourne', 'Fantastic Four: Rise of the Silver Surfer', 'Life of Pi', 'Ghost Rider', 'Rampage', \"Charlie's Angels: Full Throttle\", 'Elysium', 'Oblivion', 'Power Rangers', 'Stuart Little 2', 'RoboCop', 'The Chronicles of Riddick', 'Fantastic Four', 'Speed Racer', 'The Island', 'How Do You Know?', 'Knight and Day', 'Venom', 'Star Wars Ep. I: The Phantom Menace', 'Star Wars Ep. III: Revenge of the Sith', 'Star Wars Ep. II: Attack of the Clones', 'Monsters, Inc.', 'The Wolverine', \"Dante's Peak\", 'The Huntsman: Winterâ\\x80\\x99s War', 'Windtalkers', 'AstÃ©rix aux Jeux Olympiques', \"Gulliver's Travels\", 'Ferdinand', 'Deadpool 2', 'Gravity', 'Night at the Museum', 'Mr. and Mrs. Smith', 'San Andreas', 'The Smurfs', 'Live Free or Die Hard', 'The Divergent Series: Insurgent', \"Ocean's Twelve\", 'Tomorrow Never Dies', 'The Patriot', '300: Rise of an Empire', 'The Aviator', 'Passengers', 'The Green Hornet', 'Miss Peregrineâ\\x80\\x99s Home for Peculiar Children', 'Real Steel', 'The A-Team', 'The Smurfs 2', 'The Divergent Series: Allegiant', 'The Taking of Pelham 123', \"Ender's Game\", 'Home on the Range', 'Speed 2: Cruise Control', 'Kingdom of Heaven', 'Ghost in the Shell', 'Around the World in 80 Days', 'Men in Black: International', 'The Lord of the Rings: The Fellowship of the Ring', 'The Cat in the Hat', 'Ali', 'The Martian', 'Allied', 'I, Robot', 'Stuart Little', 'The Princess and the Frog', '10,000 B.C.', 'Ice Age: Collision Course', 'Town & Country', 'Kingsman: The Golden Circle', 'Gone in 60 Seconds', 'Gladiator', 'The Hangover 3', 'A Wrinkle in Time', 'Public Enemies', 'Casino Royale', 'Minority Report', 'Bumblebee', 'Cloud Atlas', 'Harry Potter and the Chamber of Secrets', 'Terminator 2: Judgment Day', 'Batman Forever', 'Planet of the Apes', 'National Treasure', 'Django Unchained', 'Little Fockers', 'True Lies', 'American Gangster', 'Cloudy with a Chance of Meatballs', 'The Other Guys', \"Lemony Snicket's A Series of Unfortunate Events\", 'The Wolf of Wall Street', 'Epic', 'Eraser', 'The Hunchback of Notre Dame', \"The Emperor's New Groove\", 'The Expendables 2', 'Where the Wild Things Are', 'Eragon', 'Hercules', 'The Tourist', 'End of Days', 'The Stepford Wives', \"Surf's Up\", 'Blood Diamond', \"Legend of the Guardians: The Owls of Ga'Hoole\", 'Starship Troopers', 'Land of the Lost', 'Peter Pan', 'Wonder Park', 'Catwoman', 'The Expendables 3', 'Treasure Planet', 'Green Zone', 'Geostorm', 'Point Break', 'In the Heart of the Sea', 'Transcendence', 'Son of the Mask', 'Mortal Engines', 'The Adventures of Pluto Nash', 'Jin lÃ\\xadng shÃ\\xad san chai', 'The Peanuts Movie', 'The LEGO Movie 2: The Second Part', 'Robin Hood', 'The Mummy Returns', 'Gangs of New York', 'Alien: Covenant', 'Cinderella', 'Ice Age: Continental Drift', 'Black Hawk Down', 'Sex and the City 2', 'Percy Jackson & the Olympians: The Lightning Thief', 'The Campaign', 'Unstoppable', 'The Fifth Element', 'The Road to El Dorado', 'The Lovely Bones', 'Ben-Hur', 'Seventh Son', 'Finding Nemo', 'The Lord of the Rings: The Return of the King', 'The Lord of the Rings: The Two Towers', 'Lara Croft: Tomb Raider', 'Kingsman: The Secret Service', 'Jurassic Park III', 'Rise of the Planet of the Apes', 'The Spiderwick Chronicles', 'The Incredibles', 'A Good Day to Die Hard', 'The Alamo', 'Cutthroat Island', 'The Secret Life of Walter Mitty', 'Jumanji: Welcome to the Jungle', 'Men in Black', 'Toy Story 2', 'Rush Hour 2', 'Sherlock Holmes', 'Ice Age: Dawn of the Dinosaurs', 'Spider-Man: Into The Spider-Verse 3D', 'What Lies Beneath', 'Rio', 'The Departed', \"Charlie's Angels\", 'Mulan', 'Tropic Thunder', 'The Girl with the Dragon Tattoo', 'Contact', \"You Don't Mess With the Zohan\", 'Die Hard: With a Vengeance', 'The Magnificent Seven', 'Alvin and the Chipmunks: The Road Chip', 'Atlantis: The Lost Empire', 'Valkyrie', 'Pixels', 'Artificial Intelligence: AI', 'The Haunted Mansion', 'Hollow Man', 'The Interpreter', 'Percy Jackson: Sea of Monsters', 'Lara Croft: Tomb Raider: The Cradle of Life', 'Now You See Me 2', 'Spy Game', 'The Saint', 'Mission to Mars', 'Tomb Raider', 'Bicentennial Man', 'King Arthur', 'Volcano', \"The Devil's Own\", 'K-19: The Widowmaker', 'Conan the Barbarian', 'The Three Musketeers', 'The Promise', 'The Nutcracker in 3D', 'Bright', 'Army of the Dead', 'Twister', 'Cinderella Man', 'The Predator', 'Fantastic Four', 'Hannibal', 'Seabiscuit', 'Cast Away', 'Happy Feet', \"Ocean's Eleven\", 'The Bourne Supremacy', 'Air Force One', 'Fast & Furious', 'Horton Hears a Who', 'Divergent', 'Hotel Transylvania', 'Shazam!', 'Enchanted', 'Safe House', 'I Now Pronounce You Chuck and Larry', \"Ocean's Thirteen\", 'Itâ\\x80\\x99s Complicated', 'Enemy of the State', 'Open Season', 'Tower Heist', '102 Dalmatians', 'Mirror Mirror', 'The Holiday', 'The Fast and the Furious: Tokyo Drift', 'Memoirs of a Geisha', 'Enemy at the Gates', 'Last Action Hero', 'The Rundown', 'Arthur Christmas', 'xXx: Return of Xander Cage', 'Meet Joe Black', 'Cats & Dogs: The Revenge of Kitty Galore', 'Collateral Damage', 'Showtime', 'Judge Dredd', 'Zodiac', 'Scott Pilgrim vs. The World', 'The Core', \"Father's Day\", 'The Greatest Showman', 'Scooby-Doo', 'Nutty Professor II: The Klumps', 'RED 2', 'Click', \"Charlotte's Web\", 'Jumper', 'Hellboy II: The Golden Army', 'The Longest Yard', 'The Expendables', 'The 6th Day', 'Call of the Wild', 'Bruce Almighty', 'The Hunger Games', 'The Hangover Part II', 'Mission: Impossible', 'The Lego Batman Movie', 'Hotel Transylvania 2', 'Batman Returns', 'The Mummy', 'Over the Hedge', 'Lilo & Stitch', 'Deep Impact', 'Grown Ups 2', 'Alvin and the Chipmunks: Chipwrecked', 'Get Smart', 'Robots', 'Shutter Island', \"Something's Gotta Give\", 'Four Christmases', 'Face/Off', 'Bedtime Stories', 'Road to Perdition', 'Just Go With It', 'Daredevil', 'Eagle Eye', 'Con Air', 'Yogi Bear', 'Cold Mountain', 'The Book of Eli', 'Flubber', 'The Haunting', 'Space Jam', 'Fury', 'Smallfoot', 'The Pink Panther', 'Zookeeper', 'The Day the Earth Stood Still', 'Conspiracy Theory', 'Six Days, Seven Nights', 'Spirit: Stallion of the Cimarron', 'Swordfish', 'Fantasia 2000 (Theatrical Release)', 'Lost In Space', 'The Manchurian Candidate', 'DÃ©jÃ Vu', 'The Secret Life of Pets 2', 'Bewitched', 'The Time Machine', 'What Dreams May Come', 'Mighty Joe Young', 'The Legend of Zorro', 'Little Nicky', 'Surrogates', 'Evolution', 'The Brothers Grimm', 'Mars Attacks!', 'The Wild', 'Walking with Dinosaurs', 'Thirteen Days', 'Daylight', 'The Last Witch Hunter', 'Pompeii', 'Battlefield Earth: A Saga of the Year 3000', 'Looney Tunes: Back in Action', 'Nine', 'Timeline', 'Oceans', 'Babe: Pig in the City', 'The Postman', 'Red Planet', 'Arthur et les Minimoys', 'The Invasion', 'A Sound of Thunder', 'The Lion King', 'Journey 2: The Mysterious Island', 'Jack and Jill', 'A Beautiful Mind', 'Cloudy with a Chance of Meatballs 2', 'Red Dragon', 'Hidalgo', 'The League of Extraordinary Gentlemen', 'Exorcist: The Beginning', 'AstÃ©rix et ObÃ©lix: Au service de Sa MajestÃ©', 'The Little Prince', 'Renegades', 'The Equalizer 2', 'Despicable Me 2', '2 Fast 2 Furious', 'Children of Men', 'The Adventures of Rocky & Bullwinkle', 'The Secret Life of Pets', 'Independence Day', 'Dr. Seussâ\\x80\\x99 The Grinch', 'Sing', 'Despicable Me 3', 'The Lost World: Jurassic Park', 'Ice Age: The Meltdown', 'Madagascar', 'Grown Ups', 'Shark Tale', 'X-Men', 'Wanted', 'The Rock', '50 First Dates', 'Hairspray', 'Now You See Me', 'Dreamgirls', 'Christopher Robin', 'Inspector Gadget', 'Immortals', 'The Terminal', 'Constantine', 'Monster House', 'Vertical Limit', \"Charlie Wilson's War\", 'Life', 'Be Cool', 'Munich', 'Killers', 'The Man From U.N.C.L.E.', 'Tears of the Sun', 'Lady in the Water', 'Spanglish', 'Bandits', 'Anna and the King', 'First Knight', 'Sucker Punch', 'Hostage', 'Inferno', 'Hollywood Homicide', 'Titan A.E.', 'Flight of the Phoenix', 'Soldier', 'Virus', 'Monkeybone', 'PLAYMOBIL', '355', 'Minions', 'The SpongeBob Movie: Sponge Out of Water', 'Unbreakable', 'Talladega Nights: The Ballad of Ricky Bobby', 'The Angry Birds Movie', 'Snake Eyes', 'Sphere', 'The Simpsons Movie', \"Fool's Gold\", 'Funny People', 'The Kingdom', 'Dr. Dolittle 2', 'Braveheart', 'Jarhead', 'Driven', 'The Majestic', 'Two Brothers', 'The Village', 'Doctor Dolittle', 'Signs', 'Shrek 2', 'Cars', 'Alvin and the Chipmunks: The Squeakquel', 'Who Framed Roger Rabbit?', 'Runaway Bride', 'xXx', 'Oceanâ\\x80\\x99s 8', 'Ransom', 'Inglourious Basterds', 'Hook', 'Die Hard 2', 'S.W.A.T.', 'Daddyâ\\x80\\x99s Home 2', 'Sleepy Hollow', 'Vanilla Sky', 'Hercules', 'Olympus Has Fallen', 'Battle: Los Angeles', 'AVP: Alien Vs. Predator', 'War Horse', 'We Were Soldiers', 'The Monuments Men', 'Storks', 'Star Trek: Insurrection', 'Big Fish', 'Wolf', 'Underworld: Awakening', 'The Lego Ninjago Movie', 'Dracula Untold', 'The Guardian', 'The Abyss', 'Wall Street 2: Money Never Sleeps', 'The Dilemma', 'Rumor Has It', 'The Siege', 'Stardust', 'Rock of Ages', 'Seven Years in Tibet', 'Sky Captain and the World of Tomorrow', 'The Brave One', 'I Spy', 'Bad Company', 'Doom', 'The Finest Hours', 'Escape Plan', 'Killer Elite', 'Hard Rain', \"Hart's War\", 'Rollerball', 'The Legend of Hercules', 'Next', 'Ballistic: Ecks vs. Sever', 'Osmosis Jones', 'Legends of Oz: Dorothyâ\\x80\\x99s Return', 'Blackhat', 'Basic Instinct 2', 'Agora', 'Despicable Me', 'Dinner for Schmucks', 'Red Sparrow', 'The Twilight Saga: Eclipse', 'The Sum of All Fears', 'Ted 2', 'The Score', 'Hall Pass', 'Money Train', 'Dreamcatcher', 'Mystery Men', 'The Insider', 'Downsizing', \"Doctor Seuss' The Lorax\", 'Body of Lies', 'Abraham Lincoln: Vampire Hunter', 'Last Man Standing', 'The Last Legion', 'Entrapment', 'The X Files: Fight the Future', 'Need for Speed', 'Saving Private Ryan', 'What Women Want', 'Lincoln', 'Ice Age', 'Apollo 13', 'The Matrix', 'Hotel Transylvania 3: Summer Vacation', 'Les Miserables', 'The Santa Clause 2', 'Total Recall', \"You've Got Mail\", 'Unbroken', 'Spy!', 'Due Date', 'Step Brothers', 'Jumanji', 'The Mask of Zorro', 'Space Cowboys', 'Annie', 'Cliffhanger', 'Peteâ\\x80\\x99s Dragon', 'Broken Arrow', 'World Trade Center', 'The Kid', 'Mona Lisa Smile', 'The Dictator', 'Eyes Wide Shut', 'This Means War', 'Focus', 'Blade: Trinity', 'Red Dawn', 'We Are Marshall', 'Everest', 'Resident Evil: Retribution', 'Primary Colors', 'Fight Club', 'Death Race', 'The Long Kiss Goodnight', 'Proof of Life', 'Zathura', 'The Missing', 'Elektra', 'Astro Boy', 'I, Frankenstein', 'Hudson Hawk', 'Sin City: A Dame to Kill For', 'Live by Night', 'Lucky Numbers', 'Oliver Twist', 'Tian jiang xiong shi', 'Air Strike', 'Little Man', 'Random Hearts', 'Perfume: The Story of a Murderer', 'Jurassic Park', 'Austin Powers in Goldmember', 'Hop', 'American Assassin', 'Wyatt Earp', 'Clear and Present Danger', 'U-571', 'The American President', 'The Hateful Eight', 'The Love Guru', '3000 Miles to Graceland', 'Gone Girl', 'Blades of Glory', 'Maze Runner: The Scorch Trials', '2 Guns', 'Maze Runner: The Death Cure', 'A Dogâ\\x80\\x99s Way Home', 'Mei Ren Yu', 'Meet the Fockers', 'The Lego Movie', '300', 'Wild Hogs', 'Marley & Me', 'The Green Mile', 'The Truman Show', 'Sully', 'The Bourne Identity', 'Couples Retreat', 'Goldeneye', 'The Italian Job', 'Daddy Day Care', \"The General's Daughter\", 'The Prince of Egypt', 'Collateral', 'Cats & Dogs', 'Two Weeks Notice', 'Antz', 'The Scorpion King', 'Red', 'Starsky & Hutch', 'Days of Thunder', 'Cheaper by the Dozen 2', 'Eat Pray Love', 'Jack Reacher', 'Man on Fire', 'The Family Man', 'Contagion', 'Any Given Sunday', 'The Horse Whisperer', 'Coraline', 'Ladder 49', 'Deep Blue Sea', \"Michael Jackson's This Is It\", 'Kangaroo Jack', 'The Happening', 'London Has Fallen', 'Rules of Engagement', 'The Shaggy Dog', 'Jingle All the Way', 'Hellboy', 'Jack Reacher: Never Go Back', 'Baywatch', 'A Civil Action', 'Joy', 'ParaNorman', 'The Jackal', 'Paycheck', 'Up Close & Personal', 'The Tale of Despereaux', 'The Boxtrolls', 'The Dark Tower', 'The Tuxedo', 'Jack Ryan: Shadow Recruit', 'Under Siege 2: Dark Territory', 'Miss Congeniality 2: Armed and Fabulous', 'Vice', 'Alien: Resurrection', 'Shooter', 'Practical Magic', 'Gangster Squad', 'Smurfs: The Lost Village', 'First Man', 'Year One', 'Edge of Darkness', 'Star Trek: Nemesis', 'Reign of Fire', 'Planet 51', 'Duplicity', 'Righteous Kill', 'Invictus', 'State of Play', 'My Favorite Martian', 'The Sentinel', 'Trouble with the Curve', 'Intolerable Cruelty', 'The Relic', 'Mercury Rising', 'Almost Famous', 'Cold Pursuit', 'Analyze That', 'The Soloist', 'The Mortal Instruments: City of Bones', 'The Legend of Bagger Vance', 'Dragonfly', 'Priest', 'Garfield: A Tail of Two Kitties', 'XXX: State of the Union', 'Event Horizon', 'Sinbad: Legend of the Seven Seas', 'Dark Water', 'The Avengers', 'The Black Dahlia', 'EDtv', 'The Spirit', 'The Last Castle', 'Inkheart', 'Supernova', 'Flyboys', 'Winterâ\\x80\\x99s Tale', 'Holy Man', 'Meet Dave', 'The Great Raid', 'Rock Dog', 'Mortdecai', 'In the Name of the King: A Dungeon Siege Tale', 'Beyond Borders', 'Xi You Ji zhi Sun Wu Kong San Da Bai Gu Jing', 'The Ridiculous 6', 'Midway', 'Sherlock Gnomes', 'The Kid Who Would Be King', 'Deadpool', 'American Sniper', 'Goosebumps', 'Rambo III', 'Sabrina', 'Red Tails', 'Just Like Heaven', 'The Internship', 'The Flintstones in Viva Rock Vegas', 'Leatherheads', 'Life', 'Did You Hear About the Morgans?', 'Che, Part 1: The Argentine', 'Sex and the City', 'Resident Evil: Afterlife', \"That's My Boy\", \"Devil's Advocate\", 'Ghost Rider: Spirit of Vengeance', 'Dragonheart', 'After the Sunset', \"Captain Corelli's Mandolin\", 'Into the Woods', 'Anger Management', 'The Pacifier', 'Walking Tall', 'Zhuo yao ji', 'Forrest Gump', 'Alvin and the Chipmunks', 'Bohemian Rhapsody', 'Hitch', 'Meet the Parents', 'The Pursuit of Happyness', 'Pocahontas', 'Superman', 'The Nutty Professor', 'Fifty Shades Darker', 'Captain Phillips', 'George Of The Jungle', 'American Wedding', 'Murder on the Orient Express', 'The Equalizer', 'Fifty Shades Freed', 'Casper', 'Date Night', 'Maid in Manhattan', 'Crimson Tide', 'Flightplan', 'Disclosure', 'City of Angels', 'Paddington', 'R.V.', 'Stargate', 'Kill Bill: Volume 1', \"Mr. Poppers's Penguins\", 'Bowfinger', 'Kill Bill: Volume 2', 'Tango & Cash', 'Death Becomes Her', 'Shanghai Noon', 'Executive Decision', 'Free Birds', 'Alien 3', 'The Forbidden Kingdom', 'The Phantom of the Opera', 'Muppets Most Wanted', 'Evita', 'Kubo and the Two Strings', 'Ronin', 'Burlesque', 'The Ghost and the Darkness', 'Changeling', 'The Watch', 'The Hunted', 'Instinct', 'Stuck On You', 'Semi-Pro', 'Annihilation', 'Crimson Peak', 'The Pirates! Band of Misfits', 'Aeon Flux', 'Chain Reaction', 'The Fan', 'Elizabeth: The Golden Age', 'Imagine That', 'Gods and Generals', 'Turbulence', 'Bullet to the Head', \"All the King's Men\", 'Thunderbirds', 'Un long dimanche de fianÃ§ailles', 'Lucky You', 'Lolita', 'Eye See You', 'Superman II', 'Blade 2', 'You, Me and Dupree', 'Seven Pounds', 'The Godfather: Part III', 'Elizabethtown', 'Gigli', 'Shaft', 'The Dukes of Hazzard', 'Law Abiding Citizen', 'Black Mass', 'Anastasia', 'Moulin Rouge', 'Domestic Disturbance', 'Flags of Our Fathers', 'Grindhouse', 'Beloved', 'Zero Dark Thirty', 'Catch Me if You Can', 'Mamma Mia!', 'The Break-Up', \"Valentine's Day\", 'Casino', 'The Change-Up', 'The Thin Red Line', 'Man on the Moon', 'From Paris With Love', 'Bulletproof Monk', 'Me, Myself & Irene', 'Barnyard: The Original Party Animals', 'Alpha', 'Deck the Halls', 'The Adjustment Bureau', 'The Twilight Saga: New Moon', 'Shrek', 'Ted', '22 Jump Street', 'Robin Hood: Prince of Thieves', 'Jerry Maguire', 'Daddyâ\\x80\\x99s Home', 'As Good as it Gets', 'Patch Adams', 'Central Intelligence', 'Anchorman 2: The Legend Continues', 'Super 8', 'Mr. Deeds', 'Erin Brockovich', 'Creed II', 'Peter Rabbit', 'How to Lose a Guy in 10 Days', 'Interview with the Vampire: The Vampire Chronicles', 'The Mule', 'Yes Man', 'Non-Stop', 'Stepmom', 'Disney Planes', 'Failure to Launch', 'Inside Man', 'The Emoji Movie', 'Crazy, Stupid, Love', 'The Post', 'Payback', 'Congo', 'Knowing', 'The Ring Two', 'We Bought a Zoo', 'Moneyball', 'Garfield: The Movie', 'Christmas with the Kranks', 'V for Vendetta', 'Outbreak', 'Race to Witch Mountain', 'The Forgotten', 'Herbie: Fully Loaded', 'Shanghai Knights', 'Planes: Fire and Rescue', 'Curious George', 'American Reunion', 'Hansel & Gretel: Witch Hunters', 'I am Number Four', 'Donâ\\x80\\x99t Say a Word', '13 Hours: The Secret Soldiers of Benghazi', 'Unfaithful', 'American Made', 'Syriana', 'Resident Evil: Apocalypse', 'The Book of Life', 'Absolute Power', 'Firewall', 'The Game', 'G.I. Jane', 'Into the Storm', 'The Judge', 'Silent Hill', 'The Replacements', 'The Negotiator', 'War Dogs', 'Beverly Hills Cop III', 'Gremlins 2: The New Batch', 'The Peacemaker', 'Out of Time', 'Bridget Jones: The Edge Of Reason', 'The Beach', 'The Adventures of Sharkboy and Lavagirl in 3-D', 'On Deadly Ground', 'Ninja Assassin', 'Raising Helen', 'The Nice Guys', 'For Love of the Game', 'Jack Frost', 'Marmaduke', 'Striptease', 'Hereafter', 'Murder by Numbers', 'Assassins', 'Zoolander 2', 'Defiance', 'Hannibal Rising', 'The Story of Us', 'The Host', 'Basic', 'Run All Night', 'Blood Work', 'The International', 'Escape from L.A.', 'Twisted', 'The Life Aquatic with Steve Zissou', 'The Iron Giant', 'Hellboy', 'Your Highness', 'Snowden', 'Dream House', 'Free State of Jones', 'Gamer', 'Man of the House', 'The Life of David Gale', 'Beautiful Creatures', 'Into the Blue', 'Eastern Promises', \"Baby's Day Out\", 'The Messenger: The Story of Joan of Arc', 'Fair Game', 'Drive Angry', 'Mad City', 'The Scarlet Letter', 'Domino', 'Jade', 'Street Fighter: The Legend of Chun-Li', 'Death to Smoochy', 'Early Man', 'The Boat That Rocked', 'The Big Bounce', 'What Planet Are You From?', 'Child 44', 'Outlander', 'Upside Down', 'Shanghai', 'Hannibal the Conqueror', 'Arctic Dogs', 'The Rhythm Section', 'Ad Astra', 'The One', 'Chappie', 'The Adventures of Ford Fairlane', 'Anna Karenina', 'Indiana Jones and the Last Crusade', 'The Ring', 'Traffic', 'Panic Room', 'Taken 3', 'The Thomas Crown Affair', 'Instant Family', 'The Bone Collector', 'Three Kings', 'Tooth Fairy', 'Rat Race', '3:10 to Yuma', 'K-PAX', 'Kate and Leopold', 'Bedazzled', 'Out of Sight', 'The Cotton Club', 'Rambo', 'The Infiltrator', 'Dick Tracy', 'Arrival', 'The Cable Guy', 'Earth', 'Riding in Cars with Boys', \"Happily N'Ever After\", 'Solaris', 'Jonah Hex', 'Mary Reilly', 'Silence', 'Mr. Nobody', \"My Best Friend's Wedding\", \"America's Sweethearts\", 'Star Trek: First Contact', 'Insomnia', 'Prisoners', 'Courage Under Fire', 'Inchon', 'Arthur and the War of Two Worlds', 'Liar Liar', \"A Bug's Life\", 'Taken 2', 'The Flintstones', 'Scary Movie 3', 'Miss Congeniality', 'Pitch Perfect 3', 'Journey to the Center of the Earth', 'The Pelican Brief', 'The Princess Diaries 2: Royal Engagement', 'The Bucket List', 'The Client', 'The Muppets', 'Patriot Games', 'Monster-in-Law', 'Training Day', 'The Girl on the Train', 'Galaxy Quest', 'Scary Movie 2', 'Blade', 'Coach Carter', 'The Bounty Hunter', 'Changing Lanes', 'Anaconda', 'Underworld: Evolution', 'Coyote Ugly', 'Love Actually', 'Jack', 'The Specialist', 'Office Christmas Party', 'Tin Cup', 'Yours, Mine and Ours', 'Kicking and Screaming', \"The Hitchhiker's Guide to the Galaxy\", 'Resident Evil: Extinction', 'Fat Albert', 'Savages', 'The River Wild', 'Blended', 'All Eyez on Me', 'Last Holiday', '16 Blocks', 'The Indian in the Cupboard', 'Cellular', 'The Ant Bully', 'Johnny English', 'Dune', 'Aliens in the Attic', 'Across the Universe', 'Revolutionary Road', 'Babylon A.D.', 'Frankenstein', 'The Glimmer Man', 'Multiplicity', 'UglyDolls', 'The Pledge', 'The Producers: The Movie Musical', 'The Phantom', 'Rebound', 'The Ghost Writer', 'All the Pretty Horses', 'Bangkok Dangerous', 'Nixon', 'Dredd', 'The Rum Diary', 'Deep Rising', 'Welcome to Marwen', 'Johnny English Reborn', 'Miracle at St. Anna', 'Big Trouble', 'Man cheng jin dai huang jin jia', 'Love in the Time of Cholera', 'Pinocchio', 'Shadow Conspiracy', 'Foodfight!', 'Argo', 'The Fugitive', 'Rambo: First Blood Part II', 'Sleepers', 'Charlie St. Cloud', 'The Juror', 'The Interview', \"Heaven's Gate\", 'The Heat', 'Finding Forrester', '28 Days', 'Danny the Dog', 'The Sweetest Thing', 'The Girl in the Spiderâ\\x80\\x99s Web', 'A Monster Calls', 'The Mechanic', 'The Firm', '21 Jump Street', 'Notting Hill', 'Chicken Run', 'Along Came Polly', 'Boomerang', 'BrÃ¼no', 'Cleopatra', 'Snatched', 'Here Comes the Boom', 'High Crimes', 'The Mirror Has Two Faces', 'Red Riding Hood', 'The Mothman Prophecies', 'Licence to Kill', 'Holmes & Watson', 'One for the Money', '15 Minutes', 'Lord of War', 'Super Mario Bros.', 'Hero', 'Man on a Ledge', \"The Warrior's Way\", \"McHale's Navy\", 'Micmacs', 'Les BronzÃ©s 3: amis pour la vie', \"Pourquoi j'ai pas mangÃ© mon pÃ¨re\", '8 Mile', 'Rocketman', 'A Knightâ\\x80\\x99s Tale', 'The Medallion', 'The Big Year', 'The Sixth Sense', 'Wedding Crashers', 'The Karate Kid', 'Fifty Shades of Grey', 'The Proposal', 'American Hustle', 'John Wick: Chapter 3 â\\x80\\x94 Parabellum', 'Cheaper by the Dozen', 'Lucy', 'Lone Survivor', 'Back to the Future Part II', 'Double Jeopardy', 'Spy Kids 3-D: Game Over', 'A Time to Kill', 'A League of Their Own', 'The Conjuring 2: The Enfield Poltergeist', 'The Social Network', 'Julie & Julia', \"He's Just Not That Into You\", 'John Wick: Chapter Two', 'Ride Along 2', 'Scary Movie 4', 'Get Hard', 'Scream 3', 'Back to the Future Part III', 'The Accountant', 'Dumb and Dumber To', 'The Other Woman', \"Bram Stoker's Dracula\", 'Eight Below', 'The Talented Mr. Ripley', 'The Intern', 'The Last of the Mohicans', 'Ray', 'Sin City', 'Bridge of Spies', 'Vantage Point', 'I Love You, Man', 'Shallow Hal', 'JFK', \"Big Momma's House 2\", 'The House with a Clock in its Walls', 'Hacksaw Ridge', 'The Mexican', 'The Final Destination', '17 Again', 'Unknown', 'Get Him to the Greek', 'Gothika', 'Behind Enemy Lines', 'The Lincoln Lawyer', 'Shall We Dance?', 'Invincible', 'Escape From Planet Earth', 'Small Soldiers', 'Spawn', 'Horrible Bosses 2', 'The Count of Monte Cristo', 'The Prestige', 'The Lake House', 'Predators', 'The Odd Life of Timothy Green', 'The Living Daylights', 'Apocalypto', 'Music and Lyrics', 'Legal Eagles', 'Secret Window', 'The Skeleton Key', 'Jersey Boys', 'Made of Honor', 'The Rainmaker', 'Medicine Man', 'Amistad', 'A Million Ways to Die in The West', 'Final Destination 5', 'Widows', 'Fever Pitch', 'Aliens vs. Predator - Requiem', 'The Water Horse: Legend of the Deep', 'Sex Tape', 'Scream 4', 'Ri¢hie Ri¢h', 'Autumn in New York', 'Paul', 'The Guilt Trip', 'Colombiana', '8MM', 'The Commuter', 'Hanging Up', 'The Doors', 'Mickey Blue Eyes', 'Pay it Forward', 'Arthur', 'Drillbit Taylor', 'Patriots Day', 'Extremely Loud and Incredibly Close', 'The Shadow', 'Transporter 3', 'Morning Glory', \"Get Rich or Die Tryin'\", 'Long Shot', 'The Art of War', 'Grudge Match', 'Bless the Child', 'Rent', 'The Out-of-Towners', 'The Nut Job 2: Nutty by Nature', 'The Island of Dr. Moreau', 'The Musketeer', 'Resident Evil: The Final Chapter', 'The Other Boleyn Girl', 'The House', 'Sweet November', 'The Reaping', 'Season of the Witch', 'Renaissance Man', 'Quest for Camelot', 'City by the Sea', 'At First Sight', 'Mechanic: Resurrection', 'Torque', 'Fantastic Mr. Fox', 'Showgirls', 'City Hall', 'Big Miracle', 'The Impossible', 'A Thousand Words', 'Marie Antoinette', 'Get Carter', 'Kiss of Death', 'Life, or Something Like It', 'Ishtar', 'Memoirs of an Invisible Man', 'Amelia', \"Cirque du Freak: The Vampire's Assistant\", 'New York Minute', 'The Deep End of the Ocean', 'Alfie', 'FearDotCom', 'Soul Men', 'The Gunman', 'Universal Soldier II: The Return', 'Pandorum', 'Duplex', 'Paranoia', 'Raise the Titanic', 'Baahubali: The Beginning', 'The Hurricane Heist', 'Impostor', 'Victor Frankenstein', 'Extreme Ops', 'Just Visiting', 'Snowpiercer', 'Sunshine', 'The Hudsucker Proxy', 'Billy Lynnâ\\x80\\x99s Long Halftime Walk', 'Pirates', 'Delgo', 'The Hunting Party', 'Alex Rider: Operation Stormbreaker', 'Red Cliff', 'The Last Shot', 'Nomad', 'Un monstre Ã Paris', 'Kursk', 'USS Indianapolis: Men of Courage', \"Dragon Nest Warriors' Dawn\", 'The Crow', 'The Goldfinch', 'Down Under Cover', \"The Time Traveler's Wife\", 'Superman III', 'Because I Said So', 'Frankenweenie', 'Sgt. Bilko', 'Serenity', \"Shoot 'Em Up\", 'Against the Ropes', 'Yi dai zong shi', 'The Fast and the Furious', 'Sweet Home Alabama', 'The Ugly Truth', 'Spy Kids 2: The Island of Lost Dreams', 'Star Trek: Generations', 'Captain Underpants: The First Epic Movie', 'Paul Blart: Mall Cop 2', 'Mouse Hunt', 'Why Him?', 'Water for Elephants', 'Life as We Know It', 'The Hurricane', 'Riddick', 'Heartbreakers', 'Enough', 'The 5th Wave', 'Push', 'Rush', 'Angel Eyes', 'Joe Somebody', 'The Ninth Gate', 'Only the Brave', 'Extreme Measures', 'The Thing', 'Rock Star', 'White Squall', 'City of Ember', 'Switchback', 'The Sisters Brothers', 'Texas Rangers', 'Virgin Territory', 'The Upside', \"What to Expect When You're Expecting\", 'The Master', 'The Express', 'Twilight', \"We're the Millers\", 'Creed', 'The Town', 'Dolphin Tale', 'Game Night', 'Burn After Reading', '13 Going On 30', \"Nim's Island\", 'How to be Single', 'Cop Out', 'The Rite', 'Space Chimps', 'Magnolia', 'Aloha', 'Obitaemyy ostrov', 'A Star is Born', 'Gnomeo and Juliet', 'John Q', 'Blue Streak', 'Never Say Never Again', 'Hot Tub Time Machine', 'Breakdown', 'Dolphin Tale 2', 'Collateral Beauty', 'A Man Apart', 'Reindeer Games', 'Snow Falling on Cedars', 'Ghosts of Mississippi', 'Gattaca', \"Isn't She Great\", 'Yip Man 3', 'There Be Dragons', 'Queen of the Desert', 'Head of State', 'It', 'The Hangover', 'The Blind Side', 'Batman', 'Austin Powers: The Spy Who Shagged Me', 'True Grit', 'Lethal Weapon 3', 'Rush Hour', 'Identity Thief', 'The Devil Wears Prada', 'Horrible Bosses', 'Spy Kids', 'Trainwreck', 'Saving Mr. Banks', 'Star Trek: The Motion Picture', '21', 'What Happens in Vegas...', 'Cape Fear', 'The English Patient', 'Hotel for Dogs', 'Guess Who', 'This is 40', 'L.A. Confidential', 'Sky High', 'In & Out', 'A Nightmare on Elm Street', 'The Cell', 'Species', 'The Benchwarmers', 'Secretariat', 'The Man in the Iron Mask', 'Friends with Benefits', 'Neighbors 2: Sorority Rising', 'TMNT', 'Radio', 'Sicario: Day of the Soldado', 'Old Dogs', 'Malcolm X', 'Poltergeist', 'Goosebumps 2: Haunted Halloween', '12 Strong', 'Underworld 3: Rise of the Lycans', 'Must Love Dogs', 'License to Wed', 'Donnie Brasco', 'Max Payne', 'Resident Evil', 'The Ladykillers', 'Something Borrowed', 'The Nativity Story', 'In Time', 'The Back-up Plan', 'J. Edgar', 'Bounce', 'Mile 22', 'Hot Pursuit', 'Concussion', 'The Foreigner', 'Closer', 'Street Fighter', 'Black Knight', 'The Bad News Bears', 'The Pianist', 'House of Wax', 'From Hell', 'Adrift', 'Mirrors', 'Underworld: Blood Wars', 'Queen of the Damned', 'Nanny McPhee and the Big Bang', 'Untraceable', 'Predator 2', 'Abduction', 'Flash Gordon', 'Superhero Movie', 'Blast from the Past', 'Alex Cross', 'Jersey Girl', 'Midnight in the Garden of Good and Evil', 'Bridget Jonesâ\\x80\\x99s Baby', 'Heist', 'Hoffa', 'Whiskey Tango Foxtrot', 'Ella Enchanted', 'Hitman: Agent 47', 'The X-Files: I Want to Believe', 'Premium Rush', 'Broken City', 'Valiant', 'Wonder Boys', 'Cursed', 'Walk Hard: The Dewey Cox Story', 'The Four Feathers', 'Furry Vengeance', 'Parker', 'Wimbledon', 'Bait', 'Dungeons and Dragons', 'Lions for Lambs', 'Flight of the Intruder', 'The Tree of Life', 'American Outlaws', 'Zoom', 'The Shipping News', 'The Young Victoria', 'Sabotage', 'Knock Off', 'Whiteout', 'Unfinished Business', 'The Walk', 'The Fountain', 'Mandela: Long Walk to Freedom', 'Punisher: War Zone', 'The Order', 'A Good Year', 'The Brothers Grimsby', 'The Snowman', 'Femme Fatale', 'Warriors of Virtue', 'Luther', 'Biutiful', 'Radio Flyer', 'Bound by Honor', 'A Hologram for the King', \"Smilla's Sense of Snow\", 'Playing for Keeps', 'Lion of the Desert', 'Le hussard sur le toit', 'Ride With the Devil', 'Stolen', 'Trespass', 'Bandidas', 'The Lovers', 'Black Water Transit', 'The Darkest Hour', 'Baby Driver', 'The Maze Runner', 'The Longest Ride', 'The Age of Innocence', 'Gake no ue no Ponyo', 'The Darkest Minds', 'Chill Factor', \"The Astronaut's Wife\", 'I Dreamed of Africa', 'Thunder and the House of Magic', 'Reds', 'A Few Good Men', \"Big Momma's House\", 'Exit Wounds', 'Mike and Dave Need Wedding Dates', 'Step Up Revolution', 'Snakes on a Plane', 'The Punisher', 'The Watcher', 'Safe', 'Doomsday', 'Pushing Tin', 'Goal! The Dream Begins', 'The Young and Prodigious T.S. Spivet', 'Freaks of Nature', 'Star Wars Ep. VI: Return of the Jedi', 'Bridesmaids', 'The Reader', 'The Big Wedding', 'Wanderlust', 'Elf', 'Phenomenon', 'This is the End', 'Snow Dogs', 'Nacho Libre', 'Scrooged', 'Takers', 'Source Code', 'Stigmata', 'Men of Honor', 'I Feel Pretty', 'The Transporter 2', 'Big Mommas: Like Father, Like Son', 'Alive', 'The Number 23', '1941', 'Dreamer: Inspired by a True Story', 'A History of Violence', 'The Incredible Burt Wonderstone', 'The Quick and the Dead', 'Laws of Attraction', 'Bad Times at the El Royale', 'Going the Distance', 'Bringing Out The Dead', 'Repo Men', 'Dragon Wars: D-War', 'Bogus', \"Cats Don't Dance\", 'Cradle Will Rock', 'The Good German', 'George and the Dragon', 'Apocalypse Now', 'Criminal', '42', 'Flight', 'Mr. Hollandâ\\x80\\x99s Opus', 'Out of Africa', 'Moonraker', 'The Grand Budapest Hotel', 'Vacation', 'Arachnophobia', 'Isnâ\\x80\\x99t it Romantic', 'Frequency', 'Hearts in Atlantis', 'Extraordinary Measures', 'Birth of the Dragon', 'Get Shorty', 'Ghostbusters', 'Toy Story', 'Crazy Rich Asians', 'Chicago', 'Big Daddy', 'American Pie 2', 'The Vow', 'Speed', 'The Hunt for Red October', \"Lee Daniels' The Butler\", 'Remember the Titans', 'District 9', 'Dodgeball: A True Underdog Story', 'The Addams Family', 'Ace Ventura: When Nature Calls', 'The Princess Diaries', 'Analyze This', 'The First Wives Club', 'Million Dollar Baby', 'Se7en', 'Mystic River', 'Sisters', 'Pokemon: The First Movie', 'SpongeBob SquarePants: The Movie', 'Up in the Air', 'The Notebook', 'Hannah Montana the Movie', '27 Dresses', 'Rugrats in Paris', 'The Hitmanâ\\x80\\x99s Bodyguard', 'The Prince of Tides', 'Four Brothers', 'Legends of the Fall', 'Looper', 'Warm Bodies', 'About Schmidt', 'The Nut Job', 'Down to Earth', 'Babe', 'Hope Springs', 'Forgetting Sarah Marshall', 'Friday Night Lights', 'Harlem Nights', 'Baby Mama', 'Hope Floats', 'Bride Wars', 'Without a Paddle', 'Midnight in Paris', 'Darkest Hour', 'Wallace & Gromit: The Curse of the Were-Rabbit', 'P.S. I Love You', 'Corpse Bride', 'Life of the Party', 'Letters to Juliet', 'Blow', 'Message in a Bottle', 'Southpaw', 'Star Trek V: The Final Frontier', 'Atomic Blonde', 'Like Mike', 'Naked Gun 33 1/3: The Final Insult', 'Atonement', 'A View to a Kill', 'Racing Stripes', 'Sicario', 'Black Rain', 'Full Metal Jacket', 'Den of Thieves', 'The Three Stooges', 'Pokemon 2000', 'John Wick', 'Glory Road', 'The Age of Adaline', 'Step Up 3D', 'Drag Me To Hell', 'The Cabin in the Woods', 'Secondhand Lions', 'Stranger Than Fiction', 'Hanna', 'Blue Crush', '30 Days of Night', 'Little Shop of Horrors', 'Gridiron Gang', 'Midnight Run', 'Meet the Spartans', 'The Running Man', 'The Family', 'The 15:17 to Paris', 'Mortal Kombat: Annihilation', 'Larry Crowne', 'Carrie', 'Take the Lead', 'Death Wish', 'Love and Other Drugs', 'Entourage', \"What's the Worst That Could Happen?\", 'Side Effects', '9', 'Deliver Us from Evil', 'Get on Up', 'Mollyâ\\x80\\x99s Game', 'The Five-Year Engagement', 'The Prince & Me', 'Winnie the Pooh', 'Bulworth', 'Dumb and Dumberer: When Harry Met Lloyd', 'White Boy Rick', 'Virtuosity', 'One True Thing', 'Sanctum', 'My Super Ex-Girlfriend', 'Ballerina', 'Mr. 3000', 'The Next Three Days', 'Proud Mary', 'Little Black Book', 'Assault On Precinct 13', 'Runner Runner', 'The Replacement Killers', 'Baahubali 2: The Conclusion', 'Ultraviolet', 'North Country', 'Fright Night', 'mother!', 'Steve Jobs', 'Eight Legged Freaks', 'Fled', 'Splice', '88 Minutes', 'The Whole Ten Yards', 'Howard the Duck', 'Pride and Glory', 'The Cave', 'Godsend', 'Alex & Emma', 'Wicker Park', 'The New World', 'Evening', 'The Last Stand', 'In Dreams', 'Wing Commander', 'Antitrust', 'Dead Man Down', 'Hoodwinked Too: Hood vs. Evil', 'Dragonball Evolution', 'First Daughter', 'The Lost City of Z', 'An Unfinished Life', 'The Space Between Us', 'The Imaginarium of Doctor Parnassus', \"Barney's Version\", 'Trapped', 'Kin', 'Once Upon a Time in America', 'Stronger', 'Gloria', 'The Assassination of Jesse James by the Coward Robert Ford', 'The Merchant of Venice', 'The Good Thief', 'Supercross', 'Miss Potter', 'Wu ji', 'Shaft', 'Machine Gun Preacher', 'Bilal: A New Breed of Hero', 'DOA: Dead or Alive', 'Le Petit Nicolas', 'Xinhai geming', 'Genghis Khan: To the Ends of the Earth and Sea', 'Wild Card', 'United Passions', 'Konferenz der Tiere', 'Grace of Monaco', 'Savva. Serdtse voyna', 'Goodbye Bafana', 'Space Pirate Captain Harlock', \"Ripley's Game\", 'Collide', 'Pitch Perfect 2', 'Walk the Line', 'Night School', 'The Boss', '12 Monkeys', 'Once Upon a Time in Mexico', 'Keeping the Faith', 'Logan Lucky', 'Florence Foster Jenkins', 'The Borrowers', 'Frost/Nixon', 'Seed of Chucky', 'Serving Sara', 'Confessions of a Dangerous Mind', 'Taking Woodstock', 'Cry Freedom', 'Unhinged', 'Mumford', 'The Jacket', 'Aladdin', 'Indiana Jones and the Temple of Doom', 'Straight Outta Compton', 'Girls Trip', 'The Rugrats Movie', 'Die Hard', 'Along Came a Spider', 'A Bad Moms Christmas', 'Safe Haven', 'The Big Short', 'Role Models', 'Alexander and the Terrible, Horrible, No Good, Very Bad Day', 'Miracle', 'Last Vegas', 'The Wedding Planner', 'Dawn of the Dead', 'For Your Eyes Only', 'Tag', 'The Royal Tenenbaums', 'Identity', 'Serendipity', 'Kick-Ass', 'Zoolander', 'Timecop', 'No Reservations', 'Hocus Pocus', 'Pride & Prejudice', '30 Minutes or Less', 'Dracula 2000', 'Blade Runner', 'Rob Roy', '3 Days to Kill', 'Kick-Ass 2', 'We Own the Night', 'A Walk Among the Tombstones', 'The Spy Next Door', 'Brick Mansions', 'Just My Luck', 'Lost Souls', 'American Ultra', 'Winged Migration', 'Pride and Prejudice and Zombies', 'Mystery, Alaska', 'John Carpenterâ\\x80\\x99s Ghosts of Mars', 'A Simple Wish', 'Our Brand is Crisis', 'Kundun', 'How to Lose Friends & Alienate People', 'Alatriste', 'Knocked Up', 'Octopussy', \"My Sister's Keeper\", 'Welcome Home Roscoe Jenkins', 'Joyful Noise', 'A Passage to India', 'Notes on a Scandal', 'Rendition', 'Anonymous', 'Limitless', 'Star Trek VI: The Undiscovered Country', 'The Divine Secrets of the Ya-Ya Sisterhood', 'Kiss the Girls', 'The Blues Brothers', 'The Jungle Book', 'The Sisterhood of the Traveling Pants 2', 'Money Monster', 'About a Boy', 'Spy Kids: All the Time in the World', 'Lake Placid', 'Lucky Number Slevin', 'The Right Stuff', 'Die Unendliche Geschichte', 'Dark City', 'The Duchess', 'Case 39', 'The Honeymooners', 'Return to Oz', 'The Newton Boys', 'Suspect Zero', 'Martian Child', 'Formula 51', 'Flawless', 'Mindhunters', 'What Just Happened', 'The Statement', 'The Magic Flute', 'Rules Donâ\\x80\\x99t Apply', 'Paul Blart: Mall Cop', 'Freaky Friday', 'The 40 Year-old Virgin', 'Shakespeare in Love', 'Kindergarten Cop', 'Pineapple Express', 'Philadelphia', 'Ever After: A Cinderella Story', 'Flatliners', 'Open Range', 'Red Eye', 'New Yearâ\\x80\\x99s Eve', 'A Bridge Too Far', 'Pain & Gain', 'Final Destination 2', 'O Brother, Where Art Thou?', 'In Good Company', 'Legion', 'Lawless', 'Clockstoppers', 'Silverado', 'Brothers', 'The Best of Me', 'Agent Cody Banks 2: Destination London', 'Original Sin', 'The Raven', 'Welcome to Mooseport', 'Highlander: The Final Dimension', 'Self/Less', 'The Curse of the Jade Scorpion', 'The Fifth Estate', 'Blood and Wine', 'Blood Ties', \"The Grimm Brothers' Snow White\", 'Viy', 'Accidental Love', 'The Face of an Angel', 'Flipper', 'The Constant Gardener', 'W.', 'The Passion of the Christ', 'Mrs. Doubtfire', 'Rain Man', 'The Help', 'Hidden Figures', 'Gran Torino', 'Taken', 'Ride Along', 'The Bodyguard', 'Schindlerâ\\x80\\x99s List', 'Legally Blonde 2: Red, White & Blonde', 'Scooby-Doo 2: Monsters Unleashed', 'Anchorman: The Legend of Ron Burgundy', 'Freddy vs. Jason', 'Bridge to Terabithia', 'Jimmy Neutron: Boy Genius', 'Cloverfield', 'Dear John', 'Teenage Mutant Ninja Turtles II: The Secret of the Ooze', 'Parental Guidance', 'The Untouchables', 'No Country for Old Men', \"Bridget Jones's Diary\", 'Chocolat', 'No Strings Attached', 'Contraband', 'A Dogâ\\x80\\x99s Purpose', 'The Lucky One', 'Tombstone', 'Romeo Must Die', 'The Omen', 'Final Destination 3', \"Madea's Big Happy Family\", \"Tyler Perry's A Madea Christmas\", 'Finding Neverland', 'The Grey', 'Hide and Seek', 'Cobra', 'The House Bunny', 'Agent Cody Banks', 'Nanny McPhee', 'Goodfellas', 'The Giver', 'Scarface', 'Nothing To Lose', 'The Last Emperor', 'The Night Before', 'The Beverly Hillbillies', 'The Hours', 'Money Talks', 'There Will Be Blood', 'The Wild Thornberrys Movie', 'Rugrats Go Wild', 'The Sisterhood of the Traveling Pants', 'Undercover Brother', 'August: Osage County', 'Kiss of the Dragon', 'Million Dollar Arm', 'Beauty Shop', 'What a Girl Wants', 'Jeepers Creepers II', 'Peppermint', 'Good Luck Chuck', 'Cradle 2 the Grave', \"She's the Man\", 'The Gambler', 'Mr. Beanâ\\x80\\x99s Holiday', 'Motherâ\\x80\\x99s Day', 'Bride of Chucky', 'Fist Fight', 'August Rush', 'Anacondas: The Hunt for the Blood Orchid', 'The Sitter', 'Elizabeth', 'Tora, Tora, Tora', 'Spice World', 'Draft Day', 'The Shawshank Redemption', 'Rings', 'Dance Flick', 'Crocodile Dundee in Los Angeles', 'Kingpin', 'Ice Princess', \"Don't Be Afraid of the Dark\", 'The Losers', 'Fighting', 'War', 'Don Juan DeMarco', 'A Lot Like Love', 'He Got Game', 'The Eagle', 'Shaun the Sheep', 'Shark Night 3D', 'CHiPS', 'Punch-Drunk Love', 'Eurotrip', 'Father Figures', 'The Ruins', 'The Counselor', 'Unaccompanied Minors', 'Mary Queen of Scots', 'Bright Lights, Big City', 'Half Past Dead', 'Legend', 'The Adventures of Pinocchio', 'The Greatest Game Ever Played', 'The Box', 'The Next Best Thing', 'My Soul to Take', 'The Girl Next Door', 'Fly Me To the Moon', 'Maximum Risk', 'Stealing Harvard', 'Hot Rod', 'Warrior', \"Angela's Ashes\", 'Battle of the Sexes', 'Cirque du Soleil: Worlds Away', 'The 33', 'Lifeforce', 'The Conspirator', 'The Powerpuff Girls', 'The Lords of Dogtown', 'Big Trouble in Little China', 'Michael Collins', 'Stop-Loss', 'Gettysburg', 'Abandon', 'Straw Dogs', 'Brokedown Palace', 'Possession', 'Mrs. Winterbourne', 'Stone Cold', 'Serenity', 'The Road', 'Beautiful Boy', 'The Hoax', 'Captive State', 'Sheena', 'Underclassman', \"Say It Isn't So\", \"The World's Fastest Indian\", 'Deception', 'Tank Girl', \"King's Ransom\", 'Blindness', 'Sgt. Stubby: An American Hero', 'Carnage', 'Tulip Fever', 'BloodRayne', 'Legend', 'Bad Lieutenant: Port of Call New Orleans', 'Jane Got a Gun', 'Me and Orson Welles', 'Venom', 'Where the Truth Lies', 'Without Limits', 'On the Road', 'Les petits mouchoirs', 'Love Ranch', 'Yi ge ren de wu lin', \"Sammy's avonturen: De geheime doorgang\", 'Belka i Strelka. Zvezdnye sobaki', 'Matilda', 'La vÃ©ritable histoire du Chat BottÃ©', 'Ironclad', 'The Professor and the Madman', 'Red Sky', 'Waterloo', 'The Adventurer: The Curse of the Midas Box', 'Reagan', 'Dangerous Liaisons', 'Star Trek IV: The Voyage Home', 'Scream 2', 'Old School', 'Rocky Balboa', 'Think Like a Man Too', 'Fences', 'The Whole Nine Yards', 'Footloose', 'Going in Style', 'Point Break', 'The Fisher King', 'I Still Know What You Did Last Summer', 'Hitman', 'Hello, Dolly', 'Return to Me', 'The Men Who Stare at Goats', 'Zack and Miri Make a Porno', 'Double Take', 'Girl, Interrupted', 'Nurse Betty', 'Piranha 3D', 'Faster', 'The Wiz', 'Win a Date with Tad Hamilton!', 'Muppets From Space', 'Ready to Rumble', \"I Don't Know How She Does It\", 'Play it to the Bone', 'Dhoom 3', 'Beyond the Sea', 'Hauru no ugoku shiro', 'Meet the Deedles', 'The Thief and the Cobbler', 'The Bridge of San Luis Rey', 'Flood', 'Zombieland', 'Star Wars Ep. V: The Empire Strikes Back', 'The Waterboy', 'The Naked Gun 2Â½: The Smell of Fear', 'Green Book', 'Bad Boys', 'The Wedding Ringer', 'Final Destination', 'King Kong', 'The Ides of March', 'Pitch Black', 'The Hate U Give', 'Someone Like You', 'Her', 'Joy Ride', 'Kari gurashi no Arietti', 'Haywire', 'Anywhere But Here', 'Vanity Fair', 'Eddie the Eagle', 'Jaws 4: The Revenge', 'The Crew', \"Marvin's Room\", 'Chasing Liberty', 'The Longshots', 'The End of the Affair', 'Harley Davidson and the Marlboro Man', 'In the Valley of Elah', 'Coco avant Chanel', 'ChÃ©ri', 'Redemption', 'Rogue', 'ChÄ\\x81i dÃ\\xa0n zhuÄ\\x81njiÄ\\x81', 'Shi Yue Wei Cheng', 'Spaceballs', '1408', 'Nocturnal Animals', 'The Water Diviner', 'Ghost', \"There's Something About Mary\", 'The Santa Clause', 'The Game Plan', 'The Rookie', 'The Bridges of Madison County', 'Son of God', 'The Animal', 'The Hundred-Foot Journey', 'Gandhi', 'Underworld', 'The Net', 'Diary of a Wimpy Kid: Dog Days', 'I Am Sam', 'Derailed', 'The Informant!', 'Delivery Man', 'Hail, Caesar!', 'Jay and Silent Bob Strike Back', 'Shadowlands', 'Traitor', 'Deuce Bigalow: European Gigolo', 'Diary of a Wimpy Kid: The Long Haul', 'Mad Money', 'Homefront', 'Igor', 'Saving Silverman', 'Summer of Sam', 'The Glass House', 'The Transporter Refueled', 'The Island', 'Josie and the Pussycats', 'Hit & Run', 'The Little Vampire', 'I Heart Huckabees', 'Roman J. Israel, Esq.', 'Out of the Furnace', 'RoboCop 3', 'Dudley Do-Right', 'Just Getting Started', 'Megiddo: Omega Code 2', 'Darling Lili', 'The Libertine', 'Zwartboek', 'Before I Go to Sleep', 'Stone', 'Joyeux NoÃ«l', 'Metegol', 'Sorcerer', 'MoliÃ¨re', 'Michael Clayton', 'Arlington Road', 'My Fellow Americans', 'To Rome with Love', 'Silver Linings Playbook', 'Blockers', 'Pet Sematary', 'South Park: Bigger, Longer & Uncut', 'Firefox', 'Death at a Funeral', 'Teenage Mutant Ninja Turtles III', 'Hardball', 'For Colored Girls', 'Freedom Writers', 'Kidnap', 'The Transporter', 'Never Back Down', 'Tinker Tailor Soldier Spy', 'Victoria and Abdul', 'The Bachelor', 'The Rage: Carrie 2', 'Swing Vote', 'Away We Go', 'Moonlight Mile', 'The Beaver', 'Bitter Harvest', 'Molly', 'Velvet Buzzsaw', 'eXistenZ', 'The Best Little Whorehouse in Texas', 'Pulse', 'Beauty and the Beast', 'Raiders of the Lost Ark', 'Us', 'Home Alone 2: Lost in New York', 'Close Encounters of the Third Kind', 'Beverly Hills Cop II', 'La La Land', 'The Conjuring', 'Bringing Down the House', 'Wonder', 'The Silence of the Lambs', \"Wayne's World\", 'Jackass 3D', 'Bad Moms', 'Glass', 'Jaws 2', 'Beverly Hills Chihuahua', 'Tammy', 'Are We There Yet?', 'The Descendants', 'School of Rock', 'Disturbia', 'Free Willy', 'Tyler Perryâ\\x80\\x99s Boo! A Madea Halloween', 'Mortal Kombat', 'White Chicks', 'Obsessed', 'Holes', \"Tyler Perry's Madea's Witness Protection\", 'The Last Song', 'Why Did I Get Married Too?', 'La vita Ã¨ bella', '12 Years a Slave', 'Drumline', 'Me Before You', 'What Men Want', 'Barbershop: The Next Cut', 'Edward Scissorhands', 'A Simple Favor', 'Selma', 'Popeye', 'Date Movie', 'Peter Pan: Return to Neverland', 'The Jungle Book 2', 'Premonition', 'Tyler Perryâ\\x80\\x99s Boo 2! A Madea Halloween', 'Boogeyman', 'The Tigger Movie', 'Spotlight', 'Acrimony', 'Max', 'Meet the Browns', 'Orphan', 'The Star', 'Epic Movie', 'Lakeview Terrace', 'The Grudge 2', 'Nerve', 'Conan the Barbarian', 'How Stella Got Her Groove Back', \"Bill & Ted's Bogus Journey\", 'Man of the Year', 'Risen', 'Vampires Suck', 'The Black Hole', 'The American', 'Selena', 'A Very Harold & Kumar 3D Christmas', 'Eternal Sunshine of the Spotless Mind', 'Texas Chainsaw 3D', 'Babel', 'This is Where I Leave You', 'Doubt', 'Team America: World Police', 'Copycat', 'Scary Movie V', \"She's Out of My League\", 'Milk', 'Paint Your Wagon', 'The Debt', 'Ghost Ship', 'Daybreakers', 'The Bank Job', 'Wild Things', 'The Stepfather', 'High Fidelity', 'Stick It', 'One Missed Call', 'Eye for an Eye', 'Street Kings', \"The World's End\", 'From Dusk Till Dawn', 'You Again', 'Nancy Drew', 'Alpha and Omega 3D', 'On the Basis of Sex', 'Endless Love', 'The Covenant', 'Monte Carlo', 'Stay Alive', '2 For the Money', 'Rough Night', 'Psycho', 'Quigley Down Under', 'To Die For', 'Shorts', 'Vampires', 'Appaloosa', 'Secret in Their Eyes', 'Yu-Gi-Oh', 'Reign Over Me', \"My Best Friend's Girl\", 'Georgia Rule', 'Under the Rainbow', 'Ladyhawke', 'Into the Wild', 'Simon Birch', \"Pooh's Heffalump Movie\", 'School for Scoundrels', 'Silent Hill: Revelation 3D', 'Home for the Holidays', 'The Zookeeperâ\\x80\\x99s Wife', 'Fired Up', 'Kung Fu Hustle', 'The Country Bears', 'Flatliners', 'Dead Silence', '21 Grams', 'Armored', 'The Kite Runner', 'Paparazzi', 'A Guy Thing', 'The Greatest Story Ever Told', 'Loser', 'Twilight', 'Capitalism: A Love Story', 'Lockout', 'Disaster Movie', \"What's Your Number?\", 'The Man Who Knew Too Little', 'Crank 2: High Voltage', 'Burnt', 'Envy', 'One Night with the King', 'Bullets Over Broadway', 'Ghost Town', 'The Quiet American', 'Triple 9', 'The Light Between Oceans', 'The Weather Man', 'Undisputed', '12 Rounds', 'Let Me In', '3 Ninjas Kick Back', 'Be Kind Rewind', 'Mrs. Henderson Presents', 'Deconstructing Harry', 'Three to Tango', \"We're No Angels\", 'Everyone Says I Love You', 'Death Sentence', 'Popstar: Never Stop Never Stopping', 'Thank You for Your Service', \"Everybody's Fine\", 'Superbabies: Baby Geniuses 2', 'Battle of the Year', 'Ratchet and Clank', 'Death at a Funeral', 'The Man', 'Code Name: The Cleaner', 'Inherent Vice', 'Connie & Carla', 'Machete Kills', 'Sweet Charity', 'Doogal', 'Proof', 'An American Carol', 'Willard', 'Strange Wilderness', 'Little Boy', 'Topsy Turvy', 'Chasing Mavericks', 'A Most Violent Year', 'A Dangerous Method', 'A Scanner Darkly', 'Bandslam', 'Alone in the Dark', 'Birth', 'Hands of Stone', 'Passchendaele', 'Flash of Genius', 'Iâ\\x80\\x99m Not There', 'The Cold Light of Day', 'The Brothers Bloom', 'Synecdoche, New York', 'Suspiria', 'LBJ', 'Mononoke-hime', 'Bon Voyage', 'My All-American', \"Can't Stop the Music\", 'The Proposition', 'Marci X', 'Equilibrium', 'Dylan Dog: Dead of Night', 'The Oogieloves in the BIG Balloon Adventure', 'The Children of Huang Shi', 'The Yards', 'Middle Men', 'JÃ¬yÃ¬ dÃ\\xa0shÄ«', 'All Good Things', 'By the Sea', 'Steamboy', 'The Game of Their Lives', 'Rapa Nui', 'The Tempest', 'é\\x95·æ±\\x9fä¸\\x83è\\x99\\x9f (CJ7)', 'The Burning Plain', 'Les Couloirs du temps: Les visiteurs 2', 'People I Know', 'Regression', 'Admiral', 'Zambezia', 'Three Kingdoms: Resurrection of the Dragon', 'The Touch', 'Survivor', 'The History of Love', 'Butterfly on a Wheel', 'Dwegons and Leprechauns', 'Fight Valley', 'The Thousand Miles', 'Bird Box', 'Der Baader Meinhof Komplex', 'The Shape of Water', 'De rouille et dâ\\x80\\x99os', 'The Painted Veil', 'The Frozen Ground', \"The Devil's Double\", 'Back to the Future', 'Dances with Wolves', 'Scary Movie', 'Bad Teacher', 'Sausage Party', 'Sea of Love', 'Just Married', 'I Can Do Bad All By Myself', 'A Cinderella Story', 'The Shining', 'Thirteen Ghosts', 'House on Haunted Hill', 'The Crazies', 'Notorious', 'Nobodyâ\\x80\\x99s Fool', 'The Switch', 'Leap Year', 'The Book Thief', 'Gone, Baby, Gone', 'Thomas and the Magic Railroad', 'Mutiny on The Bounty', 'Sen to Chihiro no Kamikakushi', 'Sex Drive', 'Firestorm', 'Take Me Home Tonight', \"Won't Back Down\", 'Action Point', 'The Fall of the Roman Empire', 'The Nutcracker', \"George Balanchine\\\\'s The Nutcracker\", 'Kansas City', 'Out of the Inferno', \"George A. Romero's Land of the Dead\", 'IndigÃ¨nes', 'The Amityville Horror', 'Adaptation', 'The Invention of Lying', 'Fear and Loathing in Las Vegas', 'Ne le dis Ã personne', 'Left Behind', 'Neighbors', 'Borat', 'The Mask', 'Big', 'Legally Blonde', 'Mean Girls', 'Star Trek III: The Search for Spock', 'The Exorcism of Emily Rose', 'Deuce Bigalow: Male Gigolo', 'Barbershop 2: Back in Business', 'The Family Stone', 'Bad Santa', 'Predator', 'My Big Fat Greek Wedding 2', 'The Perfect Guy', 'Austin Powers: International Man of Mystery', 'Diary of a Wimpy Kid: Rodrick Rules', 'Amadeus', 'Prom Night', 'Soul Surfer', 'Under the Tuscan Sun', 'Uncle Drew', 'Birdman or (The Unexpected Virtue of Ignorance)', 'Peggy Sue Got Married', 'Gosford Park', 'Orange County', 'Blue Jasmine', 'United 93', 'Honey', 'The Fog', 'Spy Hard', 'Ricki and the Flash', 'Glory', 'Conan the Destroyer', 'Love the Coopers', 'Catch-22', 'Observe and Report', 'Raging Bull', 'Love Happens', 'Fame', 'The Circle', 'Young Sherlock Holmes', '127 Hours', 'Small Time Crooks', 'Center Stage', 'Norm of the North', 'Catch That Kid', 'Jobs', 'Life as a House', 'Youth in Revolt', 'And So It Goes', 'I Love You, Beth Cooper', 'Blow Out', 'The Tailor of Panama', 'The Legend of the Lone Ranger', 'Labor Day', 'Getaway', 'The Ice Storm', 'Being Julia', 'Troop Beverly Hills', 'Nine 1/2 Weeks', 'The Last Station', 'Dragonslayer', 'Ed Wood', 'Mongol', 'RocknRolla', 'Megaforce', \"Mao's Last Dancer\", 'Hamlet', 'The Railway Man', 'Restoration', 'Midnight Special', 'Miss Sloane', 'Metallica Through the Never', 'Anything Else', 'Unforgettable', 'T2: Trainspotting', 'Das Weisse Band: Eine deutsche Kindergeschichte', '8 Million Ways to Die', 'Phantom', 'The Salton Sea', 'The Informers', \"One Man's Hero\", 'Carlos', 'Renaissance', 'I Come with the Rain', 'I Am Wrath', 'Wolves', 'Day of the Dead', 'The Prince', 'Forsaken', 'Red Sonja', 'Red Lights', 'Superbad', 'Madea Goes To Jail', 'Step Up 2 the Streets', 'Hoodwinked', 'Hotel Rwanda', 'Beerfest', 'Black Nativity', 'City of Ghosts', 'Taxi 4', 'A Quiet Place', 'The Others', 'Aliens', 'Letâ\\x80\\x99s Be Cops', 'I Know What You Did Last Summer', 'My Fair Lady', 'Sideways', 'The Best Man Holiday', 'Friday the 13th', 'Pitch Perfect', 'Halloween: H2O', 'Evil Dead', \"Jet Li's Hero\", 'Saw 3D', 'McFarland, USA', 'Almost Christmas', 'The Hills Have Eyes', '40 Days and 40 Nights', 'Good Boy!', \"Smokin' Aces\", 'A Night at the Roxbury', 'Beastly', \"Brooklyn's Finest\", 'Tron', 'Lottery Ticket', 'Dickie Roberts: Former Child Star', 'ATL', 'Summer Catch', 'A Simple Plan', 'Larry the Cable Guy: Health Inspector', 'Wes Craven Presents: They', 'The Adventures of Elmo in Grouchland', 'Superman IV: The Quest for Peace', '55 Days at Peking', 'My Life in Ruins', 'American Dreamz', 'How She Move', 'Running Scared', 'The Apparition', 'Bobby Jones: Stroke of Genius', 'Shanghai Surprise', \"L'illusionniste\", 'Roar', 'Veronica Guerin', 'Genius', 'Southland Tales', 'Escobar: Paradise Lost', 'Mune, le gardien de la lune', 'Chasseurs de dragons', 'Damnation Alley', 'Crawl', 'The Young Messiah', 'FUR: An Imaginary Portrait of Diane Arbus', 'My Girl', 'Wall Street', 'Sense and Sensibility', 'The Illusionist', 'Becoming Jane', 'House of Sand and Fog', 'Sydney White', 'Arn - Tempelriddaren', 'Dead Poets Society', 'Dumb & Dumber', 'When Harry Met Sallyâ\\x80¦', 'Road Trip', 'The Verdict', 'Varsity Blues', 'Moonrise Kingdom', 'The Artist', 'The Unborn', 'The Master of Disguise', 'The Texas Chainsaw Massacre: The Beginning', 'El Laberinto del Fauno', 'The Roommate', 'The Messengers', 'See Spot Run', 'Double Impact', 'Baby Boy', 'Joe Dirt', 'The Women', 'Hot Fuzz', 'Vicky Cristina Barcelona', 'Boys and Girls', 'Superfly', 'LÃ©on', 'Remember Me', 'White Oleander', \"Jennifer's Body\", 'Drowning Mona', 'Radio Days', 'How to Deal', 'Left Behind', 'Soul Plane', 'My Stepmother Is an Alien', 'People Like Us', 'The Thirteenth Floor', 'The Cookout', 'Meteor', 'Highlander', 'Bleed for This', 'Hollywood Ending', 'Duets', 'Detroit Rock City', 'Things We Lost in the Fire', 'The Homesman', 'Trance', 'The Immigrant', 'Steel', 'The White Countess', \"Bienvenue chez les Ch'tis\", 'Men, Women and Children', 'Enter the Void', 'Good', 'Vamps', 'Haeundae', \"Hachiko: A Dog's Story\", 'Zulu', 'Second Act', 'Juwanna Mann', 'La MÃ´me', 'Ararat', 'Slow Burn', 'Madison', 'The Yellow Handkerchief', 'Wasabi', 'Slither', 'Home Alone', 'Beverly Hills Cop', 'Top Gun', 'Tootsie', '3 Men and a Baby', 'The Kingâ\\x80\\x99s Speech', 'American Beauty', 'Crouching Tiger, Hidden Dragon', 'Twins', 'Scream', 'Annabelle: Creation', 'Jackass Presents: Bad Grandpa', 'Heaven Can Wait', 'The Color Purple', 'The Imitation Game', 'Beetlejuice', 'Ben-Hur', 'Mama', 'Private Benjamin', \"Coal Miner's Daughter\", 'Lethal Weapon', 'Diary of a Wimpy Kid', 'National Lampoonâ\\x80\\x99s Vacation', 'Halloween', 'The Queen', 'Why Did I Get Married?', 'The Woman in Black', 'Little Women', 'The Deer Hunter', 'BlacKkKlansman', 'When a Stranger Calls', 'Big Fat Liar', 'Cop Land', 'Wag the Dog', 'Snitch', 'The Lizzie McGuire Movie', 'Krampus', 'End of Watch', 'The Faculty', \"What's Love Got to Do With It\", 'Not Another Teen Movie', 'Wild', 'Lawrence of Arabia', 'The Theory of Everything', 'Drive', 'The Skulls', 'Hawaii', 'The Favourite', \"Malibu's Most Wanted\", 'All About Steve', 'Where the Heart Is', 'Halloween 2', 'The Last House on the Left', 'Because of Winn-Dixie', 'The Wedding Date', 'The Princess Bride', 'Halloween: Resurrection', 'The Great Debaters', 'When the Game Stands Tall', 'Clash of the Titans', 'Confessions of a Teenage Drama Queen', 'The Object of my Affection', '28 Weeks Later', 'Grosse Pointe Blank', 'Love and Basketball', 'Home Again', 'Book of Shadows: Blair Witch 2', 'Boogie Nights', 'Ramona and Beezus', 'The November Man', 'The Craft', 'Match Point', 'The Remains of the Day', 'Nowhere to Run', 'Urban Legends: Final Cut', 'The Place Beyond the Pines', 'Flicka', 'The Hills Have Eyes II', 'Keanu', 'Country Strong', 'Tuck Everlasting', 'The Marine', 'Disturbing Behavior', 'The Big Lebowski', 'A Most Wanted Man', 'The Hurt Locker', 'Eye of the Beholder', 'The Man with the Iron Fists', 'Firestarter', 'Miss Bala', 'Killing Them Softly', 'Freddy Got Fingered', 'One Day', 'De-Lovely', 'Whip It', \"The Pirates Who Don't Do Anything: A VeggieTales Movie\", 'U2 3D', 'Highlander: Endgame', 'The Founder', 'Idlewild', 'Confidence', 'Knockaround Guys', 'The Muse', \"Barney's Great Adventure\", 'New York Stories', 'Home Fries', 'Here on Earth', 'Raise Your Voice', 'Brazil', 'The Dark Half', 'Black Snake Moan', 'Dark Blue', 'A Mighty Heart', 'Brainstorm', 'Queen of Katwe', 'Whatever it Takes', 'Boat Trip', 'The Importance of Being Earnest', 'The Love Letter', 'Hoot', 'In Bruges', 'Promised Land', 'Mulholland Drive', 'Hotel Artemis', 'The Rocker', 'Post Grad', 'Whatever Works', 'The In Crowd', 'Los tres entierros de Melquiades Estrada', 'Jakob the Liar', 'Se jie', 'Kiss Kiss, Bang Bang', 'Idle Hands', 'Scouts Guide to the Zombie Apocalypse', 'Blood and Chocolate', 'You Will Meet a Tall Dark Stranger', 'Rock the Kasbah', 'Never Let Me Go', 'The Disappointments Room', 'The Company', 'Transsiberian', 'Crazy in Alabama', 'The Clan of the Cave Bear', 'The Comedian', 'Funny Games', 'Banlieue 13', \"Felicia's Journey\", 'Metropolis', 'CÃ¬kÃ¨ NiÃ¨ YinniÃ¡ng', \"Things to Do in Denver when You're Dead\", 'The Reluctant Fundamentalist', 'The Return', 'Buffalo Soldiers', 'Steal (Canadian Release)', 'Centurion', 'Ong-Bak 2', 'Silent Trigger', 'Midnight Meat Train', 'Winnie Mandela', 'The Son of No One', \"All the Queen's Men\", 'The Good Night', 'Khumba', 'A Few Best Men', 'AutÃ³mata', 'Chiamatemi Francesco - Il papa della gente', 'Bathory', 'San suk si gin', 'Dungeons & Dragons: Wrath of the Dragon God', 'In Dubious Battle', 'Broken Horses', 'Pandaemonium', 'Blinded by the Light', 'Groundhog Day', 'Magic Mike XXL', 'Romeo+Juliet', \"Elle s'appelait Sarah\", 'Freedom', 'Unforgiven', 'Manderlay', 'Pretty Woman', 'Fatal Attraction', 'Slumdog Millionaire', 'Towering Inferno', 'Crocodile Dundee 2', 'Born on the Fourth of July', 'Cool Runnings', 'Stomp the Yard', 'My Bloody Valentine', 'The Possession', 'First Blood', 'The Spy Who Loved Me', 'Urban Legend', 'Taps', \"Tyler Perry's Good Deeds\", 'White Fang', 'Dangerous Liaisons', 'Superstar', 'The Iron Lady', 'Poetic Justice', 'Jonah: A VeggieTales Movie', 'All About the Benjamins', 'Exorcist II: The Heretic', 'Our Family Wedding', 'Vampire in Brooklyn', 'An American Haunting', \"My Boss's Daughter\", 'A Perfect Getaway', 'Thinner', 'Dead Man on Campus', 'Tea with Mussolini', 'New York, New York', 'Jason X', 'Crooklyn', 'I Think I Love My Wife', 'Hot Tub Time Machine 2', 'Bobby', 'Head Over Heels', 'Fun Size', 'Lost and Found', 'Le Scaphandre et le Papillon', 'Little Children', 'Gossip', 'A Walk on the Moon', 'Suffragette', 'Catch a Fire', 'Mr. Turner', 'Soul Survivors', 'Easy Virtue', 'Jefferson in Paris', 'Flipped', 'Caravans', 'Les herbes folles', 'Amen', 'The Lucky Ones', 'Margaret', 'Reign of Assassins', 'Stan Helsing: A Parody', 'Brokeback Mountain', 'Clueless', 'Ca$h', 'Teenage Mutant Ninja Turtles', 'The Ten Commandments', 'Far From Heaven', 'Seven Psychopaths', 'Quills', 'The Border', 'Der Untergang', \"The Caveman's Valentine\", 'The Last Godfather', 'Under the Skin', 'Mar adentro', 'No Good Deed', 'Good Morning Vietnam', 'Black Swan', 'Save the Last Dance', 'Justin Bieber: Never Say Never', 'The First Purge', 'Miracles from Heaven', 'Snow Day', 'The Butterfly Effect', 'The Godfather: Part II', 'The Shallows', 'RoboCop', 'A Nightmare on Elm Street 4: The Dream Master', 'This Christmas', 'About Last Night', \"Dude, Where's My Car?\", 'Young Guns', 'St. Vincent', 'Earth to Echo', '10 Things I Hate About You', 'The New Guy', 'Loaded Weapon 1', 'Baby Geniuses', 'The Big Hit', \"Child's Play 2\", 'Harriet the Spy', '21 and Over', 'The Mist', 'Ex Machina', 'Being John Malkovich', 'Two Can Play That Game', 'Eye in the Sky', 'Admission', 'The Perks of Being a Wallflower', 'crazy/beautiful', '54', 'Room', 'Woodlawn', 'Letters from Iwo Jima', 'MÃ¤n som hatar kvinnor', 'The Astronaut Farmer', 'Dirty Work', 'Bajrangi Bhaijaan', 'Woo', 'Robinson Crusoe', 'Serial Mom', 'Dick', 'Light It Up', 'Bubble Boy', 'Birthday Girl', \"Paris, je t'aime\", 'Ben is Back', 'Resurrecting the Champ', 'Chloe', 'The Widow of St. Pierre', 'Youth', 'Faithful', 'Un ProphÃ¨te', 'I Love You, Phillip Morris', 'The Vatican Tapes', 'Find Me Guilty', 'Excessive Force', 'Infamous', 'Attack the Block', 'Brothers', 'The Claim', 'In The Land of Blood and Honey', 'The Killer Inside Me', 'Womb', 'Rogue City', 'The Call', 'Operation Chromite', 'The Drop', 'The Crocodile Hunter: Collision Course', 'Machete', 'Antwone Fisher', 'La Guerre du feu', \"The Emperor's Club\", 'True Romance', 'Sorority Row', 'Glengarry Glen Ross', 'The Boy in the Striped Pyjamas', 'Cat People', 'The Prisoner of Zenda', 'Conviction', 'Lars and the Real Girl', 'Solitary Man', 'Dancer in the Dark', 'Casino Jack', 'Oscar and Lucinda', 'The Funeral', 'Tae Guik Gi: The Brotherhood of War', 'The Perfect Game', 'The Paperboy', 'Ernest et Celestine', 'A Little Bit of Heaven', 'The Land Before Time', 'Jaws', 'The Exorcist', 'The Fault in Our Stars', 'American Pie', 'Think Like a Man', 'Heaven is for Real', 'The Golden Child', 'Star Trek II: The Wrath of Khan', 'Barbershop', 'WarGames', 'Ace Ventura: Pet Detective', 'Act of Valor', 'Witness', 'Step Up', 'Chronicle', 'Beavis and Butt-Head Do America', 'Patton', 'Project X', 'Three Billboards Outside Ebbing, Missouri', 'Lion', 'Overboard', 'Jackie Brown', 'Yentl', 'Harold & Kumar Escape from Guantanamo Bay', 'Philomena', 'Time Bandits', 'Crossroads', 'Paper Towns', 'Quarantine', 'One Hour Photo', 'The Eye', 'Johnson Family Vacation', 'How High', 'Spartacus', 'Crank', 'The Muppet Christmas Carol', 'Hell or High Water', 'Frida', 'Katy Perry: Part of Me', 'Top Five', 'Rounders', 'Casino Royale', 'Prophecy', 'Project Almanac', 'Just Wright', 'Stir of Echoes', 'Tales from the Crypt: Demon Knight', 'The Boys from Brazil', 'The Upside of Anger', 'Aquamarine', 'Nebraska', \"My Baby's Daddy\", \"Max Keeble's Big Move\", 'Young Adult', 'About Time', 'If Beale Street Could Talk', 'Wish Upon', \"Def Jam's How To Be a Player\", 'Living Out Loud', 'Rachel Getting Married', 'The Postman Always Rings Twice', 'Girl with a Pearl Earring', 'Das Boot', 'Unforgettable', 'House of Flying Daggers', 'Sorority Boys', 'Marshall', 'Cadillac Records', 'Arbitrage', 'The Alamo', 'Screwed', 'Running With Scissors', 'Fortress', 'For Greater Glory: The True Story of Cristiada', 'For Your Consideration', 'Celebrity', 'From Justin to Kelly', 'Invaders from Mars', 'Girl 6', 'In the Cut', 'Charlie Bartlett', 'Two Lovers', 'La grande bellezza', 'Last Orders', 'Gwoemul', 'The Pursuit of D.B. Cooper', 'Ravenous', 'The Dangerous Lives of Altar Boys', 'Stoker', 'Married Life', '2046', 'Kill the Irishman', 'Duma', 'Darling Companion', 'Ondine', 'Brother', 'Welcome to Collinwood', 'Life Before Her Eyes', 'Critical Care', 'Trade', 'Fateless', 'San qiang pai an jing qi', 'Breakfast of Champions', 'Company Man', 'Nanjing! Nanjing!', 'Trash', '5 Days of War', '10 Days in a Madhouse', '1612', 'San cheng ji', 'Tu Xia Chuan Qi', 'Triangle', 'Supesu Batorushippu Yamato', 'Drive Hard', \"Dancin' It's On\", 'Home', 'The Dressmaker', 'Diamonds', 'Madadayo', 'Carol', 'Pet Sematary', 'Dirty Grandpa', 'The Cry of the Owl', 'St. Trinianâ\\x80\\x99s', 'Star Wars Ep. IV: A New Hope', 'Gremlins', 'Doctor Zhivago', 'The Fighter', 'High School Musical 3: Senior Year', 'Fried Green Tomatoes', 'Jackass: Number Two', 'My Cousin Vinny', 'If I Stay', 'Major League', 'Phone Booth', 'A Walk to Remember', 'Dead Man Walking', 'Cruel Intentions', 'Brooklyn', 'The Secret Life of Bees', 'Woman in Gold', 'History of the World: Part I', 'I, Tonya', 'Saw VI', 'Corky Romano', 'Fighting With My Family', 'Raising Cain', 'F.I.S.T', 'Barry Lyndon', 'Quartet', 'Out Cold', 'The Ladies Man', 'Tomcats', 'Inside Llewyn Davis', 'Frailty', 'Army of Darkness', 'Kinsey', 'Peeples', \"What's Eating Gilbert Grape\", 'Sultan', 'Slackers', 'The Gospel of John', 'Vera Drake', 'The Guru', 'Othello', 'The Perez Family', 'The Molly Maguires', 'Return to the Blue Lagoon', 'Romance and Cigarettes', 'Copying Beethoven', 'Brighton Rock', 'Le prÃ©nom', 'La famille BÃ©lier', 'LOL', 'Misconduct', 'Eli', 'Saw V', 'Les Intouchables', 'Jindabyne', 'Kabhi Alvida Naa Kehna', 'Alien', 'Poltergeist', 'An Ideal Husband', 'Darkness', 'The Last Days on Mars', 'ET: The Extra-Terrestrial', '2001: A Space Odyssey', 'In the Land of Women', 'There Goes My Baby', 'The Blue Butterfly', \"Le Fabuleux destin d'AmÃ©lie Poulain\", 'PMC: deo beong-keo', 'Lovesick', 'Housefull', 'September Dawn', 'Halloween', 'Good Will Hunting', 'The Grudge', 'Donâ\\x80\\x99t Breathe', 'Stripes', 'Saw III', 'The Purge: Election Year', 'Book Club', 'Bring it On', 'Insidious: The Last Key', \"She's All That\", 'Saw IV', \"Madea's Family Reunion\", 'White Noise', 'The Color of Money', 'Insidious Chapter 3', 'The Mighty Ducks', 'Lady Bird', 'Precious (Based on the Novel Push by Sapphire)', 'The Best Exotic Marigold Hotel', 'Hereditary', 'Love, Simon', \"Bill & Ted's Excellent Adventure\", 'The Longest Day', 'Happy Gilmore', 'Jigsaw', 'Jeepers Creepers', 'St. Elmoâ\\x80\\x99s Fire', 'Oliver!', \"Recess: School's Out\", 'Mad Max Beyond Thunderdome', 'Peteâ\\x80\\x99s Dragon', 'The Boy', 'Commando', 'Everything, Everything', 'Devil', 'Friday After Next', 'The Second Best Exotic Marigold Hotel', 'The Last Dragon', 'How to Be a Latin Lover', 'The Lawnmower Man', \"Nick and Norah's Infinite Playlist\", 'Calendar Girls', 'Dogma', 'Slender Man', 'The Banger Sisters', 'Snatch', 'Road House', 'Teen Titans Go! To The Movies', 'When the Bough Breaks', 'Twilight Zone: The Movie', 'A Low Down Dirty Shame', 'One Direction: This is Us', 'Swimfan', 'Employee of the Month', 'Sinister 2', 'The Forest', 'The Fourth Kind', 'The Outsiders', \"Can't Hardly Wait\", 'Sparkle', 'Kevin Hart: What Now?', 'Mud', 'Skyline', 'The Disaster Artist', 'Blair Witch', 'The Dead Zone', 'Valentine', 'A Prairie Home Companion', 'Reno 911!: Miami', \"Jane Austen's Mafia\", 'Paranormal Activity: The Ghost Dimension', 'Sugar Hill', 'Kit Kittredge: An American Girl', 'Invasion U.S.A.', 'Roll Bounce', 'Rushmore', 'Tremors', 'The Perfect Man', \"Mo' Better Blues\", 'Kung Pow: Enter the Fist', 'The Birth of a Nation', 'Wrong Turn', 'The Long Riders', 'The Corruptor', 'The Goods: Live Hard, Sell Hard', 'My Week with Marilyn', 'Big Eyes', 'Broken Flowers', 'Hey Arnold! The Movie', 'The Matador', 'Love Jones', 'The Gift', 'End of the Spear', 'Get Over It', 'The Legend of Drunken Master', 'Office Space', 'Drop Dead Gorgeous', 'The Best of Enemies', 'The Spanish Prisoner', 'Le Violon rouge', 'Very Bad Things', 'Sleepover', 'Movie 43', 'Can You Ever Forgive Me?', 'Body Double', 'MacGruber', 'Dirty Pretty Things', 'Bad Words', \"While We're Young\", 'Over Her Dead Body', 'Bones', 'Seeking a Friend for the End of the World', 'Turistas', 'Shut In', 'Cedar Rapids', 'The Collection', 'American History X', \"Teacher's Pet: The Movie\", 'The Straight Story', 'Deuces Wild', 'Run, Fatboy, Run', 'Heartbeeps', 'Danny Collins', 'Rescue Dawn', 'Black and White', 'Io sono lâ\\x80\\x99amore', 'On the Line', 'Gotti', 'Jeff, Who Lives at Home', 'Denial', 'The Man Who Knew Infinity', 'Max Steel', 'Everybody Wants Some', 'Crash', 'Atlas Shrugged: Part II', 'Romeo Is Bleeding', 'The Limey', 'Rosewater', 'The House of Mirth', 'Malone', 'Peaceful Warrior', 'Bucky Larson: Born to Be a Star', 'Bamboozled', 'Sphinx', 'The Iceman', 'Testament of Youth', 'Free Fire', 'A Better Life', 'Spider', 'Gun Shy', 'Nicholas Nickleby', 'The Joneses', 'Krrish', 'Killer Joe', 'Churchill', 'Cecil B. Demented', '50 to 1', 'Owning Mahowny', 'The Ten Commandments', 'The Brothers Solomon', 'My Blueberry Nights', 'Illuminata', 'Coriolanus', 'Parkland', 'Swept Away', 'War, Inc.', 'Shaolin Soccer', 'The Brown Bunny', 'King of California', 'Rien ne va plus', 'La femme de chambre du Titanic', 'Imaginary Heroes', 'High Heels and Low Lifes', \"World's Greatest Dad\", 'Cinco de Mayo, La Batalla', 'Welcome to the Rileys', 'Kicks', 'Free Style', 'High School', 'Severance', 'Edmond', 'Joheunnom nabbeunnom isanghannom', 'Police Academy 7: Mission to Moscow', 'Blood Done Sign My Name', 'The Good Guy', 'Motherhood', 'Eulogy', 'Elsa & Fred', 'An Alan Smithee Film: Burn Hollywood Burn', 'The Open Road', 'Strangerland', 'Hross i oss', 'Janky Promoters', 'Blonde Ambition', 'The Oxford Murders', 'Barbecue', 'The Reef', 'White Noise 2: The Light', 'American Heist', \"It's a Wonderful Afterlife\", 'You Got Served: Beat The World', 'Fifty Dead Men Walking', 'Plastic', 'Jungle Shuffle', 'Adam Resurrected', \"The Devil's Tomb\", 'Good Intentions', 'Partition', 'Detention', 'Nurse 3D', 'Into the Grizzly Maze', 'Friend Request', 'Gunless', 'Adventureland', 'Amour', 'The Lost City', 'Next Friday', 'You Only Live Twice', 'Poltergeist III', 'Dangal', 'The Runaways', 'Gentlemen Broncos', 'Re-Kill', \"It's a Mad Mad Mad Mad World\", 'Volver', 'Melancholia', 'Heavy Metal', 'Jab Tak Hai Jaan', 'Richard III', 'Kites', 'Red Dog', 'Mine Vaganti', 'The Texas Chainsaw Massacre', 'Fiddler on the Roof', 'The Purge: Anarchy', 'Thunderball', 'The Strangers', 'Set It Off', 'Ouija: Origin of Evil', 'The Best Man', \"Child's Play\", 'Happy Death Day 2U', 'Sicko', 'Black or White', 'Down to You', 'Harold & Kumar Go to White Castle', 'The Contender', 'Boiler Room', 'Black Christmas', 'The Edge of Seventeen', 'Jackie', 'The Ice Pirates', \"Breakin' All the Rules\", 'Glee: The 3D Concert Movie', 'Henry V', 'Loving', 'The Savages', 'Chasing Papi', 'The Way of the Gun', 'The Sun is Also a Star', 'Hamlet 2', 'Igby Goes Down', 'PCU', 'The Ultimate Gift', 'Beautiful', 'Gracie', 'The Sapphires', 'Greater', 'Destroyer', 'Trust the Man', 'Undiscovered', 'Velvet Goldmine', 'Princess Kaiulani', 'The Legend of Suriyothai', 'Due occhi diabolici', 'Dheepan', 'La fille du RER', 'All or Nothing', 'Red Riding: The Year of Our Lord 1974', 'Flammen og Citronen', 'Leaves of Grass', 'Opal Dream', 'Skin Trade', 'Beneath Hill 60', 'Veronika Decides to Die', 'Barbarella', 'A Haunting in Connecticut 2: The Ghosts of Georgia', 'Polisse', 'Heist', 'Ultramarines', 'Crocodile Dundee', 'The I Inside', 'Awake', 'Manchester by the Sea', 'Crazy Heart', 'Star Wars: The Clone Wars', 'The DUFF', 'Nightcrawler', 'The Lost Boys', 'Dragon Ball Super: Broly', 'The Rose', 'Baggage Claim', 'Middle School: The Worst Years of My Life', 'Haakon Haakonsen', 'Election', 'The Namesake', 'All is Lost', 'Club Dread', 'Bright Star', 'Glitter', 'The Rover', 'Silmido', 'Repo! The Genetic Opera', 'Posledniy bogatyr', 'A.C.O.R.N.S.: Operation Crackdown', 'My Name is Khan', 'Namastey London', 'Yeh Jawaani Hai Deewani', 'Limbo', 'The Wind That Shakes the Barley', 'The City of Your Final Destination', 'Kurtlar vadisi - Irak', 'Quo Vadis?', 'The Sound of Music', 'Footloose', 'Pulp Fiction', 'The Karate Kid', 'The Muppet Movie', 'Splash', 'Little Miss Sunshine', 'Easy A', 'Stand by Me', '28 Days Laterâ\\x80¦', 'Escape from Alcatraz', 'You Got Served', 'The Intruder', '50/50', 'A Thin Line Between Love & Hate', 'A Walk in the Woods', 'Brown Sugar', 'Howards End', 'That Awkward Moment', 'Shutter', 'Modern Problems', \"On Her Majesty's Secret Service\", 'Much Ado About Nothing', 'The Player', 'Creepshow', 'Akeelah and the Bee', \"Wes Craven's New Nightmare\", 'Drive Me Crazy', 'Enough Said', 'Half Baked', 'New in Town', 'Begin Again', 'American Psycho', 'See No Evil', 'The Good Girl', 'Bon Cop, Bad Cop', 'The Boondock Saints 2: All Saints Day', 'Prom', 'The Inkwell', 'Shadow of the Vampire', 'Me and Earl and the Dying Girl', \"It's Kind of a Funny Story\", 'The Pallbearer', 'Woman on Top', 'Held Up', 'Morgan', 'Anomalisa', 'CachÃ©', 'Another Year', '8 femmes', 'Showdown in Little Tokyo', 'Clay Pigeons', 'Le passÃ©', 'Lean on Pete', 'Made in Dagenham', 'And When Did You Last See Your Father?', 'El Chicano', 'The Secret of Kells', 'Prefontaine', 'The Wicked Lady', 'Down in the Valley', 'Brooklyn Rules', 'The Singing Detective', 'Fido', 'London Fields', 'Restless', 'The Land Girls', 'The Wendell Baker Story', 'Wild Target', 'Pathology', 'Wuthering Heights', 'A Street Cat Named Bob', '10th & Wolf', 'Aloft', 'Fireflies in the Garden', 'Dear Wendy', 'Akira', 'Welcome to Dongmakgol', 'Feichang Xingyun', 'Don Gato, el inicio de la pandilla', 'The Death and Life of Bobby Z', 'Backstabbing For Beginners', 'Swelter', 'Maurice Richard', 'Green Street Hooligans: Underground', 'Christmas in Beverly Hills', 'Henry Joseph Church', 'Code of Honor', 'Burn Your Maps', 'Imagine Me & You', 'Swimming Pool', 'The Blood of Heroes', 'Loin des hommes', 'Driving Miss Daisy', 'Soul Food', '(500) Days of Summer', 'Rumble in the Bronx', 'Thank You For Smoking', 'Hostel: Part II', 'An Education', 'Extract', 'Narc', 'Shopgirl', 'The Hotel New Hampshire', 'Men with Brooms', 'Witless Protection', 'The Work and the Glory', 'Albert Nobbs', 'The Neon Demon', 'Masked and Anonymous', 'Borg vs McEnroe', 'Betty Fisher et autres histoires', 'Code 46', 'The Hole', 'Black November', 'Outside Bet', 'Pound of Flesh', 'The Bye Bye Man', 'Ta Ra Rum Pum', 'Crash', 'Persepolis', 'Harry Brown', 'Die Welle', 'Diamonds Are Forever', 'The Omega Code', '3', 'Juno', 'The Godfather', 'Magic Mike', 'Flashdance', 'I Can Only Imagine', 'Five Feet Apart', 'The Piano', 'Jumping the Broom', 'Live and Let Die', 'My Dog Skip', 'Darkness Falls', 'Definitely, Maybe', 'Good Night, and Good Luck', 'Capote', 'The Great Gatsby', 'The Descent', 'Desperado', \"Logan's Run\", 'Gifted', 'Fargo', 'Kingdom Come', 'The Man with the Golden Gun', 'Action Jackson', 'Breathless', 'Michael Jordan to the MAX', 'Dope', \"The Devil's Rejects\", 'BrightBurn', \"Devil's Due\", 'Flirting with Disaster', 'Beyond the Lights', 'Buffy the Vampire Slayer', 'In Too Deep', 'House of 1,000 Corpses', 'Silver Bullet', 'House of the Dead', 'A Serious Man', 'Get Low', 'A Single Man', 'Warlock', 'The Last Temptation of Christ', 'Cyrus', 'Outside Providence', 'Bride & Prejudice', 'Rabbit-Proof Fence', \"Who's Your Caddy?\", 'Split Second', 'Nikita', 'The Other Side of Heaven', 'Dark Angel', 'American Anthem', 'Veer-Zaara', 'Redbelt', 'A Dog of Flanders', 'Auto Focus', 'The Mighty Macs', 'Somewhere', 'We Need to Talk About Kevin', 'Factory Girl', 'The Christmas Candle', 'I Hope They Serve Beer in Hell', \"Losin' It\", 'Mother and Child', 'March or Die', 'Les Visiteurs', 'Freeheld', 'Dom Hemingway', 'The Extra Man', 'Hesher', 'Chairman of the Board', 'Gerry', 'Wah-Wah', 'The Heart of Me', 'Ca$h', 'Trudno byt bogom', 'The Boondock Saints', 'Snezhnaya koroleva', 'Oddball', 'Z Storm', 'Geroy', 'Twixt', 'Criminal Activities', 'High School Musical 2', 'The Kings of Appletown', 'Stargate - The Ark of Truth', 'Alpha & Omega: The Legend of the Saw Tooth Cave', 'Pale Rider', 'House at the End of the Street', 'Dazed and Confused', 'Two Lovers and a Bear', 'Incendies', 'AimÃ©e & Jaguar', 'The Chumscrubber', 'Shade', 'Bran Nue Dae', 'Remember Me, My Love', 'Perrierâ\\x80\\x99s Bounty', 'Tropa de Elite', 'Annabelle', 'Hannah Montana/Miley Cyrus: Best of Both Worlds Concert Tour', 'Boyz n the Hood', 'La Bamba', 'The Four Seasons', 'Dressed to Kill', 'The Adventures of Huck Finn', 'Go!', 'Friends with Money', 'The Andromeda Strain', 'Bats', 'Same Kind of Different as Me', 'Nowhere in Africa', 'Shame', 'Layer Cake', 'The East', 'The Work and the Glory: American Zion', 'The Messenger', 'A Home at the End of the World', 'Aberdeen', 'Tracker', 'The Terminator', 'Good Bye, Lenin!', 'Control', 'The Damned United', 'Die FÃ¤lscher', 'Return of the Living Dead Part II', 'Gomorra', 'Mallrats', 'Grease', 'Platoon', 'Fahrenheit 9/11', 'Butch Cassidy and the Sundance Kid', 'Mary Poppins', 'Ordinary People', 'Breaking In', 'West Side Story', 'Around the World in 80 Days', 'Caddyshack', 'The Brothers', 'The Wrestler', 'Do the Right Thing', 'Escape from New York', 'The Wood', 'The Usual Suspects', 'A Nightmare On Elm Street: The Dream Child', 'National Lampoonâ\\x80\\x99s Van Wilder', 'Duel in the Sun', 'Best in Show', 'Unplanned', 'The Last King of Scotland', 'A Mighty Wind', 'The Prodigy', 'The Possession of Hannah Grace', 'School Daze', 'Daddy Day Camp', 'Mystic Pizza', 'Mr. Nice Guy', 'War and Peace', 'Sliding Doors', 'Tales from the Hood', 'Halloween 5: The Revenge of Michael Myers', 'The Words', 'The Lady in the Van', 'Bernie', 'Pollock', 'Dolphins and Whales Tribes of the Ocean 3D', '200 Cigarettes', 'City Island', 'Casa de mi Padre', 'The Guard', 'The Virgin Suicides', 'College', 'La science des rÃªves', 'Little Voice', 'Miss March', 'Simply Irresistible', 'Wish I Was Here', 'Venus', 'Veronica Mars', 'Only the Strong', 'Hedwig and the Angry Inch', 'Shattered Glass', 'The Wackness', 'Novocaine', 'Polytechnique', 'Snow Flower and the Secret Fan', 'Mandy', 'The Business of Strangers', 'JÃ»san-nin no shikaku', 'Beastmaster 2: Through the Portal of Time', 'The Wild Bunch', 'The 5th Quarter', 'The First Great Train Robbery', 'Morvern Callar', 'The Flower of Evil', 'Akmareul Boatda', 'Come Early Morning', 'The Greatest', 'Deadfall', 'Julia', 'Lucky Break', 'Surfer, Dude', 'Song One', 'Lake of Fire', 'Don McKay', '11:14', 'Icarus', 'Men of War', 'A Shine of Rainbows', 'Freaky Deaky', 'The Hit List', 'Videodrome', 'Emma', \"L\\\\'auberge espagnole\", 'Planet of the Apes', 'The Train', 'Winter in Wartime', 'Foolproof', 'Trade of Innocents', 'Tom yum goong', 'Stiff Upper Lips', 'The Inbetweeners', 'Valhalla Rising', 'Bend it Like Beckham', 'Crossover', 'Sunshine State', 'Standing Ovation', 'Khiladi 786', '[Rec] 2', 'The Sting', 'Chariots of Fire', 'Diary of a Mad Black Woman', 'Shine', 'Don Jon', 'High Plains Drifter', 'Hell Fest', 'Mambo Italiano', 'Ghost World', 'Iris', 'Galaxina', 'Les Choristes', 'Wonderland', \"De battre mon coeur s'est arrÃªtÃ©\", 'Haevnen', 'Le Havre', 'Harvard Man', 'Salvation Boulevard', 'R100', 'Miss Julie', 'Animals', 'Irreversible', 'Tao Jie', 'Rang De Basanti', 'Grabbers', \"La Vie d'AdÃ¨le â\\x80\\x93 Chapitres 1 & 2\", 'Hodejegerne', 'The Ten', 'A Room for Romeo Brass', 'The Girl with all the Gifts', 'Wilson', 'Saint Ralph', 'Dum Maaro Dum', 'Somewhere in Time', 'My Big Fat Greek Wedding', 'Get Out', 'Split', 'Paranormal Activity 3', 'Saw II', 'Insidious Chapter 2', '10 Cloverfield Lane', 'Lights Out', 'The Visit', 'Jackass: The Movie', 'Happy Death Day', 'Paranormal Activity 4', 'Ouija', 'A Nightmare On Elm Street 3: Dream Warriors', 'No se Aceptan Devoluciones', 'The Gift', 'The Big Sick', 'The Return of the Pink Panther', 'MA', 'The Robe', 'Freddyâ\\x80\\x99s Dead: The Final Nightmare', 'Monster', 'Paranormal Activity: The Marked Ones', '20,000 Leagues Under the Sea', 'Oculus', 'Dallas Buyers Club', 'No Escape', 'The Elephant Man', 'The Lazarus Effect', 'Memento', 'Our Idiot Brother', 'The Strangers: Prey at Night', 'Clerks II', 'The Players Club', 'Billy Elliot', 'The Way Way Back', 'As Above, So Below', 'Godâ\\x80\\x99s Not Dead 2', 'The Apostle', 'The Man From Snowy River', 'House Party 2', \"Doug's 1st Movie\", 'Race', 'Mommie Dearest', 'Still Alice', 'Halloween 4: The Return of Michael Myers', 'Apollo 18', 'Paul, Apostle of Christ', 'Addicted', 'O (Othello)', 'Halloween: The Curse of Michael Myers', 'The Egyptian', \"Eve's Bayou\", 'Nighthawks', 'Friday the 13th Part VIII: Jason Takes Manhattan', 'Spring Breakers', 'It Comes at Night', 'Y Tu MamÃ¡ TambiÃ©n', 'Shaun of the Dead', 'The Haunting of Molly Hartley', 'Hillaryâ\\x80\\x99s America: The Secret History of the Democratic Party', 'Lone Star', \"April Fool's Day\", 'Diner', 'Before I Fall', 'Lone Wolf McQuade', 'Sunshine Cleaning', 'Fifty Shades of Black', 'A Farewell To Arms', 'Solomon and Sheba', 'The Beastmaster', 'Not Easily Broken', 'Momsâ\\x80\\x99 Night Out', 'The Belko Experiment', 'The Perfect Match', 'Digimon: The Movie', 'Saved!', 'Les invasions barbares', 'Robin and Marian', 'Force 10 from Navarone', 'The Forsaken', 'Fahrenheit 11/9', 'UHF', 'Sea Rex 3D: Journey to a Prehistoric World', 'Grandmaâ\\x80\\x99s Boy', 'Slums of Beverly Hills', 'Once Upon a Time in the West', 'Made', 'La mala educaciÃ³n', 'Moon', '90 Minutes in Heaven', 'Incarnate', 'Keeping Up with the Steins', 'The Sweet Hereafter', 'Bottle Shock', 'Des Hommes et Des Dieux', 'Jekyll and Hyde... Together Again', 'Table 19', 'Green Room', 'Thoroughbreds', 'Heavenly Creatures', 'The Other Side of the Door', 'Everything Must Go', 'Kill the Messenger', 'Rabbit Hole', 'Jem and the Holograms', 'Paterson', 'Zero Effect', 'A Midnight Clear', 'The Machinist', 'Light Sleeper', 'American Teen', 'Atlas Shrugged: Who Is John Galt?', 'Party Monster', 'The Oh in Ohio', 'Bottle Rocket', \"Ain't Them Bodies Saints\", 'Albino Alligator', 'Jimi: All is By My Side', 'Gandhi, My Father', 'Standard Operating Procedure', 'Tucker & Dale vs. Evil', 'No Looking Back', 'Cop Car', 'Lovely, Still', 'Tycoon', 'Desert Blue', 'Decoys', 'Stuck', 'Redacted', 'Rudderless', 'Fascination', 'Grace', 'Area 51', 'Mientras duermes', 'Flying By', 'The Cottage', 'Dying of the Light', 'Yoga Hosers', 'Dead Like Me: Life After Death', 'Farce of the Penguins', 'Psych 9', 'Reach Me', 'Henry & Me', 'Born of War', \"Let's Kill Ward's Wife\", 'Capricorn One', 'We Have Your Husband', \"Should've Been Romeo\", 'Aztec Warrior', 'Navy SEAL vs. Zombies', 'The Hatching', 'Running Forever', 'Mommy', 'Obsluhoval jsem anglickÃ©ho krÃ¡le', 'Soul Kitchen', 'The Awakening', 'All Hat', 'Sling Blade', 'Hostel', 'Only God Forgives', 'Take Shelter', 'Tristram Shandy: A Cock and Bull Story', 'The Texas Chainsaw Massacre 2', 'Lady in White', 'Driving Lessons', 'Without Men', 'Treading Water', 'Pat Garrett and Billy the Kid', 'Camping Sauvage', 'Barfi', 'Dear Frankie', 'The Assassination of Richard Nixon', 'Le nom des gens', 'Savage Grace', 'Out of the Blue', 'Police Academy', 'Four Weddings and a Funeral', 'The Blue Lagoon', 'Fast Times at Ridgemont High', 'Secrets & Lies', '25th Hour', 'After Hours', 'Moby Dick', 'The Lobster', 'Bound', 'Requiem for a Dream', 'State Fair', 'LÃ¥t den rÃ¤tte komma in', 'Tango', 'Salvador', 'Donnie Darko', 'Salvando al Soldado Perez', 'Karakter', 'Nannerl la soeur de Mozart', 'Spun', 'Life During Wartime', 'Chinjeolhan geumjassi', 'Blackthorn', 'Maggie', 'Lilja 4-ever', 'After.Life', 'Mean Machine', 'Fong juk', 'Spoken Word', 'The Sweeney', 'Falcon Rising', 'Hansel & Gretel Get Baked', 'Fugly', 'Zipper', 'The Final Girls', 'Daisy Winters', \"One Flew Over the Cuckoo's Nest\", 'Silent Movie', 'Airlift (2016)', \"R.L. Stine's Monsterville: The Cabinet of Souls\", 'Anna', 'Whale Rider', 'Sexy Beast', 'Paa', 'Snabba Cash', 'Night of the Living Dead', 'Nochnoy dozor', 'Animal Kingdom', \"George A. Romero's Survival of the Dead\", 'Cargo', 'High School Musical', 'Love and Death on Long Island', \"Porky's\", 'Peter Pan', 'The Crying Game', 'Lost in Translation', 'Annie Hall', 'The Boy Next Door', 'The Greatest Show on Earth', 'Leaving Las Vegas', \"Monster's Ball\", 'Boyhood', 'Exodus', 'The Kids Are All Right', 'Life of Brian', 'A Haunted House 2', 'The Last Exorcism Part II', 'The Front Page', 'Trapeze', 'The Return of the Living Dead', 'They Live', 'Saving Grace', 'The Great Escape', \"What the #$'! Do We Know\", 'The Darkness', 'Scoop', 'The Wash', '3 Strikes', 'The Visitor', 'The Cooler', 'The Misfits', 'The Night Listener', 'The Jerky Boys', 'El orfanato', 'Bug', 'The Rules of Attraction', 'Topaz', \"Let's Go to Prison\", 'Four Rooms', 'Secretary', 'The Real Cancun', 'Talk Radio', 'Waiting for Guffman', 'Love Stinks', 'Samsara', 'You Kill Me', 'The Art of Getting By', 'Thumbsucker', 'Red State', 'MirrorMask', 'The Barbarians', 'Holy Motors', 'The Signal', 'Poolhall Junkies', 'The Loss of Sexual Innocence', 'The Face of Love', 'Joe', 'Prison', 'Shooting Fish', 'Adoration', 'Psycho Beach Party', 'Late Night', 'The Big Tease', 'Polina danser sa vie', 'Desert Dancer', 'Guten Tag, Ramon', 'Mondays in the Sun', 'Manglehorn', 'Tau ming chong', 'Trust', 'An Everlasting Piece', 'Among Giants', 'The Velocity of Gary', 'Stake Land', 'Praia do Futuro', 'Sonny', 'The Last Time I Committed Suicide', '13 Sins', 'Another Happy Day', 'Inescapable', 'Perfectos Desconocidos', 'Geograf globus propil', 'A Lonely Place to Die', 'Nothing', 'The Loved Ones', '1776', \"Hell's Angels\", 'Purple Violets', 'Replicas', 'The Helpers', 'The Veil', 'The Perfect Wave', 'How to Fall in Love', 'Chain of Command', 'Gone with the Wind', 'A Man for All Seasons', 'Ben-Hur: A Tale of the Christ', 'Network', 'Down for Life', 'The Good Heart', 'Major Dundee', 'Hevi reissu', 'The Taking of Pelham One Two Three', 'Annie Get Your Gun', 'Casa de Areia', 'Four Lions', 'Defendor', 'The Ballad of Cable Hogue', 'The Pirate', 'The History Boys', 'Unknown', 'Midnight Cowboy', 'Billy: The Early Years of Billy Graham', 'UtÃ¸ya 22. juli', 'Airplane!', 'M*A*S*H', 'The Full Monty', 'Truth or Dare', 'Menace II Society', 'Friday', 'The Witch', 'Winchester', 'Empire', 'Dark Skies', 'Forever My Girl', 'Creepshow 2', 'In Cold Blood', \"The Nun's Story\", 'Frenzy', 'Harper', 'I Got the Hook-Up!', \"She's the One\", 'Terror Train', 'Gods and Monsters', 'El secreto de sus ojos', 'Evil Dead II', 'Day of the Dead', 'First Reformed', 'Pootie Tang', 'Believe', 'La otra conquista', 'American Honey', 'The Bronze', 'Trolljegeren', 'Ira and Abby', 'The Masked Saint', 'Winter Passing', 'D.E.B.S.', 'Time to Choose', 'Surveillance', 'Taxman', 'The Kick', 'The Betrayed', 'The Secret', '2:13', 'Batman: The Dark Knight Returns, Part 2', 'In the Name of the King III', 'Wicked Blood', 'Dawn Patrol', 'Jagten', 'Lords of London', \"La marche de l'empereur\", 'High Anxiety', 'Margin Call', 'Choke', \"L\\\\'incomparable mademoiselle C.\", 'August', 'To Write Love On Her Arms', 'Carousel', 'Whiplash', 'Bella', 'Cidade de Deus', 'Human Traffic', 'The Dead Girl', 'The Opposite Sex', 'A Christmas Story', 'Class of 1984', 'Entre les murs', 'Dreaming of Joseph Lees', \"Rosemary's Baby\", 'Sorry to Bother You', 'The Man Who Shot Liberty Valance', 'Maria Full of Grace', 'Beginners', 'The Meddler', 'Adam', 'Feast', 'Itâ\\x80\\x99s a Wonderful Life', 'Trainspotting', 'Antiviral', \"National Lampoon's Animal House\", 'Paranormal Activity 2', 'War Room', 'The Purge', 'Goldfinger', 'Sinister', 'The Original Kings of Comedy', 'The Bridge on the River Kwai', 'Coming Home', 'Waking Ned Devine', 'Air Bud', 'Bowling for Columbine', \"A Nightmare on Elm Street Part 2: Freddy's Revenge\", 'A Room with a View', 'Love and Death', 'Friday the 13th Part VI: Jason Lives', 'Martin Lawrence Live: RunTelDat', 'The Apartment', 'Cat on a Hot Tin Roof', 'Beneath the Planet of the Apes', 'Pokemon 3: The Movie', 'Jason Goes to Hell: The Final Friday', 'Spaced Invaders', 'Family Plot', 'Torn Curtain', 'Upgrade', \"Dave Chappelle's Block Party\", 'Krush Groove', 'Elmer Gantry', 'Next Day Air', 'Judgment at Nuremberg', 'Belly', 'Trippinâ\\x80\\x99', 'Red River', 'The Deep End', 'Before Midnight', 'Teen Wolf Too', 'The Collector', 'Phantasm II', 'Let There Be Light', 'Phat Girlz', 'Woman Thou Art Loosed', 'Real Women Have Curves', 'Gallipoli', 'Water', 'Donâ\\x80\\x99t Think Twice', 'Swiss Army Man', 'East is East', 'Whipped', 'Kama Sutra', 'Frances Ha', 'Please Give', 'Willy Wonka & the Chocolate Factory', 'Warlock: The Armageddon', '8 Heads in a Duffel Bag', 'Days of Heaven', 'Thirteen Conversations About One Thing', 'Compadres', 'Jawbreaker', 'Basquiat', 'Tsotsi', 'Letters to God', 'Happiness', 'DysFunkTional Family', 'Tusk', 'The Wall', 'Elephant', 'Damsels in Distress', 'Oldboy', 'Hobo with a Shotgun', 'The D Train', 'Bachelorette', 'Fish Tank', 'Everybody Wants to Be Italian', 'Creature', 'The Bounce Back', 'Freeway', \"Love's Abiding Joy\", 'Dead Alive', 'Chain Letter', \"Tim and Eric's Billion Dollar Movie\", 'Holly', 'The Eclipse', 'The Grand', 'Sommersturm', 'Fort McCoy', 'The Gambler', 'Just Looking', 'Before We Go', 'The Divide', 'Tanner Hall', 'My Big Fat Independent Movie', 'Demonic', \"Ã l\\\\'intÃ©rieur\", 'They Came Together', 'Open Road', 'Alice in Wonderland', 'Barry Munday', 'The Deported', 'Chicago Overcoat', 'Never Back Down 2: The Beatdown', 'AWOL-72', '30 Nights Of Paranormal Activity With The Devil Inside The Girl With The Dragon Tattoo', 'Enter the Dangerous Mind', 'Something Wicked', 'Point Blank', 'Iguana', 'Four Single Fathers', 'Amnesiac', 'Unnatural', 'Close Range', 'The Harvey Girls', 'Cinderella', 'Central do Brasil', 'Pocketful of Miracles', 'Boynton Beach Club', 'Freakonomics', 'Griff the Invisible', 'Some Like it Hot', 'High Tension', 'Young Frankenstein', 'The Omen', 'Hustle & Flow', 'Friday the 13th Part VII: The New Blood', \"Artie Lange's Beer League\", 'The Wizard of Oz', 'Diary of the Dead', 'The Black Stallion', \"Ulee's Gold\", 'Indivisible', 'Lage Raho Munna Bhai', 'Sardaar Ji', 'Rejsen til Saturn', \"Donovan's Reef\", 'Diane', 'The Dress', 'A Guy Named Joe', 'Blazing Saddles', 'Friday the 13th Part IV: The Final Chapter', 'Ida', 'Maurice', 'Riding Giants', 'Los CronocrÃ\\xadmenes', 'La Cara Oculta', 'Timber Falls', 'Silver Medalist', 'Fat, Sick & Nearly Dead', \"Singin' in the Rain\", 'A Haunted House', '2016: Obamaâ\\x80\\x99s America', 'Kevin Hart: Let Me Explain', 'Garden State', 'That Thing You Do!', 'Halloween II', 'Halloween 3: Season of the Witch', 'Religulous', 'Escape from the Planet of the Apes', 'Hud', 'The Spectacular Now', 'My Own Private Idaho', 'Before Sunrise', 'Hunt for the Wilderpeople', 'Robot & Frank', 'Sur Le Seuil', \"Jesus' Son\", 'Saving Face', 'Brick Lane', 'The Lost Medallion: The Adventures of Billy Stone', 'My Life Without Me', \"Marilyn Hotchkiss' Ballroom Dancing and Charm School\", 'Super', 'Fuel', 'Valley of the Hearts Delight', 'The Other End of the Line', '8: The Mormon Proposition', 'Sleep Dealer', 'Eye of the Dolphin', 'Underdogs', 'Anatomie', 'The Calling', 'Alien Uprising', 'Christmas Mail', 'Stung', 'Sky Sharks', '8 Days', 'Antibirth', 'The Rise of the Krays', 'Not Safe For Work', 'Go For It!', 'Get on the Bus', 'Thr3e', 'Idiocracy', 'NiktÃ©', 'Always Woodstock', 'This is England', 'Bathing Beauty', 'Do You Believe?', 'Show Boat', 'Dancer, Texas Pop. 81', 'Frontera', 'Redemption Road', 'The Toxic Avenger Part II', 'Eden', 'The Brave Little Toaster', 'Pinocchio', 'Fantasia', 'Friday the 13th Part 3', 'The French Connection', 'Friday the 13th Part V: A New Beginning', 'The Last Sin Eater', 'Impact Point', 'The Valley of Decision', 'Chicken Tikka Masala', 'Jack Brooks: Monster Slayer', 'The Best Years of Our Lives', 'Bully', 'Elling', 'Mi America', '[Rec]', 'Infected', 'Lies in Plain Sight', 'The Timber', 'Sharkskin', 'Courageous', 'From Russia With Love', 'Mad Max 2: The Road Warrior', 'Notorious', 'In the Heat of the Night', 'Sleeper', 'Everything You Always Wanted to Know', 'It Follows', 'Eighth Grade', 'To Kill A Mockingbird', 'Silent House', \"Boys Don't Cry\", 'Das Leben der Anderen', 'Hardcore Henry', 'Lolita', 'Boom Town', \"Gentleman's Agreement\", 'The Hustler', 'Witchboard', 'Les Triplettes de Belleville', 'Smoke Signals', \"Winter's Bone\", 'Meet the Mormons', 'American Splendor', 'The Florida Project', 'All Saints', 'Before Sunset', 'Amores Perros', 'Thirteen', 'Touching the Void', 'Inside Job', \"Alexander's Ragtime Band\", 'Me and You and Everyone We Know', 'We Are Your Friends', 'Harsh Times', 'Ghost Dog: The Way of the Samurai', 'Captive', 'Full Frontal', 'Hearts Beat Loud', 'The Resurrection of Gavin Stone', 'Waltz with Bashir', 'Strangers with Candy', 'Night on Earth', 'Nemesis', 'Shortbus', 'Son of Rambow: A Home Movie', 'The Book of Mormon Movie, Volume 1: The Journey', 'Hamlet', 'The Diary of a Teenage Girl', 'No End In Sight', 'Locke', 'Get Real', 'In the Shadow of the Moon', \"Meek's Cutoff\", 'The Babadook', 'Inside Deep Throat', 'Dinner Rush', 'The Virginity Hit', 'Clockwatchers', 'Subway', 'House of D', 'Teeth', 'Stonewall', 'Sherrybaby', 'The Last Five Years', 'Six-String Samurai', 'Hum to Mohabbt Karega', \"It's All Gone Pete Tong\", 'Saint John of Las Vegas', '24 7: Twenty Four Seven', 'Pump', 'Roadside Romeo', 'Eureka', 'Lost River', 'This Thing of Ours', 'Knock Knock', 'Growing up Smith', 'Super Capers', 'Return of the Living Dead 3', 'The Missing Person', 'The First Time', 'London', 'Circle', 'Eden Lake', 'Jerusalema', 'Say Uncle', 'Plush', 'The Ghastly Love of Johnny X', 'Lesbian Vampire Killers', 'Grave Encounters', 'Bone Tomahawk', 'Freeze Frame', 'Stitches', 'To Be Frank, Sinatra at 100', 'Bananas', 'Nine Dead', \"No Man's Land: The Rise of Reeker\", 'Rockaway', 'Wings', 'The Lady from Shanghai', \"Straight A's\", 'The Legend of Hellâ\\x80\\x99s Gate: An American Conspiracy', 'Highway', 'Small Apartments', 'Coffee Town', 'Lucky Dog', 'Pendulum', 'A Funny Thing Happened on the Way to the Forum', 'Slacker Uprising', 'The Walking Deceased', 'True Bromance', 'The Curse of Downers Grove', 'Wind Walkers', 'The Dog Lover', 'Shark Lake', 'Buried', 'The Marine 4', \"River's Edge\", 'Man on Wire', 'Nowhere Boy', 'Northfork', 'Brotherly Love', 'Submarine', 'The Square', 'ABCD (Any Body Can Dance)', 'Chacun sa nuit', 'Stranded', 'Vaalu', 'The Last Exorcism', 'Carrie', 'A Nightmare on Elm Street', 'Beasts of the Southern Wild', 'Dr. Strangelove', 'Battle for the Planet of the Apes', 'A Streetcar Named Desire', \"Hang 'em High\", 'El crimen de padre Amaro', 'Songcatcher', 'Higher Ground', 'POM Wonderful Presents: The Greatest Movie Ever Sold', 'Travellers and Magicians', 'Ed and his Dead Mother', 'Deadline', 'Sublime', 'Dysfunctional Friends', 'Independence Daysaster', 'Against the Wild', 'Beginnerâ\\x80\\x99s Guide to Sex', 'Lola rennt', 'May', 'I Spit on Your Grave', 'Living Dark: The Story of Ted the Caver', 'In the Bedroom', 'La misma luna', 'Conquest of the Planet of the Apes', 'The Lunchbox', 'Grace Unplugged', 'Happy, Texas', 'Saul fia', 'My Summer of Love', 'Yes', 'Braid', 'From Here to Eternity', \"You Can't Take It With You\", 'Foolish', 'She Wore a Yellow Ribbon', 'The Conversation', 'N-Secure', 'Sukkar banat', 'Out of the Dark', 'Bubble', 'Dil Jo Bhi Kahey...', 'Mississippi Mermaid', 'Two Night Stand', 'I Love Your Work', 'The Kingâ\\x80\\x99s Thief', 'Insidious', 'Moonlight', 'Cabin Fever', 'Waitress', 'Kickboxer', 'Bloodsport', 'Mr. Smith Goes To Washington', 'Unsane', 'Kids', 'The Squid and the Whale', 'Kissing Jessica Stein', 'Spellbound', 'Dawn of the Dead', 'Exotica', 'The To Do List', 'The Gatekeepers', \"Buffalo '66\", 'Repo Man', 'Iâ\\x80\\x99m Not Ashamed', 'Blood Simple', 'Nueve Reinas', 'The Lords of Salem', '31', 'The Ballad of Jack and Rose', 'Unsullied', 'Killing Zoe', 'The Believer', 'Snow Angels', 'Session 9', 'MOOZ-lum', 'I Want Someone To Eat Cheese With', 'Amigo', 'Hatchet', 'My Name is Bruce', 'The Disappearance of Alice Creed', 'Modern Times', 'The Salon', 'The Square', 'Stolen Summer', 'Road Hard', 'Forty Shades of Blue', 'Trucker', 'Pontypool', 'Me, You and Five Bucks', 'Housebound', 'Teefa in Trouble', 'Wal-Mart: The High Cost of Low Price', 'Closer to the Moon', 'Fetching Cody', 'The Lion of Judah', 'Once Upon a Time in Queens', 'Girlhouse', 'Mutant World', '#Horror', 'Checkmate', 'Snow White and the Seven Dwarfs', 'Shalako', 'Werk ohne Autor', 'Mustang', 'The Holy Girl', 'La chambre bleue', 'Incident at Loch Ness', 'Eddie: The Sleepwalking Cannibal', \"My Girlfriend's Boyfriend\", 'Kurmanjan datka', 'House at the End of the Drive', 'Batman - The Movie', 'Lock, Stock and Two Smoking Barrels', 'The Ballad of Gregorio Cortez', 'San Francisco', 'Festen', 'Trees Lounge', 'The Girlfriend Experience', 'Journey from the Fall', 'The Basket', 'Above and Beyond', 'Def-Con 4', \"Neal n' Nikki\", 'The Hebrew Hammer', 'Los insolitos peces gato', 'Simon', 'Forget Me Not', 'The 41-Year-Old Virgin Who Knocked Up Sarah Marshall and Felt Superbad About It', 'The Algerian', 'Rebecca', 'Friday the 13th Part 2', 'The Lost Weekend', 'C.H.U.D.', 'Dear White People', 'Filly Brown', 'Niagara', 'Bodom', 'How Green Was My Valley', 'Da Sweet Blood of Jesus', 'Saw', 'Sex, Lies, and Videotape', 'Super Troopers', 'Monsoon Wedding', 'You Can Count on Me', 'Strangers on a Train', 'The Trouble with Harry', 'Il buono, il brutto, il cattivo', 'The Day the Earth Stood Still', 'Home Run', 'Reservoir Dogs', \"But I'm a Cheerleader\", 'The Wrong Man', 'The Rocky Horror Picture Show', 'The Blue Bird', 'Blue Like Jazz', 'Que Horas Ela Volta?', 'Q', 'Down & Out with the Dolls', 'Pink Ribbons, Inc.', 'Blood Feast', 'Certifiably Jonathan', 'La navaja de Don Juan', 'Extreme Movie', 'The Charge of the Light Brigade', 'Grand Theft Parsons', 'Below Zero', 'Crowsnest', 'Airborne', 'Cotton Comes to Harlem', 'Bleeding Hearts', 'The Wicked Within', 'The Islands', 'Godâ\\x80\\x99s Not Dead', 'Waiting...', \"Dead Man's Shoes\", 'The Fog', 'Wolf Creek', 'Ong-Bak', 'Serbuan maut', 'Down by Law', 'The Offspring', 'Sex with Strangers', 'Beyond the Black Rainbow', \"Dracula: Pages from a Virgin's Diary\", 'The Sleepwalker', 'Departure', 'Faith Like Potatoes', 'Lake Mungo', 'Silent Running', 'The Dead Undead', 'The Vatican Exorcisms', 'Rocket Singh: Salesman of the Year', 'Casablanca', 'Rocky', 'The Devil Inside', 'Tom Jones', 'Unfriended', 'Taxi Driver', 'An Inconvenient Truth', \"You're Next\", 'Chernobyl Diaries', 'The Howling', 'Dr. No', 'Hellraiser', 'Hello, My Name is Doris', 'Cry Wolf', 'Godzilla 2000', 'Blue Valentine', 'Transamerica', 'Beyond the Valley of the Dolls', 'Love Me Tender', 'Unfriended: Dark Web', 'Sands of Iwo Jima', 'The Green Inferno', 'I Am Not Your Negro', 'The Sessions', 'Shine a Light', 'October Baby', 'The Skeleton Twins', '20 Feet From Stardom', 'Food, Inc.', 'An Inconvenient Sequel', 'Next Stop Wonderland', 'Obvious Child', 'Martha Marcy May Marlene', 'Junebug', 'Frozen River', 'Sidewalks of New York', 'Two Girls and a Guy', 'The Broken Hearts Club: A Romantic Comedy', 'Who Killed the Electric Car?', 'The Secrets of Jonathan Sperry', 'Walking and Talking', 'Bubba Ho-Tep', \"No Man's Land\", 'Slam', 'Visages villages', 'Brigham City', 'Patti Cake$', 'Panic', 'Palo Alto', 'Fiza', 'Ajami', 'Orgazmo', 'The Future', 'All the Real Girls', '23 Blast', 'Dream With The Fishes', 'The Act of Killing', 'Blue Car', 'Wristcutters: A Love Story', 'Luminarias', 'I Origins', 'Antarctica: A Year on Ice', 'The Battle of Shaker Heights', 'Taxi to the Dark Side', 'The Invitation', 'Guiana 1838', 'Love Liza', 'Once in a Lifetime: the Extraordinary Story of the New York Cosmos', 'Lisa Picard is Famous', 'Beyond the Brick: A LEGO Brickumentary', 'The House of the Devil', 'Hardflip', 'Creative Control', 'Chocolate: Deep Dark Secrets', 'The Perfect Host', 'The Last Big Thing', 'Safe Men', 'Speedway Junky', 'Hits', 'The Specials', '16 to Life', 'Alone with Her', 'Camp X-Ray', 'Special', 'The Sisterhood of Night', 'Sparkler', 'The Helixâ\\x80¦Loaded', 'Childless', 'In Her Line of Fire', 'The Jimmy Show', 'Heli', 'Karachi se Lahore', 'Loving Annabelle', 'American Hero', 'Frat Party', 'Jimmy and Judy', \"The Party's Over\", 'The Poker House', 'Proud', 'Steppin: The Movie', 'Zombies of Mass Destruction', 'Snow White: A Deadly Summer', 'Truth or Die', 'Black Rock', 'Hidden Away', 'My Last Day Without You', 'Zombie Hunter', \"Doc Holliday's Revenge\", 'A Fine Step', 'Fear Clinic', 'The Pet', 'Bang Bang Baby', 'Hush', '1982', 'The Horror Network', 'Chemical Cut', 'Por amor en el caserio', 'And Then Came Love', 'Hard Candy', 'Charly', 'Banshee Chapter', 'Trance', 'Jesse', 'Ask Me Anything', 'L!fe Happens', 'Lowriders', 'Food Chains', 'On the Waterfront', 'Fruitvale Station', 'Meet the Blacks', '4 luni, 3 saptamani si 2 zile', 'Circumstance', 'The Quiet', 'The Giant Mechanical Man', 'The Brass Teapot', '40 Weeks', \"Le bonheur d'Elza\", 'Bambi', 'For a Good Time, Call', 'Latter Days', 'The Hammer', 'Windsor Drive', 'Snitch', 'Harrison Montgomery', 'Celeste and Jesse Forever', 'Time Changer', 'London to Brighton', 'Crying With Laughter', 'Billy Jack', 'Jodaeiye Nader az Simin', 'Welcome to the Dollhouse', 'Raising Victor Vargas', 'Ruby in Paradise', \"Pandora's Box\", 'Cama adentro', 'Deterrence', 'The Mudge Boy', 'The Young Unknowns', 'DÃ¸d snÃ¸', 'Not Cool', 'Kill List', 'Vessel', 'Saints and Soldiers', 'American Graffiti', 'Iraq for Sale: The War Profiteers', 'Kevin Hart: Laugh at My Pain', 'Aqua Teen Hunger Force Colon Movie Film for Theaters', 'Safety Not Guaranteed', 'The Innkeepers', 'Il conformista', 'Interview with the Assassin', 'Undead', 'Donkey Punch', 'All the Boys Love Mandy Lane', 'Destiny', 'Bled', 'Adulterers', 'La mariÃ©e Ã©tait en noir', 'High Noon', 'Hoop Dreams', 'Rize', 'Half Nelson', 'L.I.E.', 'Columbus', 'Naturally Native', 'B-Girl', 'Walter', 'King Kong', 'House of Wax', 'Hav Plenty', 'Escape from Tomorrow', 'That Way Madness Lies', 'After', 'The Hadza: Last of the First', 'Starsuckers', 'Treachery', 'Top Hat', 'The Blair Witch Project', 'Woodstock', 'The Kentucky Fried Movie', 'Per qualche dollaro in piÃ¹', 'Mercy Streets', 'Water & Power', 'Arnolds Park', 'Broken Vessels', 'Drunk Wedding', 'They Will Have to Kill Us First', 'Crop Circles: Quest for Truth', \"The Maid's Room\", 'Light from the Darkroom', 'Irreplaceable', \"A Hard Day's Night\", 'The Harvest/La Cosecha', 'Julija in alfa Romeo', 'Mata Hari', 'Friday the 13th', 'Love Letters', 'Faith Connections', 'High Road', 'Fireproof', 'Benji', 'Open Water', 'Kingdom of the Spiders', 'Mad Hot Ballroom', 'The Station Agent', 'To Save a Life', 'Wordplay', 'Beyond the Mat', 'The Singles Ward', 'Sholem Aleichem: Laughing in the Darkness', 'Osama', 'Groove', 'The R.M.', 'Twin Falls Idaho', 'Mean Creek', 'Drinking Buddies', 'Hurricane Streets', 'Never Again', 'Shichinin no samurai', 'Civil Brand', 'Monsters', 'Lonesome Jim', 'Deceptive Practice: The Mysteries and Mentors of Ricky Jay', 'The Other Dream Team', 'O Menino e o Mundo', 'Rubber', 'Johnny Suede', 'Finishing the Game', 'Kiss the Bride', 'The Journey', 'Home', 'The Slaughter Rule', 'The Living Wake', 'Scott Walker: 30 Century Man', 'The Californians', 'Born to Fly: Elizabeth Streb vs. Gravity', 'Detention of the Dead', 'Higher Power', 'Feng kuang de shi tou', 'Now is Good', 'Griffin & Phoenix', 'Everything Put Together', 'Drones', 'Enter Nowhere', 'Girls Gone Dead', 'Insomnia Manica', 'America Is Still The Place', 'The Outrageous Sophie Tucker', 'Subconscious', 'Roadside', 'Diamond Ruff', 'Love in the Time of Monsters', 'El rey de Najayo', 'Fight to the Finish', 'Bucky and the Squirrels', 'Going Under', 'Crossroads', \"Alleluia! The Devil's Carnival\", 'Brooklyn Bizarre', 'The Sound and the Shadow', 'Rodeo Girl', 'The Little Ponderosa Zoo', 'The Toxic Avenger', 'Paranormal Activity', 'Straight out of Brooklyn', 'Brick', 'Sunday', 'Conversations with Other Women', \"Siakh lokhamim: ha'slilim ha'gnouzim\", 'Poultrygeist: Night of the Chicken Dead', 'As It Is in Heaven', 'Mutual Friends', 'Rise Of the Entrepreneur - The Search For A Better Way', '42nd Street', 'Metropolitan', 'Moartea domnului Lazarescu', 'Gory Gory Hallelujah', 'Blue Ruin', 'Napoleon Dynamite', 'Monty Python and the Holy Grail', 'Quinceanera', 'Dogtown and Z-Boys', 'Heroes', 'Tarnation', 'I Want Your Money', \"E tu vivrai nel terrore - L'aldilÃ\", 'Home Movies', 'Jackpot', 'Fabled', 'The Dark Hours', 'Viskningar och rop', 'My Beautiful Laundrette', 'Show Me', 'Pancakes', 'Intolerance', 'The Broadway Melody', 'The Evil Dead', 'Trekkies', 'Maniac', 'American Ninja 2: The Confrontation', 'Murderball', 'My Dog Tulip', '51 Birch Street', 'Revolution#9', 'Royal Kill', 'Rotor DR1', '12 Angry Men', 'Halloween', 'It Happened One Night', 'Kynodontas', 'Tumbleweeds', 'Tupac Resurrection', \"God's Army\", 'Pieces of April', \"When The Cat's Away\", 'Wendy and Lucy', \"Let's Talk About Sex\", 'Old Joy', 'First Morning', 'Pierrot le fou', 'The Watermelon Woman', '3 Backyards', 'Sisters in Law', 'Nothing But a Man', 'Ayurveda: Art of Being', 'First Love, Last Rites', 'Fighting Tommy Riley', 'Locker 13', 'The Looking Glass', 'All You Need Is Love', 'Death Race 2000', 'Some Guy Who Kills People', 'Midnight Cabaret', 'Teeth and Blood', 'Walking to Paris', \"Anderson's Cross\", \"Amidst the Devil's Wings\", 'Death Calls', 'Compliance', 'Graduation Day', 'Chasing Amy', 'Lovely and Amazing', 'Sleight', 'Better Luck Tomorrow', 'Like Crazy', 'The Incredibly True Adventure of Two Girls in Love', 'Chuck&Buck', 'American Desi', 'Cube', 'Love and Other Catastrophes', 'I Married a Strange Person', 'November', 'Sugar Town', 'Happy Valley', 'The Canyons', 'The Motel', 'On the Outs', 'Shotgun Stories', 'Nightlights', 'Test', 'The Sticky Fingers of Time', 'Along the Roadside', 'Sunday School Musical', 'Rust', 'The Christmas Bunny', 'Ink', 'The Frozen', 'Jesus People', 'Butterfly', 'UnDivided', 'Horse Camp', 'Give Me Shelter', 'Rock the House', 'Shooting the Warwicks', 'The Love Letter', 'Western Religion', '11-Apr', 'The Big Parade', 'Little Big Top', 'Bronson', 'Burn', 'Urbania', 'The Beast from 20,000 Fathoms', 'The Stewardesses', 'Mad Max', '20,000 Leagues Under the Sea', 'Swingers', 'Per un pugno di dollari', 'The Grace Card', 'She Done Him Wrong', 'Trois', 'The Overnight', 'Short Cut to Nirvana: Kumbh Mela', 'Middle of Nowhere', 'Call+Response', 'The Business of Fancy Dancing', 'Hybrid', 'Baghead', 'Malevolence', 'Side Effects', 'Good Dick', 'The Case of the Grinning Cat', 'Solitude', 'The Word', 'The Trials of Darryl Hunt', 'The Man From Earth', 'Samantha: An American Girl Holiday', 'Yesterday Was a Lie', 'Archaeology of a Woman', 'Sanctuary; Quite a Conundrum', 'Theresa Is a Mother', 'Perfect Cowboy', 'H.', 'Weekend', 'Bacheha-Ye aseman', 'Butterfly Girl', 'Arrowhead', \"She's Gotta Have It\", 'Another Earth', 'Sparrows Dance', 'Heroes of Dirt', 'The Fits', 'Dolphin', 'Lumea e a mea', 'The Horse Boy', 'The Calling', \"Sweet Sweetback's Baad Asssss Song\", 'Once', 'Tadpole', 'The Woman Chaser', 'Antarctic Edge: 70Âº South', 'Top Spin', 'Speak No Evil', 'A Charlie Brown Christmas', 'Aroused', 'Escaping the Holocost', 'The Texas Chainsaw Massacre', 'Roger & Me', 'Sound of My Voice', 'Cat People', 'An American in Hollywood', 'The Brain That Sings', 'Romantic Schemer', \"Your Sister's Sister\", 'The Blood of My Brother: A Story of Death in Iraq', \"A Dog's Breakfast\", 'Une Femme MariÃ©e', 'Night of the Living Dead', 'The Birth of a Nation', 'The Work and the Story', 'The Gallows', 'Facing the Giants', 'Eraserhead', 'Hollywood Shuffle', 'Over the Hill to the Poorhouse', 'The Mighty', 'A Ghost Story', 'Penitentiary', 'The Lost Skeleton of Cadavra', 'Cheap Thrills', 'The Past is a Grotesque Animal', 'Keeping it Real: The Adventures of Greg Walloch', 'Indie Game: The Movie', \"Dude, Where's My Dog\", 'Echo Dr.', 'Closure', 'Lunchtime Heroes', 'Open Secret', 'The Night Visitor', 'Tiger Orange', 'The Last House on the Left', 'The Foot Fist Way', 'Dawn of the Crescent Moon', 'Queen Crab', 'Happy Christmas', 'Peace, Propaganda and the Promised Land', 'Absentia', 'Pi', \"I Love You â\\x80¦ Don't Touch Me!\", '20 Dates', 'Super Size Me', 'Supporting Characters', 'The FP', 'Hayride', \"The Brain That Wouldn't Die\", 'The Dirties', 'The Brothers McMullen', 'Gabriela', 'Tiny Furniture', 'The Signal', 'Counting', 'Big Things', 'Down and Dangerous', 'The Call of Cthulhu', 'Bending Steel', 'Run, Hide, Die', 'The Image Revolution', 'A True Story', 'George Washington', 'This Is Martin Bonner', 'Smiling Fish and Goat on Fire', 'The Exploding Girl', 'Raymond Did It', 'Foreign Letters', 'The Last Waltz', 'Her Cry: La Llorona Investigation', 'Happy 40th', \"The Legend of God's Gun\", 'Krisha', 'Mutual Appreciation', 'Funny Ha Ha', 'Down Terrace', 'Paraphobia', 'Clerks', 'Pink Narcissus', 'Emily', 'Deep Throat', 'In the Company of Men', 'The Terrorist', 'Exeter', 'Manito', 'Ten', 'Dutch Kills', 'Slacker', 'Dry Spell', 'Flywheel', 'All Superheroes Must Die', 'The Front Man', 'Steel Spirit', 'The Ridges', 'The Puffy Chair', 'Breaking Upwards', 'Stories of Our Lives', 'Pink Flamingos', \"Grip: A Criminal's Story\", 'Tin Can Man', 'Dayereh', 'Clean', 'Cure', 'On the Downlow', 'Bang', 'The Rise and Fall of Miss Thang', 'Family Motocross', 'Newlyweds', 'El Mariachi', 'Primer', 'Cavite', 'The Mongol King', 'Red 11', 'Following', 'Return to the Land of Wonders', 'A Plague So Pleasant', 'My Date With Drew']\n"
     ]
    }
   ],
   "source": [
    "\n",
    "# Create an empty list\n",
    "result_list = []\n",
    "\n",
    "# Iterate over DataFrame rows and append values from column 'movie'\n",
    "for _, row in df.iterrows():\n",
    "    result_list.append(row['movie'])\n",
    "\n",
    "print(result_list)\n"
   ]
  },
  {
   "cell_type": "code",
   "execution_count": null,
   "metadata": {},
   "outputs": [],
   "source": [
    "#df['worldwide_gross'] = df['worldwide_gross']*\n",
    "#df['worldwide_gross']"
   ]
  },
  {
   "attachments": {},
   "cell_type": "markdown",
   "metadata": {},
   "source": [
    "Data Visualization plays a crucial role in data science as it helps in understanding and communicating insights from data effectively. Here are some of my data visualization techniques"
   ]
  },
  {
   "cell_type": "code",
   "execution_count": 86,
   "metadata": {},
   "outputs": [
    {
     "data": {
      "image/png": "[encoded data removed]",
      "text/plain": [
       "<Figure size 800x600 with 1 Axes>"
      ]
     },
     "metadata": {},
     "output_type": "display_data"
    }
   ],
   "source": [
    "top_10_pro_budget = df['production_budget'].nlargest(10)\n",
    "mean_pro_budget = top_10_pro_budget.mean()\n",
    "movies = result_list\n",
    "\n",
    "fig, ax = plt.subplots(figsize=(8, 6))\n",
    "ax.hist(top_10_pro_budget, bins=10, alpha=0.8, color='green')\n",
    "ax.axvline(mean_pro_budget, color='black', linestyle='dashed', linewidth=1)\n",
    "ax.set_title('Distribution of Production Budget')\n",
    "ax.set_xlabel('top_10_pro_budget')\n",
    "ax.set_ylabel('movies')\n",
    "plt.show()"
   ]
  },
  {
   "cell_type": "code",
   "execution_count": null,
   "metadata": {},
   "outputs": [],
   "source": []
  },
  {
   "cell_type": "code",
   "execution_count": null,
   "metadata": {},
   "outputs": [],
   "source": []
  },
  {
   "cell_type": "code",
   "execution_count": null,
   "metadata": {},
   "outputs": [],
   "source": []
  },
  {
   "cell_type": "code",
   "execution_count": null,
   "metadata": {},
   "outputs": [],
   "source": []
  },
  {
   "cell_type": "code",
   "execution_count": null,
   "metadata": {},
   "outputs": [],
   "source": []
  },
  {
   "cell_type": "code",
   "execution_count": null,
   "metadata": {},
   "outputs": [],
   "source": []
  },
  {
   "cell_type": "code",
   "execution_count": null,
   "metadata": {},
   "outputs": [],
   "source": []
  },
  {
   "cell_type": "code",
   "execution_count": null,
   "metadata": {},
   "outputs": [],
   "source": []
  },
  {
   "cell_type": "code",
   "execution_count": null,
   "metadata": {},
   "outputs": [],
   "source": []
  },
  {
   "cell_type": "code",
   "execution_count": null,
   "metadata": {},
   "outputs": [],
   "source": []
  },
  {
   "cell_type": "code",
   "execution_count": null,
   "metadata": {},
   "outputs": [],
   "source": []
  },
  {
   "cell_type": "code",
   "execution_count": null,
   "metadata": {},
   "outputs": [],
   "source": []
  },
  {
   "cell_type": "code",
   "execution_count": null,
   "metadata": {},
   "outputs": [],
   "source": []
  }
 ],
 "metadata": {
  "kernelspec": {
   "display_name": "learn-env",
   "language": "python",
   "name": "python3"
  },
  "language_info": {
   "codemirror_mode": {
    "name": "ipython",
    "version": 3
   },
   "file_extension": ".py",
   "mimetype": "text/x-python",
   "name": "python",
   "nbconvert_exporter": "python",
   "pygments_lexer": "ipython3",
   "version": "3.10.11"
  },
  "orig_nbformat": 4
 },
 "nbformat": 4,
 "nbformat_minor": 2
}
