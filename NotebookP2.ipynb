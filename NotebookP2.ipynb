{
 "cells": [
  {
   "attachments": {},
   "cell_type": "markdown",
   "metadata": {},
   "source": [
    "USING DATA ANALYSIS TO GENERATE INSIGHTS FOR MICROSOFT"
   ]
  },
  {
   "attachments": {},
   "cell_type": "markdown",
   "metadata": {},
   "source": [
    "Business Problem"
   ]
  },
  {
   "attachments": {},
   "cell_type": "markdown",
   "metadata": {},
   "source": [
    "The purpose of this initiative is to leverage data analysis techniques to generate valuable insights and inform strategic decision-making as Microsoft ventures into original video creation. By harnessing the power of data, we aim to gain a deeper understanding of the video content creation market, identify target audience preferences, evaluate content strategies, and assess the financial viability of this endeavor. These insights will enable Microsoft to develop a successful video content creation strategy, differentiate itself in the competitive landscape, and maximize opportunities in the evolving digital entertainment industry."
   ]
  },
  {
   "attachments": {},
   "cell_type": "markdown",
   "metadata": {},
   "source": [
    "Problem Statement"
   ]
  },
  {
   "attachments": {},
   "cell_type": "markdown",
   "metadata": {},
   "source": [
    "The problem at hand is to leverage data analysis techniques to generate valuable insights and strategic recommendations for Microsoft's venture into original video creation. The objective is to understand the potential opportunities, challenges, and market dynamics surrounding this endeavor, enabling Microsoft to make informed decisions and develop a successful video content creation strategy.\n",
    "\n",
    "Key Considerations are market analysis, financial viability and distribution and marketing strategies"
   ]
  },
  {
   "attachments": {},
   "cell_type": "markdown",
   "metadata": {},
   "source": [
    "Defining the Metric for Success"
   ]
  },
  {
   "attachments": {},
   "cell_type": "markdown",
   "metadata": {},
   "source": [
    "a) Data manipulation: It allows data scientists to preprocess, organize, and transform raw data into a more useful and structured format for analysis. It helps in extracting meaningful insights, identifying patterns, and preparing the data for further modeling, visualization, or statistical analysis.\n",
    "\n",
    "b) Evolving business needs: As a data science project progresses, stakeholders may gain new insights or change their priorities, leading to alterations in the project's scope. For example, they might request additional analyses or require different metrics to be measured.\n",
    "\n",
    "c)Analyze financial feasibility: Evaluate the financial viability of entering the movie space. Assess the potential return on investment (ROI) based on factors such as production costs, revenue streams and potential risks."
   ]
  },
  {
   "attachments": {},
   "cell_type": "markdown",
   "metadata": {},
   "source": [
    "Understanding the Context"
   ]
  },
  {
   "attachments": {},
   "cell_type": "markdown",
   "metadata": {},
   "source": [
    "a) Market Landscape: \n",
    " The analysis would likely involve a comprehensive examination of the video content creation market, including industry trends, competitive landscape, and consumer preferences. It would assess the current state of the market, growth opportunities, and potential challenges.\n",
    "\n",
    "b) Production Infrastructure:\n",
    " The analysis would evaluate the necessary production infrastructure and capabilities required for video content creation. This would involve considering aspects such as content production studios, equipment, talent acquisition, content distribution platforms, and potential partnerships with production companies or content creators.\n",
    "\n",
    "c) Financial Considerations: \n",
    "The analysis would assess the financial aspects of venturing into video content creation. This includes estimating budgets, revenue projections, return on investment, and cost management strategies to ensure a sustainable and profitable venture."
   ]
  },
  {
   "attachments": {},
   "cell_type": "markdown",
   "metadata": {},
   "source": [
    "Data Relevance "
   ]
  },
  {
   "attachments": {},
   "cell_type": "markdown",
   "metadata": {},
   "source": [
    "\n",
    "The relevance of data depends on the credibility and trustworthiness of the data source. Data from reputable and reliable sources are generally considered more relevant and trustworthy. By ensuring data relevance, data scientists can improve the accuracy and applicability of their analysis, leading to more reliable insights and informed decision-making.\n",
    "\n",
    "The files I used are both Comma Separated Value (CSV) files\n",
    "\n",
    "i) movie_gross.csv\n",
    "Analyzing the foreign gross revenue can highlight the potential opportunities for expanding your video content to international markets. If the foreign gross is a substantial portion of the total gross, it suggests that there is a global audience for video content, and it may be worth exploring international distribution and licensing opportunities.\n",
    "Analyzing the performance of movies in the video content creation space can provide insights into the success factors and strategies employed by other content creators. You can identify the top-performing movies, production studios, and content creators, which can serve as benchmarks and inspiration for your own content creation efforts.\n",
    "\n",
    "ii)movie_budgets.csv\n",
    " Analyzing movie budgets alongside box office performance can reveal market dynamics and trends. It helps identify successful strategies, budget ranges associated with different levels of commercial success, and audience preferences. This information can guide your decision-making process and provide insights into optimizing budgets for maximum impact.\n",
    " Movie budgets give you an understanding of the production costs involved in creating video content. By analyzing historical data, you can get a sense of the typical budget range for different types of movies or video content projects. This helps you estimate the financial resources required for your own content creation endeavors.\n",
    " "
   ]
  },
  {
   "attachments": {},
   "cell_type": "markdown",
   "metadata": {},
   "source": [
    " Data Understanding "
   ]
  },
  {
   "attachments": {},
   "cell_type": "markdown",
   "metadata": {},
   "source": [
    "\n",
    "i) Contextual Understanding:\n",
    "Data understanding allows you to gain a comprehensive understanding of the project's background, objectives, and scope. It helps you identify the data sources, data collection methods, and any limitations or biases associated with the data. This contextual understanding is crucial for conducting a meaningful analysis and interpreting the results accurately.\n",
    "\n",
    "ii) Data Quality Assessment: \n",
    "Data understanding involves assessing the quality of the data. It helps you identify any data issues such as missing values, outliers, inconsistencies, or errors. By understanding the data quality, you can make informed decisions on how to handle or address these issues during the analysis phase. Ensuring data quality is essential for generating reliable insights and making sound business decisions.\n"
   ]
  },
  {
   "cell_type": "code",
   "execution_count": 141,
   "metadata": {},
   "outputs": [],
   "source": [
    "import pandas as pd\n",
    "import numpy as np\n",
    "import seaborn as sns\n",
    "import matplotlib.pyplot as plt\n",
    "%matplotlib inline"
   ]
  },
  {
   "cell_type": "code",
   "execution_count": 142,
   "metadata": {},
   "outputs": [],
   "source": [
    "df_gross = pd.read_csv('Data\\movies_gross.csv')\n",
    "df_budgets = pd.read_csv('Data\\movie_budgets.csv')"
   ]
  },
  {
   "cell_type": "code",
   "execution_count": 143,
   "metadata": {},
   "outputs": [
    {
     "data": {
      "text/plain": [
       "(3387, 5)"
      ]
     },
     "execution_count": 143,
     "metadata": {},
     "output_type": "execute_result"
    }
   ],
   "source": [
    "#investigate the data shape\n",
    "\n",
    "df_gross.shape"
   ]
  },
  {
   "cell_type": "code",
   "execution_count": 144,
   "metadata": {},
   "outputs": [
    {
     "data": {
      "text/plain": [
       "(5782, 6)"
      ]
     },
     "execution_count": 144,
     "metadata": {},
     "output_type": "execute_result"
    }
   ],
   "source": [
    "#investigate the data shape\n",
    "df_budgets.shape"
   ]
  },
  {
   "cell_type": "code",
   "execution_count": 145,
   "metadata": {},
   "outputs": [
    {
     "data": {
      "text/plain": [
       "id                    int64\n",
       "release_date         object\n",
       "movie                object\n",
       "production_budget    object\n",
       "domestic_gross       object\n",
       "worldwide_gross      object\n",
       "dtype: object"
      ]
     },
     "execution_count": 145,
     "metadata": {},
     "output_type": "execute_result"
    }
   ],
   "source": [
    "#investigate the data types \n",
    "df_budgets.dtypes"
   ]
  },
  {
   "cell_type": "code",
   "execution_count": 146,
   "metadata": {},
   "outputs": [
    {
     "data": {
      "text/plain": [
       "title              object\n",
       "studio             object\n",
       "domestic_gross    float64\n",
       "foreign_gross      object\n",
       "year                int64\n",
       "dtype: object"
      ]
     },
     "execution_count": 146,
     "metadata": {},
     "output_type": "execute_result"
    }
   ],
   "source": [
    "df_gross.dtypes"
   ]
  },
  {
   "cell_type": "code",
   "execution_count": 147,
   "metadata": {},
   "outputs": [
    {
     "data": {
      "text/plain": [
       "<bound method DataFrame.info of                                             title      studio  domestic_gross   \n",
       "0                                     Toy Story 3          BV     415000000.0  \\\n",
       "1                      Alice in Wonderland (2010)          BV     334200000.0   \n",
       "2     Harry Potter and the Deathly Hallows Part 1          WB     296000000.0   \n",
       "3                                       Inception          WB     292600000.0   \n",
       "4                             Shrek Forever After        P/DW     238700000.0   \n",
       "...                                           ...         ...             ...   \n",
       "3382                                    The Quake       Magn.          6200.0   \n",
       "3383                  Edward II (2018 re-release)          FM          4800.0   \n",
       "3384                                     El Pacto        Sony          2500.0   \n",
       "3385                                     The Swan  Synergetic          2400.0   \n",
       "3386                            An Actor Prepares       Grav.          1700.0   \n",
       "\n",
       "     foreign_gross  year  \n",
       "0        652000000  2010  \n",
       "1        691300000  2010  \n",
       "2        664300000  2010  \n",
       "3        535700000  2010  \n",
       "4        513900000  2010  \n",
       "...            ...   ...  \n",
       "3382           NaN  2018  \n",
       "3383           NaN  2018  \n",
       "3384           NaN  2018  \n",
       "3385           NaN  2018  \n",
       "3386           NaN  2018  \n",
       "\n",
       "[3387 rows x 5 columns]>"
      ]
     },
     "execution_count": 147,
     "metadata": {},
     "output_type": "execute_result"
    }
   ],
   "source": [
    "df_gross.info"
   ]
  },
  {
   "cell_type": "code",
   "execution_count": 148,
   "metadata": {},
   "outputs": [
    {
     "data": {
      "text/plain": [
       "<bound method NDFrame.describe of                                             title      studio  domestic_gross   \n",
       "0                                     Toy Story 3          BV     415000000.0  \\\n",
       "1                      Alice in Wonderland (2010)          BV     334200000.0   \n",
       "2     Harry Potter and the Deathly Hallows Part 1          WB     296000000.0   \n",
       "3                                       Inception          WB     292600000.0   \n",
       "4                             Shrek Forever After        P/DW     238700000.0   \n",
       "...                                           ...         ...             ...   \n",
       "3382                                    The Quake       Magn.          6200.0   \n",
       "3383                  Edward II (2018 re-release)          FM          4800.0   \n",
       "3384                                     El Pacto        Sony          2500.0   \n",
       "3385                                     The Swan  Synergetic          2400.0   \n",
       "3386                            An Actor Prepares       Grav.          1700.0   \n",
       "\n",
       "     foreign_gross  year  \n",
       "0        652000000  2010  \n",
       "1        691300000  2010  \n",
       "2        664300000  2010  \n",
       "3        535700000  2010  \n",
       "4        513900000  2010  \n",
       "...            ...   ...  \n",
       "3382           NaN  2018  \n",
       "3383           NaN  2018  \n",
       "3384           NaN  2018  \n",
       "3385           NaN  2018  \n",
       "3386           NaN  2018  \n",
       "\n",
       "[3387 rows x 5 columns]>"
      ]
     },
     "execution_count": 148,
     "metadata": {},
     "output_type": "execute_result"
    }
   ],
   "source": [
    "df_gross.describe"
   ]
  },
  {
   "attachments": {},
   "cell_type": "markdown",
   "metadata": {},
   "source": [
    "Data Preparation \n",
    "also known as data preprocessing, is a crucial step in data science and involves transforming raw data into a clean, organized, and structured format suitable for analysis. It encompasses a series of operations and techniques applied to the data to address issues such as missing values, outliers, inconsistencies and formatting discrepancies. "
   ]
  },
  {
   "cell_type": "code",
   "execution_count": 149,
   "metadata": {},
   "outputs": [],
   "source": [
    "#Data integration, my list of df\n",
    "list_of_dataframes = [df_budgets, df_gross ]\n",
    "df = pd.concat(list_of_dataframes)"
   ]
  },
  {
   "cell_type": "code",
   "execution_count": 150,
   "metadata": {},
   "outputs": [
    {
     "data": {
      "text/html": [
       "<div>\n",
       "<style scoped>\n",
       "    .dataframe tbody tr th:only-of-type {\n",
       "        vertical-align: middle;\n",
       "    }\n",
       "\n",
       "    .dataframe tbody tr th {\n",
       "        vertical-align: top;\n",
       "    }\n",
       "\n",
       "    .dataframe thead th {\n",
       "        text-align: right;\n",
       "    }\n",
       "</style>\n",
       "<table border=\"1\" class=\"dataframe\">\n",
       "  <thead>\n",
       "    <tr style=\"text-align: right;\">\n",
       "      <th></th>\n",
       "      <th>id</th>\n",
       "      <th>release_date</th>\n",
       "      <th>movie</th>\n",
       "      <th>production_budget</th>\n",
       "      <th>domestic_gross</th>\n",
       "      <th>worldwide_gross</th>\n",
       "      <th>title</th>\n",
       "      <th>studio</th>\n",
       "      <th>foreign_gross</th>\n",
       "      <th>year</th>\n",
       "    </tr>\n",
       "  </thead>\n",
       "  <tbody>\n",
       "    <tr>\n",
       "      <th>0</th>\n",
       "      <td>1.0</td>\n",
       "      <td>18-Dec-09</td>\n",
       "      <td>Avatar</td>\n",
       "      <td>$425,000,000</td>\n",
       "      <td>$760,507,625</td>\n",
       "      <td>$2,776,345,279</td>\n",
       "      <td>NaN</td>\n",
       "      <td>NaN</td>\n",
       "      <td>NaN</td>\n",
       "      <td>NaN</td>\n",
       "    </tr>\n",
       "    <tr>\n",
       "      <th>1</th>\n",
       "      <td>2.0</td>\n",
       "      <td>20-May-11</td>\n",
       "      <td>Pirates of the Caribbean: On Stranger Tides</td>\n",
       "      <td>$410,600,000</td>\n",
       "      <td>$241,063,875</td>\n",
       "      <td>$1,045,663,875</td>\n",
       "      <td>NaN</td>\n",
       "      <td>NaN</td>\n",
       "      <td>NaN</td>\n",
       "      <td>NaN</td>\n",
       "    </tr>\n",
       "    <tr>\n",
       "      <th>2</th>\n",
       "      <td>3.0</td>\n",
       "      <td>7-Jun-19</td>\n",
       "      <td>Dark Phoenix</td>\n",
       "      <td>$350,000,000</td>\n",
       "      <td>$42,762,350</td>\n",
       "      <td>$149,762,350</td>\n",
       "      <td>NaN</td>\n",
       "      <td>NaN</td>\n",
       "      <td>NaN</td>\n",
       "      <td>NaN</td>\n",
       "    </tr>\n",
       "    <tr>\n",
       "      <th>3</th>\n",
       "      <td>4.0</td>\n",
       "      <td>1-May-15</td>\n",
       "      <td>Avengers: Age of Ultron</td>\n",
       "      <td>$330,600,000</td>\n",
       "      <td>$459,005,868</td>\n",
       "      <td>$1,403,013,963</td>\n",
       "      <td>NaN</td>\n",
       "      <td>NaN</td>\n",
       "      <td>NaN</td>\n",
       "      <td>NaN</td>\n",
       "    </tr>\n",
       "    <tr>\n",
       "      <th>4</th>\n",
       "      <td>5.0</td>\n",
       "      <td>15-Dec-17</td>\n",
       "      <td>Star Wars Ep. VIII: The Last Jedi</td>\n",
       "      <td>$317,000,000</td>\n",
       "      <td>$620,181,382</td>\n",
       "      <td>$1,316,721,747</td>\n",
       "      <td>NaN</td>\n",
       "      <td>NaN</td>\n",
       "      <td>NaN</td>\n",
       "      <td>NaN</td>\n",
       "    </tr>\n",
       "  </tbody>\n",
       "</table>\n",
       "</div>"
      ],
      "text/plain": [
       "    id release_date                                        movie   \n",
       "0  1.0    18-Dec-09                                       Avatar  \\\n",
       "1  2.0    20-May-11  Pirates of the Caribbean: On Stranger Tides   \n",
       "2  3.0     7-Jun-19                                 Dark Phoenix   \n",
       "3  4.0     1-May-15                      Avengers: Age of Ultron   \n",
       "4  5.0    15-Dec-17            Star Wars Ep. VIII: The Last Jedi   \n",
       "\n",
       "  production_budget domestic_gross  worldwide_gross title studio   \n",
       "0     $425,000,000   $760,507,625   $2,776,345,279    NaN    NaN  \\\n",
       "1     $410,600,000   $241,063,875   $1,045,663,875    NaN    NaN   \n",
       "2     $350,000,000    $42,762,350     $149,762,350    NaN    NaN   \n",
       "3     $330,600,000   $459,005,868   $1,403,013,963    NaN    NaN   \n",
       "4     $317,000,000   $620,181,382   $1,316,721,747    NaN    NaN   \n",
       "\n",
       "  foreign_gross  year  \n",
       "0           NaN   NaN  \n",
       "1           NaN   NaN  \n",
       "2           NaN   NaN  \n",
       "3           NaN   NaN  \n",
       "4           NaN   NaN  "
      ]
     },
     "execution_count": 150,
     "metadata": {},
     "output_type": "execute_result"
    }
   ],
   "source": [
    "df.head()"
   ]
  },
  {
   "cell_type": "code",
   "execution_count": 151,
   "metadata": {},
   "outputs": [
    {
     "data": {
      "text/plain": [
       "id                   float64\n",
       "release_date          object\n",
       "movie                 object\n",
       "production_budget     object\n",
       "domestic_gross        object\n",
       "worldwide_gross       object\n",
       "title                 object\n",
       "studio                object\n",
       "foreign_gross         object\n",
       "year                 float64\n",
       "dtype: object"
      ]
     },
     "execution_count": 151,
     "metadata": {},
     "output_type": "execute_result"
    }
   ],
   "source": [
    "df.dtypes"
   ]
  },
  {
   "cell_type": "code",
   "execution_count": 152,
   "metadata": {},
   "outputs": [
    {
     "data": {
      "text/plain": [
       "3387"
      ]
     },
     "execution_count": 152,
     "metadata": {},
     "output_type": "execute_result"
    }
   ],
   "source": [
    "#find missing values for the column production budget \n",
    "df['production_budget'].isna().sum()"
   ]
  },
  {
   "cell_type": "code",
   "execution_count": 153,
   "metadata": {},
   "outputs": [
    {
     "data": {
      "text/plain": [
       "0       $425,000,000 \n",
       "1       $410,600,000 \n",
       "2       $350,000,000 \n",
       "3       $330,600,000 \n",
       "4       $317,000,000 \n",
       "            ...      \n",
       "5777          $7,000 \n",
       "5778          $6,000 \n",
       "5779          $5,000 \n",
       "5780          $1,400 \n",
       "5781          $1,100 \n",
       "Name: production_budget, Length: 5782, dtype: object"
      ]
     },
     "execution_count": 153,
     "metadata": {},
     "output_type": "execute_result"
    }
   ],
   "source": [
    "#drop missing values \n",
    "df['production_budget'].dropna()"
   ]
  },
  {
   "cell_type": "code",
   "execution_count": 154,
   "metadata": {},
   "outputs": [
    {
     "data": {
      "text/html": [
       "<div>\n",
       "<style scoped>\n",
       "    .dataframe tbody tr th:only-of-type {\n",
       "        vertical-align: middle;\n",
       "    }\n",
       "\n",
       "    .dataframe tbody tr th {\n",
       "        vertical-align: top;\n",
       "    }\n",
       "\n",
       "    .dataframe thead th {\n",
       "        text-align: right;\n",
       "    }\n",
       "</style>\n",
       "<table border=\"1\" class=\"dataframe\">\n",
       "  <thead>\n",
       "    <tr style=\"text-align: right;\">\n",
       "      <th></th>\n",
       "      <th>id</th>\n",
       "      <th>release_date</th>\n",
       "      <th>movie</th>\n",
       "      <th>production_budget</th>\n",
       "      <th>domestic_gross</th>\n",
       "      <th>worldwide_gross</th>\n",
       "      <th>title</th>\n",
       "      <th>studio</th>\n",
       "      <th>foreign_gross</th>\n",
       "      <th>year</th>\n",
       "    </tr>\n",
       "  </thead>\n",
       "  <tbody>\n",
       "    <tr>\n",
       "      <th>0</th>\n",
       "      <td>1.0</td>\n",
       "      <td>18-Dec-09</td>\n",
       "      <td>Avatar</td>\n",
       "      <td>$425,000,000</td>\n",
       "      <td>$760,507,625</td>\n",
       "      <td>$2,776,345,279</td>\n",
       "      <td>NaN</td>\n",
       "      <td>NaN</td>\n",
       "      <td>NaN</td>\n",
       "      <td>NaN</td>\n",
       "    </tr>\n",
       "    <tr>\n",
       "      <th>1</th>\n",
       "      <td>2.0</td>\n",
       "      <td>20-May-11</td>\n",
       "      <td>Pirates of the Caribbean: On Stranger Tides</td>\n",
       "      <td>$410,600,000</td>\n",
       "      <td>$241,063,875</td>\n",
       "      <td>$1,045,663,875</td>\n",
       "      <td>NaN</td>\n",
       "      <td>NaN</td>\n",
       "      <td>NaN</td>\n",
       "      <td>NaN</td>\n",
       "    </tr>\n",
       "    <tr>\n",
       "      <th>2</th>\n",
       "      <td>3.0</td>\n",
       "      <td>7-Jun-19</td>\n",
       "      <td>Dark Phoenix</td>\n",
       "      <td>$350,000,000</td>\n",
       "      <td>$42,762,350</td>\n",
       "      <td>$149,762,350</td>\n",
       "      <td>NaN</td>\n",
       "      <td>NaN</td>\n",
       "      <td>NaN</td>\n",
       "      <td>NaN</td>\n",
       "    </tr>\n",
       "    <tr>\n",
       "      <th>3</th>\n",
       "      <td>4.0</td>\n",
       "      <td>1-May-15</td>\n",
       "      <td>Avengers: Age of Ultron</td>\n",
       "      <td>$330,600,000</td>\n",
       "      <td>$459,005,868</td>\n",
       "      <td>$1,403,013,963</td>\n",
       "      <td>NaN</td>\n",
       "      <td>NaN</td>\n",
       "      <td>NaN</td>\n",
       "      <td>NaN</td>\n",
       "    </tr>\n",
       "    <tr>\n",
       "      <th>4</th>\n",
       "      <td>5.0</td>\n",
       "      <td>15-Dec-17</td>\n",
       "      <td>Star Wars Ep. VIII: The Last Jedi</td>\n",
       "      <td>$317,000,000</td>\n",
       "      <td>$620,181,382</td>\n",
       "      <td>$1,316,721,747</td>\n",
       "      <td>NaN</td>\n",
       "      <td>NaN</td>\n",
       "      <td>NaN</td>\n",
       "      <td>NaN</td>\n",
       "    </tr>\n",
       "    <tr>\n",
       "      <th>...</th>\n",
       "      <td>...</td>\n",
       "      <td>...</td>\n",
       "      <td>...</td>\n",
       "      <td>...</td>\n",
       "      <td>...</td>\n",
       "      <td>...</td>\n",
       "      <td>...</td>\n",
       "      <td>...</td>\n",
       "      <td>...</td>\n",
       "      <td>...</td>\n",
       "    </tr>\n",
       "    <tr>\n",
       "      <th>5777</th>\n",
       "      <td>78.0</td>\n",
       "      <td>31-Dec-18</td>\n",
       "      <td>Red 11</td>\n",
       "      <td>$7,000</td>\n",
       "      <td>$0</td>\n",
       "      <td>$0</td>\n",
       "      <td>NaN</td>\n",
       "      <td>NaN</td>\n",
       "      <td>NaN</td>\n",
       "      <td>NaN</td>\n",
       "    </tr>\n",
       "    <tr>\n",
       "      <th>5778</th>\n",
       "      <td>79.0</td>\n",
       "      <td>2-Apr-99</td>\n",
       "      <td>Following</td>\n",
       "      <td>$6,000</td>\n",
       "      <td>$48,482</td>\n",
       "      <td>$240,495</td>\n",
       "      <td>NaN</td>\n",
       "      <td>NaN</td>\n",
       "      <td>NaN</td>\n",
       "      <td>NaN</td>\n",
       "    </tr>\n",
       "    <tr>\n",
       "      <th>5779</th>\n",
       "      <td>80.0</td>\n",
       "      <td>13-Jul-05</td>\n",
       "      <td>Return to the Land of Wonders</td>\n",
       "      <td>$5,000</td>\n",
       "      <td>$1,338</td>\n",
       "      <td>$1,338</td>\n",
       "      <td>NaN</td>\n",
       "      <td>NaN</td>\n",
       "      <td>NaN</td>\n",
       "      <td>NaN</td>\n",
       "    </tr>\n",
       "    <tr>\n",
       "      <th>5780</th>\n",
       "      <td>81.0</td>\n",
       "      <td>29-Sep-15</td>\n",
       "      <td>A Plague So Pleasant</td>\n",
       "      <td>$1,400</td>\n",
       "      <td>$0</td>\n",
       "      <td>$0</td>\n",
       "      <td>NaN</td>\n",
       "      <td>NaN</td>\n",
       "      <td>NaN</td>\n",
       "      <td>NaN</td>\n",
       "    </tr>\n",
       "    <tr>\n",
       "      <th>5781</th>\n",
       "      <td>82.0</td>\n",
       "      <td>5-Aug-05</td>\n",
       "      <td>My Date With Drew</td>\n",
       "      <td>$1,100</td>\n",
       "      <td>$181,041</td>\n",
       "      <td>$181,041</td>\n",
       "      <td>NaN</td>\n",
       "      <td>NaN</td>\n",
       "      <td>NaN</td>\n",
       "      <td>NaN</td>\n",
       "    </tr>\n",
       "  </tbody>\n",
       "</table>\n",
       "<p>5782 rows × 10 columns</p>\n",
       "</div>"
      ],
      "text/plain": [
       "        id release_date                                        movie   \n",
       "0      1.0    18-Dec-09                                       Avatar  \\\n",
       "1      2.0    20-May-11  Pirates of the Caribbean: On Stranger Tides   \n",
       "2      3.0     7-Jun-19                                 Dark Phoenix   \n",
       "3      4.0     1-May-15                      Avengers: Age of Ultron   \n",
       "4      5.0    15-Dec-17            Star Wars Ep. VIII: The Last Jedi   \n",
       "...    ...          ...                                          ...   \n",
       "5777  78.0    31-Dec-18                                       Red 11   \n",
       "5778  79.0     2-Apr-99                                    Following   \n",
       "5779  80.0    13-Jul-05                Return to the Land of Wonders   \n",
       "5780  81.0    29-Sep-15                         A Plague So Pleasant   \n",
       "5781  82.0     5-Aug-05                            My Date With Drew   \n",
       "\n",
       "     production_budget domestic_gross  worldwide_gross title studio   \n",
       "0        $425,000,000   $760,507,625   $2,776,345,279    NaN    NaN  \\\n",
       "1        $410,600,000   $241,063,875   $1,045,663,875    NaN    NaN   \n",
       "2        $350,000,000    $42,762,350     $149,762,350    NaN    NaN   \n",
       "3        $330,600,000   $459,005,868   $1,403,013,963    NaN    NaN   \n",
       "4        $317,000,000   $620,181,382   $1,316,721,747    NaN    NaN   \n",
       "...                ...            ...              ...   ...    ...   \n",
       "5777           $7,000             $0               $0    NaN    NaN   \n",
       "5778           $6,000        $48,482         $240,495    NaN    NaN   \n",
       "5779           $5,000         $1,338           $1,338    NaN    NaN   \n",
       "5780           $1,400             $0               $0    NaN    NaN   \n",
       "5781           $1,100       $181,041         $181,041    NaN    NaN   \n",
       "\n",
       "     foreign_gross  year  \n",
       "0              NaN   NaN  \n",
       "1              NaN   NaN  \n",
       "2              NaN   NaN  \n",
       "3              NaN   NaN  \n",
       "4              NaN   NaN  \n",
       "...            ...   ...  \n",
       "5777           NaN   NaN  \n",
       "5778           NaN   NaN  \n",
       "5779           NaN   NaN  \n",
       "5780           NaN   NaN  \n",
       "5781           NaN   NaN  \n",
       "\n",
       "[5782 rows x 10 columns]"
      ]
     },
     "execution_count": 154,
     "metadata": {},
     "output_type": "execute_result"
    }
   ],
   "source": [
    "df.dropna(subset=['domestic_gross', 'worldwide_gross'])"
   ]
  },
  {
   "cell_type": "code",
   "execution_count": 155,
   "metadata": {},
   "outputs": [
    {
     "data": {
      "text/plain": [
       "5787"
      ]
     },
     "execution_count": 155,
     "metadata": {},
     "output_type": "execute_result"
    }
   ],
   "source": [
    "df['studio'].isna().sum()"
   ]
  },
  {
   "cell_type": "code",
   "execution_count": 156,
   "metadata": {},
   "outputs": [
    {
     "data": {
      "text/plain": [
       "0               BV\n",
       "1               BV\n",
       "2               WB\n",
       "3               WB\n",
       "4             P/DW\n",
       "           ...    \n",
       "3382         Magn.\n",
       "3383            FM\n",
       "3384          Sony\n",
       "3385    Synergetic\n",
       "3386         Grav.\n",
       "Name: studio, Length: 3382, dtype: object"
      ]
     },
     "execution_count": 156,
     "metadata": {},
     "output_type": "execute_result"
    }
   ],
   "source": [
    "#drop missing values in studio column\n",
    "df['studio'].dropna()"
   ]
  },
  {
   "cell_type": "code",
   "execution_count": 157,
   "metadata": {},
   "outputs": [],
   "source": [
    "#count per studio\n",
    "studio_count = df[\"studio\"].value_counts()"
   ]
  },
  {
   "cell_type": "code",
   "execution_count": 158,
   "metadata": {},
   "outputs": [
    {
     "data": {
      "text/plain": [
       "studio\n",
       "IFC      166\n",
       "Uni.     147\n",
       "WB       140\n",
       "Fox      136\n",
       "Magn.    136\n",
       "Name: count, dtype: int64"
      ]
     },
     "execution_count": 158,
     "metadata": {},
     "output_type": "execute_result"
    }
   ],
   "source": [
    "top_5_studios = studio_count.iloc[:5]\n",
    "top_5_studios"
   ]
  },
  {
   "cell_type": "code",
   "execution_count": null,
   "metadata": {},
   "outputs": [],
   "source": []
  },
  {
   "cell_type": "code",
   "execution_count": 159,
   "metadata": {},
   "outputs": [
    {
     "data": {
      "text/plain": [
       "(9169, 6)"
      ]
     },
     "execution_count": 159,
     "metadata": {},
     "output_type": "execute_result"
    }
   ],
   "source": [
    "#filter data on relevant columns \n",
    "relevant_columns = [\n",
    "    \"movie\",\n",
    "    \"production_budget\",\n",
    "    \"worldwide_gross\",\n",
    "    \"domestic_gross\",\n",
    "    \"foreign_gross\",\n",
    "    \"studio\"\n",
    "]\n",
    "df= df[relevant_columns]\n",
    "df.shape"
   ]
  },
  {
   "cell_type": "code",
   "execution_count": 183,
   "metadata": {},
   "outputs": [],
   "source": [
    "df.drop_duplicates(inplace=True)"
   ]
  },
  {
   "cell_type": "code",
   "execution_count": 160,
   "metadata": {},
   "outputs": [
    {
     "name": "stdout",
     "output_type": "stream",
     "text": [
      "0       425000000 \n",
      "1       410600000 \n",
      "2       350000000 \n",
      "3       330600000 \n",
      "4       317000000 \n",
      "           ...    \n",
      "3382           NaN\n",
      "3383           NaN\n",
      "3384           NaN\n",
      "3385           NaN\n",
      "3386           NaN\n",
      "Name: production_budget, Length: 9169, dtype: object\n"
     ]
    }
   ],
   "source": [
    "#remove commas from object column \n",
    "df['production_budget'] = df['production_budget'].str.replace(',', '')\n",
    "df['production_budget'] = df['production_budget'].str.replace('$', '')\n",
    "print(df['production_budget'])"
   ]
  },
  {
   "cell_type": "code",
   "execution_count": 161,
   "metadata": {},
   "outputs": [
    {
     "name": "stdout",
     "output_type": "stream",
     "text": [
      "0       2776345279 \n",
      "1       1045663875 \n",
      "2        149762350 \n",
      "3       1403013963 \n",
      "4       1316721747 \n",
      "           ...     \n",
      "3382            NaN\n",
      "3383            NaN\n",
      "3384            NaN\n",
      "3385            NaN\n",
      "3386            NaN\n",
      "Name: worldwide_gross, Length: 9169, dtype: object\n"
     ]
    }
   ],
   "source": [
    "df['worldwide_gross'] = df['worldwide_gross'].str.replace(',', '')\n",
    "df['worldwide_gross'] = df['worldwide_gross'].str.replace('$', '')\n",
    "print(df['worldwide_gross'])"
   ]
  },
  {
   "cell_type": "code",
   "execution_count": 162,
   "metadata": {},
   "outputs": [
    {
     "name": "stdout",
     "output_type": "stream",
     "text": [
      "0       760507625 \n",
      "1       241063875 \n",
      "2        42762350 \n",
      "3       459005868 \n",
      "4       620181382 \n",
      "           ...    \n",
      "3382           NaN\n",
      "3383           NaN\n",
      "3384           NaN\n",
      "3385           NaN\n",
      "3386           NaN\n",
      "Name: domestic_gross, Length: 9169, dtype: object\n"
     ]
    }
   ],
   "source": [
    "df['domestic_gross'] = df['domestic_gross'].str.replace(',', '')\n",
    "df['domestic_gross'] = df['domestic_gross'].str.replace('$', '')\n",
    "print(df['domestic_gross'])"
   ]
  },
  {
   "cell_type": "code",
   "execution_count": 163,
   "metadata": {},
   "outputs": [
    {
     "name": "stdout",
     "output_type": "stream",
     "text": [
      "movie                 object\n",
      "production_budget    float64\n",
      "worldwide_gross      float64\n",
      "domestic_gross       float64\n",
      "foreign_gross         object\n",
      "studio                object\n",
      "dtype: object\n"
     ]
    }
   ],
   "source": [
    "#convert these columns to float\n",
    "columns_to_convert = [\"production_budget\", \"worldwide_gross\", \"domestic_gross\"]\n",
    "df[columns_to_convert] = df[columns_to_convert].astype(float)\n",
    "\n",
    "print(df.dtypes)"
   ]
  },
  {
   "cell_type": "code",
   "execution_count": 164,
   "metadata": {},
   "outputs": [
    {
     "data": {
      "text/plain": [
       "(5782,)"
      ]
     },
     "execution_count": 164,
     "metadata": {},
     "output_type": "execute_result"
    }
   ],
   "source": [
    "#drop rows with missing values\n",
    "df = df.dropna(subset= ['production_budget'])\n",
    "df['production_budget'].shape"
   ]
  },
  {
   "cell_type": "code",
   "execution_count": 165,
   "metadata": {},
   "outputs": [
    {
     "data": {
      "text/plain": [
       "(5782,)"
      ]
     },
     "execution_count": 165,
     "metadata": {},
     "output_type": "execute_result"
    }
   ],
   "source": [
    "df = df.dropna(subset= ['worldwide_gross'])\n",
    "df['worldwide_gross'].shape"
   ]
  },
  {
   "cell_type": "code",
   "execution_count": 166,
   "metadata": {},
   "outputs": [
    {
     "data": {
      "text/plain": [
       "0    425000000.0\n",
       "1    410600000.0\n",
       "2    350000000.0\n",
       "3    330600000.0\n",
       "4    317000000.0\n",
       "5    306000000.0\n",
       "6    300000000.0\n",
       "7    300000000.0\n",
       "8    300000000.0\n",
       "9    300000000.0\n",
       "Name: production_budget, dtype: float64"
      ]
     },
     "execution_count": 166,
     "metadata": {},
     "output_type": "execute_result"
    }
   ],
   "source": [
    "# Get the top 10 values from column production budget \n",
    "top_10_pro_budget = df['production_budget'].nlargest(10)\n",
    "top_10_pro_budget"
   ]
  },
  {
   "cell_type": "code",
   "execution_count": 167,
   "metadata": {},
   "outputs": [
    {
     "name": "stdout",
     "output_type": "stream",
     "text": [
      "object\n"
     ]
    }
   ],
   "source": [
    "df['worldwide_gross'] = df['worldwide_gross'].astype(str)\n",
    "print(df['worldwide_gross'].dtypes)\n"
   ]
  },
  {
   "cell_type": "code",
   "execution_count": 168,
   "metadata": {},
   "outputs": [
    {
     "data": {
      "text/plain": [
       "0       27763452790\n",
       "1       10456638750\n",
       "2        1497623500\n",
       "3       14030139630\n",
       "4       13167217470\n",
       "           ...     \n",
       "5777             00\n",
       "5778        2404950\n",
       "5779          13380\n",
       "5780             00\n",
       "5781        1810410\n",
       "Name: worldwide_gross, Length: 5782, dtype: object"
      ]
     },
     "execution_count": 168,
     "metadata": {},
     "output_type": "execute_result"
    }
   ],
   "source": [
    "df['worldwide_gross'] = df['worldwide_gross'].str.replace('.', '')\n",
    "df['worldwide_gross'] = df['worldwide_gross'].str.replace('+', '')\n",
    "df['worldwide_gross']"
   ]
  },
  {
   "cell_type": "code",
   "execution_count": 169,
   "metadata": {},
   "outputs": [
    {
     "name": "stdout",
     "output_type": "stream",
     "text": [
      "0       2.776345e+10\n",
      "1       1.045664e+10\n",
      "2       1.497624e+09\n",
      "3       1.403014e+10\n",
      "4       1.316722e+10\n",
      "            ...     \n",
      "5777    0.000000e+00\n",
      "5778    2.404950e+06\n",
      "5779    1.338000e+04\n",
      "5780    0.000000e+00\n",
      "5781    1.810410e+06\n",
      "Name: worldwide_gross, Length: 5782, dtype: float64\n"
     ]
    }
   ],
   "source": [
    "# Convert column worldwide gross to float data type\n",
    "df['worldwide_gross'] = df['worldwide_gross'].astype(float)\n",
    "\n",
    "print(df['worldwide_gross'])"
   ]
  },
  {
   "cell_type": "code",
   "execution_count": 170,
   "metadata": {},
   "outputs": [
    {
     "data": {
      "text/plain": [
       "0      2.776345e+10\n",
       "42     2.208208e+10\n",
       "5      2.053311e+10\n",
       "6      2.048134e+10\n",
       "33     1.648855e+10\n",
       "66     1.518723e+10\n",
       "26     1.517936e+10\n",
       "3      1.403014e+10\n",
       "41     1.348258e+10\n",
       "260    1.341693e+10\n",
       "Name: worldwide_gross, dtype: float64"
      ]
     },
     "execution_count": 170,
     "metadata": {},
     "output_type": "execute_result"
    }
   ],
   "source": [
    "top_10_world_gross = df['worldwide_gross'].nlargest(10)\n",
    "top_10_world_gross"
   ]
  },
  {
   "cell_type": "code",
   "execution_count": 171,
   "metadata": {},
   "outputs": [
    {
     "data": {
      "text/plain": [
       "5     936662225.0\n",
       "0     760507625.0\n",
       "41    700059566.0\n",
       "6     678815482.0\n",
       "42    659363944.0\n",
       "33    652270625.0\n",
       "26    623279547.0\n",
       "4     620181382.0\n",
       "43    608581744.0\n",
       "74    533720947.0\n",
       "Name: domestic_gross, dtype: float64"
      ]
     },
     "execution_count": 171,
     "metadata": {},
     "output_type": "execute_result"
    }
   ],
   "source": [
    "top_10_dom_gross = df['domestic_gross'].nlargest(10)\n",
    "top_10_dom_gross"
   ]
  },
  {
   "cell_type": "code",
   "execution_count": 172,
   "metadata": {},
   "outputs": [
    {
     "data": {
      "text/plain": [
       "Index(['movie', 'production_budget', 'worldwide_gross', 'domestic_gross',\n",
       "       'foreign_gross', 'studio'],\n",
       "      dtype='object')"
      ]
     },
     "execution_count": 172,
     "metadata": {},
     "output_type": "execute_result"
    }
   ],
   "source": [
    "df.columns"
   ]
  },
  {
   "cell_type": "code",
   "execution_count": 173,
   "metadata": {},
   "outputs": [
    {
     "data": {
      "text/html": [
       "<div>\n",
       "<style scoped>\n",
       "    .dataframe tbody tr th:only-of-type {\n",
       "        vertical-align: middle;\n",
       "    }\n",
       "\n",
       "    .dataframe tbody tr th {\n",
       "        vertical-align: top;\n",
       "    }\n",
       "\n",
       "    .dataframe thead th {\n",
       "        text-align: right;\n",
       "    }\n",
       "</style>\n",
       "<table border=\"1\" class=\"dataframe\">\n",
       "  <thead>\n",
       "    <tr style=\"text-align: right;\">\n",
       "      <th></th>\n",
       "      <th>movie</th>\n",
       "      <th>production_budget</th>\n",
       "      <th>worldwide_gross</th>\n",
       "      <th>domestic_gross</th>\n",
       "      <th>foreign_gross</th>\n",
       "      <th>studio</th>\n",
       "    </tr>\n",
       "  </thead>\n",
       "  <tbody>\n",
       "    <tr>\n",
       "      <th>0</th>\n",
       "      <td>Avatar</td>\n",
       "      <td>425000000.0</td>\n",
       "      <td>2.776345e+10</td>\n",
       "      <td>760507625.0</td>\n",
       "      <td>NaN</td>\n",
       "      <td>NaN</td>\n",
       "    </tr>\n",
       "    <tr>\n",
       "      <th>1</th>\n",
       "      <td>Pirates of the Caribbean: On Stranger Tides</td>\n",
       "      <td>410600000.0</td>\n",
       "      <td>1.045664e+10</td>\n",
       "      <td>241063875.0</td>\n",
       "      <td>NaN</td>\n",
       "      <td>NaN</td>\n",
       "    </tr>\n",
       "    <tr>\n",
       "      <th>2</th>\n",
       "      <td>Dark Phoenix</td>\n",
       "      <td>350000000.0</td>\n",
       "      <td>1.497624e+09</td>\n",
       "      <td>42762350.0</td>\n",
       "      <td>NaN</td>\n",
       "      <td>NaN</td>\n",
       "    </tr>\n",
       "    <tr>\n",
       "      <th>3</th>\n",
       "      <td>Avengers: Age of Ultron</td>\n",
       "      <td>330600000.0</td>\n",
       "      <td>1.403014e+10</td>\n",
       "      <td>459005868.0</td>\n",
       "      <td>NaN</td>\n",
       "      <td>NaN</td>\n",
       "    </tr>\n",
       "    <tr>\n",
       "      <th>4</th>\n",
       "      <td>Star Wars Ep. VIII: The Last Jedi</td>\n",
       "      <td>317000000.0</td>\n",
       "      <td>1.316722e+10</td>\n",
       "      <td>620181382.0</td>\n",
       "      <td>NaN</td>\n",
       "      <td>NaN</td>\n",
       "    </tr>\n",
       "  </tbody>\n",
       "</table>\n",
       "</div>"
      ],
      "text/plain": [
       "                                         movie  production_budget   \n",
       "0                                       Avatar        425000000.0  \\\n",
       "1  Pirates of the Caribbean: On Stranger Tides        410600000.0   \n",
       "2                                 Dark Phoenix        350000000.0   \n",
       "3                      Avengers: Age of Ultron        330600000.0   \n",
       "4            Star Wars Ep. VIII: The Last Jedi        317000000.0   \n",
       "\n",
       "   worldwide_gross  domestic_gross foreign_gross studio  \n",
       "0     2.776345e+10     760507625.0           NaN    NaN  \n",
       "1     1.045664e+10     241063875.0           NaN    NaN  \n",
       "2     1.497624e+09      42762350.0           NaN    NaN  \n",
       "3     1.403014e+10     459005868.0           NaN    NaN  \n",
       "4     1.316722e+10     620181382.0           NaN    NaN  "
      ]
     },
     "execution_count": 173,
     "metadata": {},
     "output_type": "execute_result"
    }
   ],
   "source": [
    "\n",
    "\n",
    "# Display the first few rows of the data\n",
    "df.head()\n"
   ]
  },
  {
   "cell_type": "code",
   "execution_count": 174,
   "metadata": {},
   "outputs": [],
   "source": [
    "#df['worldwide_gross'] = df['worldwide_gross']*\n",
    "#df['worldwide_gross']"
   ]
  },
  {
   "attachments": {},
   "cell_type": "markdown",
   "metadata": {},
   "source": [
    "Data Visualization plays a crucial role in data science as it helps in understanding and communicating insights from data effectively. Here are some of my data visualization techniques"
   ]
  },
  {
   "cell_type": "code",
   "execution_count": 175,
   "metadata": {},
   "outputs": [
    {
     "name": "stdout",
     "output_type": "stream",
     "text": [
      "0       425000000.0\n",
      "1       410600000.0\n",
      "2       350000000.0\n",
      "3       330600000.0\n",
      "4       317000000.0\n",
      "           ...     \n",
      "5777         7000.0\n",
      "5778         6000.0\n",
      "5779         5000.0\n",
      "5780         1400.0\n",
      "5781         1100.0\n",
      "Name: production_budget, Length: 5782, dtype: float64\n"
     ]
    }
   ],
   "source": [
    "df['production_budget'] = df['production_budget'].astype(float)\n",
    "\n",
    "print(df['production_budget'])"
   ]
  },
  {
   "cell_type": "code",
   "execution_count": 176,
   "metadata": {},
   "outputs": [
    {
     "data": {
      "image/png": "[encoded data removed]",
      "text/plain": [
       "<Figure size 800x600 with 1 Axes>"
      ]
     },
     "metadata": {},
     "output_type": "display_data"
    }
   ],
   "source": [
    "#top_10_pro_budget = df['production_budget'].nlargest(10)\n",
    "#mean_pro_budget = top_10_pro_budget.mean()\n",
    "#movies = result_list\n",
    "\n",
    "#fig, ax = plt.subplots(figsize=(8, 6))\n",
    "#ax.hist(top_10_pro_budget, bins=10, alpha=0.8, color='green')\n",
    "#ax.axvline(mean_pro_budget, color='black', linestyle='dashed', linewidth=1)\n",
    "#ax.set_title('Distribution of Production Budget')\n",
    "#ax.set_xlabel('top_10_pro_budget')\n",
    "#ax.set_ylabel('movies')\n",
    "#plt.show()"
   ]
  },
  {
   "cell_type": "code",
   "execution_count": 177,
   "metadata": {},
   "outputs": [
    {
     "data": {
      "image/png": "[encoded data removed]",
      "text/plain": [
       "<Figure size 640x480 with 1 Axes>"
      ]
     },
     "metadata": {},
     "output_type": "display_data"
    }
   ],
   "source": [
    "#plot a scatter plot\n",
    "#lt.xlabel('Domestic_gross')\n",
    "#plt.ylabel('Worldwide_gross')\n",
    "#plt.title('Worldwide Gross v Domestic Gross')\n",
    "#plt.show()"
   ]
  },
  {
   "cell_type": "code",
   "execution_count": null,
   "metadata": {},
   "outputs": [],
   "source": []
  },
  {
   "cell_type": "code",
   "execution_count": null,
   "metadata": {},
   "outputs": [],
   "source": []
  },
  {
   "cell_type": "code",
   "execution_count": null,
   "metadata": {},
   "outputs": [],
   "source": []
  },
  {
   "cell_type": "code",
   "execution_count": null,
   "metadata": {},
   "outputs": [],
   "source": []
  },
  {
   "cell_type": "code",
   "execution_count": null,
   "metadata": {},
   "outputs": [],
   "source": []
  },
  {
   "cell_type": "code",
   "execution_count": null,
   "metadata": {},
   "outputs": [],
   "source": []
  },
  {
   "cell_type": "code",
   "execution_count": null,
   "metadata": {},
   "outputs": [],
   "source": []
  }
 ],
 "metadata": {
  "kernelspec": {
   "display_name": "learn-env",
   "language": "python",
   "name": "python3"
  },
  "language_info": {
   "codemirror_mode": {
    "name": "ipython",
    "version": 3
   },
   "file_extension": ".py",
   "mimetype": "text/x-python",
   "name": "python",
   "nbconvert_exporter": "python",
   "pygments_lexer": "ipython3",
   "version": "3.10.11"
  },
  "orig_nbformat": 4
 },
 "nbformat": 4,
 "nbformat_minor": 2
}
